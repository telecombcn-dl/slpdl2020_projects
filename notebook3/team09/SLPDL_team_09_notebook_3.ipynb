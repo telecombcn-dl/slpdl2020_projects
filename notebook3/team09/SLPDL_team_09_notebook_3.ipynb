{
  "nbformat": 4,
  "nbformat_minor": 0,
  "metadata": {
    "colab": {
      "name": "SLPDL_team_09_notebook_3.ipynb",
      "provenance": [],
      "collapsed_sections": []
    },
    "kernelspec": {
      "name": "python3",
      "display_name": "Python 3"
    },
    "accelerator": "GPU"
  },
  "cells": [
    {
      "cell_type": "markdown",
      "metadata": {
        "id": "OMYlERQfnO6d",
        "colab_type": "text"
      },
      "source": [
        "# Instructions of this exercise\n",
        "\n",
        "This jupyter notebook is an exercise for you to practice with basic speech classification with neural networks.\n",
        "\n",
        "The different sections have comments that will guide you through the different stages of the processing.\n",
        "\n",
        "You will find parts in this notebook that are missing. They are marked with a \"TODO\", with an explanation about what you are supposed to write or code in that gap. Sometimes you may be requested to implement an algorithm or a piece of code that behaves in a specific way. Other times, you may be requested to explain what a specific piece of code does or why it is needed. In some cases, the requests may contain a \"trap\", e.g. the thing you are requested to implement can't be done for whatever reason, or it may need an extra preprocessing step for it to be possible.\n",
        "\n",
        "If you have any doubt, do not hesitate to contact the instructor at noe.casas@upc.edu"
      ]
    },
    {
      "cell_type": "markdown",
      "metadata": {
        "id": "ig4eszbtrAG9",
        "colab_type": "text"
      },
      "source": [
        "# Requirements\n",
        "\n",
        "In order to follow this notebook you need working knowledge on:\n",
        "\n",
        "- Python programming.\n",
        "- Pytorch basics. Do not forget to check the pytorch documentation to understand the purpose of each function/class, as well as what inputs they expect and what kind of result the give.\n",
        "- Signal processing basics (e.g. Mel spectrograms).\n",
        "- Convolutional networks. A good general starting point may be [Stanford's CS231n course](http://cs231n.github.io/convolutional-networks/).\n",
        "- Unix command line basics.\n",
        "\n",
        "If you lack any of them, please acquire the needed knowledge on the internet, where there is plenty of material about the three topics."
      ]
    },
    {
      "cell_type": "markdown",
      "metadata": {
        "id": "ZLRUkGD9rPDT",
        "colab_type": "text"
      },
      "source": [
        "# Installation of extra libraries\n",
        "\n",
        "First, let's install some libraries that may be missing from your python environment:\n",
        "\n",
        "- librosa: a must for audio processing. Here we will be using mainly to compute the Mel spectrogram.\n",
        "- soundfile: to load waveform files. We could also have used librosa, but librosa's file loading function resamples the waveform by default and it is somewhat error prone (see [this post](https://librosa.github.io/blog/2019/07/17/resample-on-load/#resample-on-load) for further info).\n",
        "- pillow: API-compatible successor of PIL (Python Imaging Library), which is a widely used python library.\n",
        "- pytorch"
      ]
    },
    {
      "cell_type": "code",
      "metadata": {
        "id": "0Nm1UdimrSX9",
        "colab_type": "code",
        "outputId": "9f1e29dc-2ee9-41e8-a20c-45491bfeea0a",
        "colab": {
          "base_uri": "https://localhost:8080/",
          "height": 343
        }
      },
      "source": [
        "!pip install pysoundfile librosa torch pillow"
      ],
      "execution_count": 1,
      "outputs": [
        {
          "output_type": "stream",
          "text": [
            "Requirement already satisfied: pysoundfile in /usr/local/lib/python3.6/dist-packages (0.9.0.post1)\n",
            "Requirement already satisfied: librosa in /usr/local/lib/python3.6/dist-packages (0.6.3)\n",
            "Requirement already satisfied: torch in /usr/local/lib/python3.6/dist-packages (1.5.0+cu101)\n",
            "Requirement already satisfied: pillow in /usr/local/lib/python3.6/dist-packages (7.0.0)\n",
            "Requirement already satisfied: cffi>=0.6 in /usr/local/lib/python3.6/dist-packages (from pysoundfile) (1.14.0)\n",
            "Requirement already satisfied: decorator>=3.0.0 in /usr/local/lib/python3.6/dist-packages (from librosa) (4.4.2)\n",
            "Requirement already satisfied: numba>=0.38.0 in /usr/local/lib/python3.6/dist-packages (from librosa) (0.48.0)\n",
            "Requirement already satisfied: numpy>=1.8.0 in /usr/local/lib/python3.6/dist-packages (from librosa) (1.18.4)\n",
            "Requirement already satisfied: resampy>=0.2.0 in /usr/local/lib/python3.6/dist-packages (from librosa) (0.2.2)\n",
            "Requirement already satisfied: six>=1.3 in /usr/local/lib/python3.6/dist-packages (from librosa) (1.12.0)\n",
            "Requirement already satisfied: scipy>=1.0.0 in /usr/local/lib/python3.6/dist-packages (from librosa) (1.4.1)\n",
            "Requirement already satisfied: scikit-learn!=0.19.0,>=0.14.0 in /usr/local/lib/python3.6/dist-packages (from librosa) (0.22.2.post1)\n",
            "Requirement already satisfied: audioread>=2.0.0 in /usr/local/lib/python3.6/dist-packages (from librosa) (2.1.8)\n",
            "Requirement already satisfied: joblib>=0.12 in /usr/local/lib/python3.6/dist-packages (from librosa) (0.14.1)\n",
            "Requirement already satisfied: future in /usr/local/lib/python3.6/dist-packages (from torch) (0.16.0)\n",
            "Requirement already satisfied: pycparser in /usr/local/lib/python3.6/dist-packages (from cffi>=0.6->pysoundfile) (2.20)\n",
            "Requirement already satisfied: setuptools in /usr/local/lib/python3.6/dist-packages (from numba>=0.38.0->librosa) (46.3.0)\n",
            "Requirement already satisfied: llvmlite<0.32.0,>=0.31.0dev0 in /usr/local/lib/python3.6/dist-packages (from numba>=0.38.0->librosa) (0.31.0)\n"
          ],
          "name": "stdout"
        }
      ]
    },
    {
      "cell_type": "code",
      "metadata": {
        "colab_type": "code",
        "id": "IGJ-iqIe8423",
        "colab": {}
      },
      "source": [
        "# avoid jupyter printing the last result by default\n",
        "\n",
        "from IPython.core.interactiveshell import InteractiveShell\n",
        "InteractiveShell.ast_node_interactivity = \"none\""
      ],
      "execution_count": 0,
      "outputs": []
    },
    {
      "cell_type": "markdown",
      "metadata": {
        "id": "LuH0COzXg5iG",
        "colab_type": "text"
      },
      "source": [
        "\n",
        "## Reproducibility\n",
        "\n",
        "We fix the random seed for reproducibility purposes. See this for details:\n",
        "https://pytorch.org/docs/stable/notes/randomness.html"
      ]
    },
    {
      "cell_type": "code",
      "metadata": {
        "id": "jx8Z6BRcg6K2",
        "colab_type": "code",
        "colab": {}
      },
      "source": [
        "import torch\n",
        "import numpy as np\n",
        "\n",
        "seed = 321\n",
        "torch.manual_seed(seed)\n",
        "torch.backends.cudnn.deterministic = True\n",
        "torch.backends.cudnn.benchmark = False\n",
        "np.random.seed(seed)"
      ],
      "execution_count": 0,
      "outputs": []
    },
    {
      "cell_type": "markdown",
      "metadata": {
        "id": "1ZFsWgy2sdcw",
        "colab_type": "text"
      },
      "source": [
        "# Free Spoken Digit dataset\n",
        "\n",
        "For this notebook we will be using a dataset called Free Spoken Digit dataset. It is a collection of utterances of digits, from 0 to 9, by 4 different speakers. It is meant to be the MNIST for speech.\n",
        "\n",
        "We will download it first:"
      ]
    },
    {
      "cell_type": "code",
      "metadata": {
        "id": "M3DWUqmBDSjV",
        "colab_type": "code",
        "colab": {}
      },
      "source": [
        "!wget -q -O repo.zip https://github.com/Jakobovski/free-spoken-digit-dataset/archive/master.zip\n",
        "!unzip -q -o repo.zip\n",
        "!rm -rf repo.zip recordings\n",
        "!mv free-spoken-digit-dataset-master/recordings .\n",
        "!rm -rf free-spoken-digit-dataset-master train valid test"
      ],
      "execution_count": 0,
      "outputs": []
    },
    {
      "cell_type": "markdown",
      "metadata": {
        "id": "74vw-jzyyCjf",
        "colab_type": "text"
      },
      "source": [
        "Given that we have labels for both the speaker and the digit, we could classify the utterances for any of those aspects. **In this exercise, we will be clasifying utterance digit**."
      ]
    },
    {
      "cell_type": "markdown",
      "metadata": {
        "id": "w8xYG3w7tWYk",
        "colab_type": "text"
      },
      "source": [
        "# Mel Spectrogram computation and storage as images\n",
        "\n",
        "We will not be dealing with the waveforms directly, but we will be computing the Mel spectrogram.\n",
        "\n",
        "Let's define a couple of functions that we will be using to conver waveforms to spectrograms:"
      ]
    },
    {
      "cell_type": "code",
      "metadata": {
        "id": "Z0yHJXrUUnbC",
        "colab_type": "code",
        "colab": {}
      },
      "source": [
        "from librosa import power_to_db\n",
        "from librosa.feature import melspectrogram\n",
        "from PIL import Image\n",
        "\n",
        "\n",
        "def sound2mel(audio_signal, sample_rate):\n",
        "    \"\"\"Computes the Mel spectrogram (in dB) of the given audio signal.\"\"\"\n",
        "\n",
        "    n_fft = 1024\n",
        "    hop_length = 256\n",
        "    n_mels = 64\n",
        "    fmin = 20\n",
        "    fmax = sample_rate / 2 \n",
        "    \n",
        "    # compute the Mel spectrogram with librosa\n",
        "    mel_spec_power = melspectrogram(audio_signal,\n",
        "                                    sr=sample_rate,\n",
        "                                    n_fft=n_fft, \n",
        "                                    hop_length=hop_length, \n",
        "                                    n_mels=n_mels,\n",
        "                                    power=2.0, \n",
        "                                    fmin=fmin,\n",
        "                                    fmax=fmax)\n",
        "    \n",
        "    # See this to better understand what you get into mel_spec_power:\n",
        "    #     https://stackoverflow.com/q/52232839/674487\n",
        "\n",
        "    # Let's better handle the spectrogram in dB\n",
        "    mel_spec_db = power_to_db(mel_spec_power, ref=np.max)\n",
        "\n",
        "    return mel_spec_db\n",
        "\n",
        "def to_grayscale_image(spec):\n",
        "    \"\"\"Takes a spectrogram and fits it into a 8-bit image\"\"\"\n",
        "    img = (((spec - spec.min()) / (spec.max() - spec.min())) * 255.9).astype(np.uint8)\n",
        "    return Image.fromarray(img)"
      ],
      "execution_count": 0,
      "outputs": []
    },
    {
      "cell_type": "markdown",
      "metadata": {
        "id": "tcXE-7TbuYQi",
        "colab_type": "text"
      },
      "source": [
        "In order to make it easier to handle the utterance as spectrograms and feed them to our neural networks, we will store these spectrograms as normal images, so that later we can use image classification data loaders.\n",
        "\n",
        "As we convert the waveforms to spectrogram and save them as images, we will also split them into training, validation and test sets. For this, we will take one of the four speakers (\"yweweler\") and we will use some of his utterances for validation and some for test. Each data split will be under a different directory (i.e. train/valid/test).\n",
        "\n",
        "Note that under each data split directory, we will have subdirectories for each different digit. We will use this later to get the utterance label."
      ]
    },
    {
      "cell_type": "code",
      "metadata": {
        "id": "9ZepHVAvuXNB",
        "colab_type": "code",
        "colab": {}
      },
      "source": [
        "import os\n",
        "import soundfile\n",
        "\n",
        "\n",
        "SPEAKERS = ['jackson', 'nicolas', 'theo', 'yweweler']\n",
        "N_SPEAKERS = 4\n",
        "N_DIGITS = 10\n",
        "N_REPETITIONS = 50\n",
        "\n",
        "for speaker_index, speaker in enumerate(SPEAKERS):\n",
        "    for digit in range(N_DIGITS):\n",
        "        for repetition in range(N_REPETITIONS):\n",
        "            sound_file = 'recordings/{}_{}_{}.wav'.format(digit, speaker, repetition)\n",
        "            audio_signal, sampling_rate = soundfile.read(sound_file)\n",
        "            spectrogram = sound2mel(audio_signal, sampling_rate)\n",
        "            split = ('test' if speaker == 'yweweler' and repetition < 25\n",
        "                     else 'valid' if speaker == 'yweweler'\n",
        "                     else 'train') \n",
        "            dirname = '{}/{}'.format(split, digit)\n",
        "            os.makedirs(dirname, exist_ok=True)\n",
        "            img_file = '{}/{}_{}_{}.png'.format(dirname, digit, speaker, repetition)\n",
        "            to_grayscale_image(spectrogram).save(img_file)"
      ],
      "execution_count": 0,
      "outputs": []
    },
    {
      "cell_type": "markdown",
      "metadata": {
        "id": "RYZJngBmxA3M",
        "colab_type": "text"
      },
      "source": [
        "# Data loading\n",
        "\n",
        "Now that we have our utterances stored as spectrogram images, we will prepare the data loading. For this, we will use **torchvision** data loaders, together with standard transformations. The most important transformation is the resizing. Take into account that the length of the utterances is not constant, but each utterance can have a different duration, which leads to Mel spectrograms of different lengths (the number of channels is fixed, though). In order to overcome this, we will simply rescale the image to a constant size."
      ]
    },
    {
      "cell_type": "code",
      "metadata": {
        "id": "i2_VMjyzkfjJ",
        "colab_type": "code",
        "colab": {
          "base_uri": "https://localhost:8080/",
          "height": 71
        },
        "outputId": "f7406f83-3785-4188-efce-6bb57332c3db"
      },
      "source": [
        "from torchvision.datasets import ImageFolder\n",
        "from torchvision import transforms\n",
        "from torch.utils.data import DataLoader\n",
        "\n",
        "transform = transforms.Compose([\n",
        "                transforms.Grayscale(),\n",
        "                transforms.Scale((128, 64)),\n",
        "                transforms.ToTensor(),\n",
        "])\n",
        "\n",
        "train_data = ImageFolder(root='./train', transform=transform)\n",
        "train_loader = DataLoader(train_data, batch_size=32, shuffle=True, num_workers=4)\n",
        "\n",
        "valid_data = ImageFolder(root='./valid', transform=transform)\n",
        "valid_loader = DataLoader(valid_data, batch_size=20, shuffle=True, num_workers=1)\n",
        "\n",
        "test_data = ImageFolder(root='./test', transform=transform)\n",
        "test_loader = DataLoader(test_data, batch_size=20, shuffle=True, num_workers=1)"
      ],
      "execution_count": 7,
      "outputs": [
        {
          "output_type": "stream",
          "text": [
            "/usr/local/lib/python3.6/dist-packages/torchvision/transforms/transforms.py:211: UserWarning: The use of the transforms.Scale transform is deprecated, please use transforms.Resize instead.\n",
            "  \"please use transforms.Resize instead.\")\n"
          ],
          "name": "stderr"
        }
      ]
    },
    {
      "cell_type": "markdown",
      "metadata": {
        "id": "Dozz1FiKxsYf",
        "colab_type": "text"
      },
      "source": [
        "Note that, by default, `ImageFolder` takes the labels from the directories directly under the root folder. This means that the image files under `train/2` will be labeled as '2', those under `train/7` will be labeled as '7'.\n",
        "\n",
        "This is how one of our spectrograms look like:"
      ]
    },
    {
      "cell_type": "code",
      "metadata": {
        "id": "8XYuOqEwklYW",
        "colab_type": "code",
        "outputId": "61649441-c871-42c7-a3ba-5a9787c1da9d",
        "colab": {
          "base_uri": "https://localhost:8080/",
          "height": 325
        }
      },
      "source": [
        "import matplotlib.pyplot as plt\n",
        "import seaborn as sns; sns.set()\n",
        "\n",
        "plt.imshow(train_data[0][0].squeeze().cpu().numpy())"
      ],
      "execution_count": 8,
      "outputs": [
        {
          "output_type": "stream",
          "text": [
            "/usr/local/lib/python3.6/dist-packages/statsmodels/tools/_testing.py:19: FutureWarning: pandas.util.testing is deprecated. Use the functions in the public API at pandas.testing instead.\n",
            "  import pandas.util.testing as tm\n"
          ],
          "name": "stderr"
        },
        {
          "output_type": "display_data",
          "data": {
            "image/png": "[encoded data removed]",
            "text/plain": [
              "<Figure size 432x288 with 1 Axes>"
            ]
          },
          "metadata": {
            "tags": []
          }
        }
      ]
    },
    {
      "cell_type": "markdown",
      "metadata": {
        "id": "sILX_ksp1lW0",
        "colab_type": "text"
      },
      "source": [
        "# Training and Evaluation Routines\n",
        "\n",
        "Let's define some functions to train our model and evaluate it under the validation set:"
      ]
    },
    {
      "cell_type": "code",
      "metadata": {
        "id": "BCkYOfDEIItT",
        "colab_type": "code",
        "colab": {}
      },
      "source": [
        "def train_epoch(model, criterion, optimizer, train_loader, log_interval, epoch):\n",
        "    # sets the model in \"training mode\", so dropout, BN, etc are active\n",
        "    model.train()\n",
        "\n",
        "    num_batches = len(train_loader)\n",
        "\n",
        "    losses = []\n",
        "    for batch_idx, batch in enumerate(train_loader):\n",
        "\n",
        "        input, targets = batch\n",
        "\n",
        "        model.zero_grad()\n",
        "\n",
        "        output = model(input.cuda())\n",
        "        loss = criterion(output, targets.cuda())\n",
        "        loss.backward()\n",
        "\n",
        "        optimizer.step()\n",
        "\n",
        "        losses.append(loss.item())\n",
        "\n",
        "        if log_interval and batch_idx % log_interval == 0:\n",
        "            percentage = 100 * batch_idx // num_batches\n",
        "            msg = 'epoch {}, progress: {}% avg.loss: {}'\n",
        "            print(msg.format(epoch, percentage, losses[-1]))\n",
        "    \n",
        "    return losses"
      ],
      "execution_count": 0,
      "outputs": []
    },
    {
      "cell_type": "code",
      "metadata": {
        "id": "x_LvwToVILLM",
        "colab_type": "code",
        "colab": {}
      },
      "source": [
        "def evaluate(model, criterion, loader):\n",
        "\n",
        "    # Sets the model in \"evaluation mode\" so dropout, BN, etc are deactivated.\n",
        "    model.eval()\n",
        "\n",
        "    num_total_elems = 0\n",
        "    loss = 0.\n",
        "    targets = []\n",
        "    preds = []\n",
        "    with torch.no_grad():\n",
        "        for batch in loader:\n",
        "            input, target = batch\n",
        "            batch_size = input.size(0)\n",
        "            logits = model(input.cuda())\n",
        "            batch_loss = criterion(logits, target.cuda()).item()\n",
        "            loss += batch_size * batch_loss\n",
        "            num_total_elems += batch_size\n",
        "            targets.extend(target.numpy().tolist())\n",
        "            preds.extend(torch.argmax(logits, dim=1).cpu().numpy().tolist())\n",
        "    \n",
        "    loss = loss / num_total_elems\n",
        "\n",
        "    return loss, targets, preds"
      ],
      "execution_count": 0,
      "outputs": []
    },
    {
      "cell_type": "code",
      "metadata": {
        "id": "lRWyCPoQIOtw",
        "colab_type": "code",
        "colab": {}
      },
      "source": [
        "import torch.nn as nn\n",
        "import torch.nn.functional as F\n",
        "import torch.optim as optim\n",
        "\n",
        "\n",
        "def train_model(model, lr, num_epochs, train_loader, valid_loader, log_interval):\n",
        "\n",
        "    # The output of the model must be compatible with this loss function\n",
        "    criterion = nn.CrossEntropyLoss()\n",
        "\n",
        "    optimizer = optim.Adam(lr=lr, params=model.parameters())\n",
        "    scheduler = optim.lr_scheduler.MultiStepLR(optimizer, milestones=[5,10], gamma=0.5)\n",
        "\n",
        "    train_losses = []\n",
        "    valid_losses = []\n",
        "    for epoch in range(num_epochs):\n",
        "        epoch_losses = train_epoch(model,\n",
        "                                   criterion,\n",
        "                                   optimizer,\n",
        "                                   train_loader,\n",
        "                                   log_interval,\n",
        "                                   epoch)\n",
        "        train_losses.extend(epoch_losses)\n",
        "\n",
        "        valid_loss, targets, preds = evaluate(model, criterion, valid_loader)\n",
        "        valid_losses.append(valid_loss)\n",
        "        accuracy = sum(1 for t, p in zip(targets, preds) if t == p) / len(targets)\n",
        "\n",
        "        print('epoch {}, validation loss: {:.3f}, validation acc.: {:.3f}'.format(epoch, valid_loss, accuracy))\n",
        "        scheduler.step()\n",
        "\n",
        "    return train_losses, valid_losses"
      ],
      "execution_count": 0,
      "outputs": []
    },
    {
      "cell_type": "markdown",
      "metadata": {
        "id": "0o_LJ6BS12uz",
        "colab_type": "text"
      },
      "source": [
        "# Our Neural Network\n",
        "\n",
        "Now it's time to define a neural network that can address the classification problem at hand:"
      ]
    },
    {
      "cell_type": "code",
      "metadata": {
        "id": "5LGOoYeXXoH6",
        "colab_type": "code",
        "colab": {}
      },
      "source": [
        "class DigitClassificationModel(nn.Module):\n",
        "    def __init__(self, im_size=(128, 64)):\n",
        "        super().__init__()\n",
        "        self.im_size = im_size\n",
        "        self.conv_layers = nn.Sequential(\n",
        "            nn.Conv2d(1, 16, (7, 5), padding=(3, 2)),\n",
        "            nn.MaxPool2d((2, 1)),\n",
        "            nn.BatchNorm2d(16),\n",
        "            nn.ReLU(),\n",
        "            nn.Dropout2d(),\n",
        "            nn.Conv2d(16, 32, 5, padding=2),\n",
        "            nn.MaxPool2d(2),\n",
        "            nn.BatchNorm2d(32),\n",
        "            nn.ReLU(),\n",
        "            nn.Dropout2d(),\n",
        "            nn.Conv2d(32, 64, 5, padding=2),\n",
        "            nn.MaxPool2d(2),\n",
        "            nn.BatchNorm2d(64),\n",
        "            nn.ReLU(),\n",
        "            nn.Dropout2d()\n",
        "        )\n",
        "        self.linear = nn.Linear(64 * im_size[0] // 8 * im_size[1] // 4, 10)\n",
        "\n",
        "    def forward(self, input):\n",
        "        x = input\n",
        "        x = self.conv_layers(x)\n",
        "        x = self.linear(x.view(-1, 64 * self.im_size[0] // 8 * self.im_size[1] // 4))\n",
        "        return x"
      ],
      "execution_count": 0,
      "outputs": []
    },
    {
      "cell_type": "markdown",
      "metadata": {
        "id": "D8y8CduL3nI7",
        "colab_type": "text"
      },
      "source": [
        "# Training\n",
        "\n",
        "Now it's time to train our model."
      ]
    },
    {
      "cell_type": "code",
      "metadata": {
        "id": "q_7DkMRbEbIj",
        "colab_type": "code",
        "outputId": "317f9eae-c87c-41b2-a46f-e2a4d588f6cc",
        "colab": {
          "base_uri": "https://localhost:8080/",
          "height": 782
        }
      },
      "source": [
        "NUM_EPOCHS = 15\n",
        "LOG_INTERVAL = 40\n",
        "LR = 0.001\n",
        "\n",
        "model = DigitClassificationModel((128, 64)).cuda()\n",
        "train_losses, valid_losses = train_model(model,\n",
        "                                         LR,\n",
        "                                         NUM_EPOCHS,\n",
        "                                         train_loader,\n",
        "                                         valid_loader,\n",
        "                                         LOG_INTERVAL)"
      ],
      "execution_count": 13,
      "outputs": [
        {
          "output_type": "stream",
          "text": [
            "epoch 0, progress: 0% avg.loss: 2.5308620929718018\n",
            "epoch 0, progress: 85% avg.loss: 1.4916714429855347\n",
            "epoch 0, validation loss: 1.972, validation acc.: 0.528\n",
            "epoch 1, progress: 0% avg.loss: 1.4016070365905762\n",
            "epoch 1, progress: 85% avg.loss: 0.8154091835021973\n",
            "epoch 1, validation loss: 1.364, validation acc.: 0.704\n",
            "epoch 2, progress: 0% avg.loss: 0.2785889804363251\n",
            "epoch 2, progress: 85% avg.loss: 0.2296372354030609\n",
            "epoch 2, validation loss: 1.113, validation acc.: 0.784\n",
            "epoch 3, progress: 0% avg.loss: 0.30397728085517883\n",
            "epoch 3, progress: 85% avg.loss: 0.11634106934070587\n",
            "epoch 3, validation loss: 0.792, validation acc.: 0.780\n",
            "epoch 4, progress: 0% avg.loss: 0.8167716264724731\n",
            "epoch 4, progress: 85% avg.loss: 0.17999187111854553\n",
            "epoch 4, validation loss: 1.317, validation acc.: 0.784\n",
            "epoch 5, progress: 0% avg.loss: 0.271285742521286\n",
            "epoch 5, progress: 85% avg.loss: 0.11779196560382843\n",
            "epoch 5, validation loss: 1.019, validation acc.: 0.800\n",
            "epoch 6, progress: 0% avg.loss: 0.07869703322649002\n",
            "epoch 6, progress: 85% avg.loss: 0.027108479291200638\n",
            "epoch 6, validation loss: 1.018, validation acc.: 0.832\n",
            "epoch 7, progress: 0% avg.loss: 0.027846984565258026\n",
            "epoch 7, progress: 85% avg.loss: 0.1718662977218628\n",
            "epoch 7, validation loss: 0.909, validation acc.: 0.812\n",
            "epoch 8, progress: 0% avg.loss: 0.01223348081111908\n",
            "epoch 8, progress: 85% avg.loss: 0.16383332014083862\n",
            "epoch 8, validation loss: 0.914, validation acc.: 0.816\n",
            "epoch 9, progress: 0% avg.loss: 0.008883528411388397\n",
            "epoch 9, progress: 85% avg.loss: 0.05742262676358223\n",
            "epoch 9, validation loss: 0.767, validation acc.: 0.836\n",
            "epoch 10, progress: 0% avg.loss: 0.024684742093086243\n",
            "epoch 10, progress: 85% avg.loss: 0.007539577782154083\n",
            "epoch 10, validation loss: 0.893, validation acc.: 0.852\n",
            "epoch 11, progress: 0% avg.loss: 0.04987175017595291\n",
            "epoch 11, progress: 85% avg.loss: 0.007167652249336243\n",
            "epoch 11, validation loss: 0.808, validation acc.: 0.832\n",
            "epoch 12, progress: 0% avg.loss: 0.060232292860746384\n",
            "epoch 12, progress: 85% avg.loss: 0.01819261908531189\n",
            "epoch 12, validation loss: 0.799, validation acc.: 0.844\n",
            "epoch 13, progress: 0% avg.loss: 0.015024524182081223\n",
            "epoch 13, progress: 85% avg.loss: 0.002273470163345337\n",
            "epoch 13, validation loss: 0.949, validation acc.: 0.832\n",
            "epoch 14, progress: 0% avg.loss: 0.010518714785575867\n",
            "epoch 14, progress: 85% avg.loss: 0.0016867518424987793\n",
            "epoch 14, validation loss: 0.830, validation acc.: 0.844\n"
          ],
          "name": "stdout"
        }
      ]
    },
    {
      "cell_type": "markdown",
      "metadata": {
        "id": "SoMTJFtsMSei",
        "colab_type": "text"
      },
      "source": [
        "Let's visualize the training/validation losses to understand if our model is overfitting:"
      ]
    },
    {
      "cell_type": "code",
      "metadata": {
        "id": "ehNk-q2cGZ9S",
        "colab_type": "code",
        "outputId": "df9397c6-51be-4b2f-be8a-35acd47b88a1",
        "colab": {
          "base_uri": "https://localhost:8080/",
          "height": 268
        }
      },
      "source": [
        "plt.plot(train_losses, label='train')\n",
        "valid_x_axis = [(1 + k) * len(train_losses)/len(valid_losses)\n",
        "                for k in range(len(valid_losses))]\n",
        "plt.plot(valid_x_axis, valid_losses, label='valid')\n",
        "plt.legend()"
      ],
      "execution_count": 14,
      "outputs": [
        {
          "output_type": "display_data",
          "data": {
            "image/png": "[encoded data removed]",
            "text/plain": [
              "<Figure size 432x288 with 1 Axes>"
            ]
          },
          "metadata": {
            "tags": []
          }
        }
      ]
    },
    {
      "cell_type": "markdown",
      "metadata": {
        "id": "hqCPeCEhGhUu",
        "colab_type": "text"
      },
      "source": [
        "# Performance Evaluation\n",
        "\n",
        "Now we will evaluate our model in the test set. For this, we will compute the predictions of the model over the test set and compare them against the true labels in a **confusion matrix**:"
      ]
    },
    {
      "cell_type": "code",
      "metadata": {
        "id": "O6mzYOL4fhyx",
        "colab_type": "code",
        "outputId": "e8025fa3-22b2-4dd6-ba76-f64861b2e91b",
        "colab": {
          "base_uri": "https://localhost:8080/",
          "height": 289
        }
      },
      "source": [
        "from sklearn.metrics import confusion_matrix\n",
        "\n",
        "\n",
        "_, target, preds = evaluate(model, nn.CrossEntropyLoss(), test_loader)\n",
        "\n",
        "cm = confusion_matrix(target, preds)\n",
        "relative_cm = cm.astype('float') / cm.sum(axis=1)[:, np.newaxis]\n",
        "sns.heatmap(relative_cm, annot=True)\n",
        "plt.xlabel(\"Predicted\")\n",
        "plt.ylabel(\"True Label\")"
      ],
      "execution_count": 15,
      "outputs": [
        {
          "output_type": "display_data",
          "data": {
            "image/png": "[encoded data removed]",
            "text/plain": [
              "<Figure size 432x288 with 2 Axes>"
            ]
          },
          "metadata": {
            "tags": []
          }
        }
      ]
    },
    {
      "cell_type": "code",
      "metadata": {
        "id": "VaE-_2IZHLnG",
        "colab_type": "code",
        "outputId": "fc7d3c60-0422-449c-e81e-5b04078cae15",
        "colab": {
          "base_uri": "https://localhost:8080/",
          "height": 34
        }
      },
      "source": [
        "print(\"Test accuracy:\", sum(1 for t, p in zip(target, preds) if t == p) / len(target))"
      ],
      "execution_count": 16,
      "outputs": [
        {
          "output_type": "stream",
          "text": [
            "Test accuracy: 0.868\n"
          ],
          "name": "stdout"
        }
      ]
    },
    {
      "cell_type": "code",
      "metadata": {
        "id": "UbNFpbeUGOrj",
        "colab_type": "code",
        "colab": {}
      },
      "source": [
        ""
      ],
      "execution_count": 0,
      "outputs": []
    }
  ]
}