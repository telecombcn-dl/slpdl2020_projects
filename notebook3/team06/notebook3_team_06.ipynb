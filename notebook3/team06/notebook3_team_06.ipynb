{
  "nbformat": 4,
  "nbformat_minor": 0,
  "metadata": {
    "colab": {
      "name": "Approach1_SLPDL_notebook3_template.ipynb",
      "provenance": [],
      "collapsed_sections": []
    },
    "kernelspec": {
      "name": "python3",
      "display_name": "Python 3"
    },
    "accelerator": "GPU"
  },
  "cells": [
    {
      "cell_type": "markdown",
      "metadata": {
        "id": "OMYlERQfnO6d",
        "colab_type": "text"
      },
      "source": [
        "# Instructions of this exercise\n",
        "\n",
        "This jupyter notebook is an exercise for you to practice with basic speech classification with neural networks.\n",
        "\n",
        "The different sections have comments that will guide you through the different stages of the processing.\n",
        "\n",
        "You will find parts in this notebook that are missing. They are marked with a \"TODO\", with an explanation about what you are supposed to write or code in that gap. Sometimes you may be requested to implement an algorithm or a piece of code that behaves in a specific way. Other times, you may be requested to explain what a specific piece of code does or why it is needed. In some cases, the requests may contain a \"trap\", e.g. the thing you are requested to implement can't be done for whatever reason, or it may need an extra preprocessing step for it to be possible.\n",
        "\n",
        "If you have any doubt, do not hesitate to contact the instructor at noe.casas@upc.edu"
      ]
    },
    {
      "cell_type": "markdown",
      "metadata": {
        "id": "ig4eszbtrAG9",
        "colab_type": "text"
      },
      "source": [
        "# Requirements\n",
        "\n",
        "In order to follow this notebook you need working knowledge on:\n",
        "\n",
        "- Python programming.\n",
        "- Pytorch basics. Do not forget to check the pytorch documentation to understand the purpose of each function/class, as well as what inputs they expect and what kind of result the give.\n",
        "- Signal processing basics (e.g. Mel spectrograms).\n",
        "- Convolutional networks. A good general starting point may be [Stanford's CS231n course](http://cs231n.github.io/convolutional-networks/).\n",
        "- Unix command line basics.\n",
        "\n",
        "If you lack any of them, please acquire the needed knowledge on the internet, where there is plenty of material about the three topics."
      ]
    },
    {
      "cell_type": "markdown",
      "metadata": {
        "id": "ZLRUkGD9rPDT",
        "colab_type": "text"
      },
      "source": [
        "# Installation of extra libraries\n",
        "\n",
        "First, let's install some libraries that may be missing from your python environment:\n",
        "\n",
        "- librosa: a must for audio processing. Here we will be using mainly to compute the Mel spectrogram.\n",
        "- soundfile: to load waveform files. We could also have used librosa, but librosa's file loading function resamples the waveform by default and it is somewhat error prone (see [this post](https://librosa.github.io/blog/2019/07/17/resample-on-load/#resample-on-load) for further info).\n",
        "- pillow: API-compatible successor of PIL (Python Imaging Library), which is a widely used python library.\n",
        "- pytorch"
      ]
    },
    {
      "cell_type": "code",
      "metadata": {
        "id": "0Nm1UdimrSX9",
        "colab_type": "code",
        "outputId": "1a6a3982-e2b0-492e-b441-fae53645ad79",
        "colab": {
          "base_uri": "https://localhost:8080/",
          "height": 328
        }
      },
      "source": [
        "!pip install pysoundfile librosa torch pillow"
      ],
      "execution_count": 1,
      "outputs": [
        {
          "output_type": "stream",
          "text": [
            "Requirement already satisfied: pysoundfile in /usr/local/lib/python3.6/dist-packages (0.9.0.post1)\n",
            "Requirement already satisfied: librosa in /usr/local/lib/python3.6/dist-packages (0.6.3)\n",
            "Requirement already satisfied: torch in /usr/local/lib/python3.6/dist-packages (1.5.0+cu101)\n",
            "Requirement already satisfied: pillow in /usr/local/lib/python3.6/dist-packages (7.0.0)\n",
            "Requirement already satisfied: cffi>=0.6 in /usr/local/lib/python3.6/dist-packages (from pysoundfile) (1.14.0)\n",
            "Requirement already satisfied: numpy>=1.8.0 in /usr/local/lib/python3.6/dist-packages (from librosa) (1.18.3)\n",
            "Requirement already satisfied: decorator>=3.0.0 in /usr/local/lib/python3.6/dist-packages (from librosa) (4.4.2)\n",
            "Requirement already satisfied: resampy>=0.2.0 in /usr/local/lib/python3.6/dist-packages (from librosa) (0.2.2)\n",
            "Requirement already satisfied: audioread>=2.0.0 in /usr/local/lib/python3.6/dist-packages (from librosa) (2.1.8)\n",
            "Requirement already satisfied: numba>=0.38.0 in /usr/local/lib/python3.6/dist-packages (from librosa) (0.48.0)\n",
            "Requirement already satisfied: joblib>=0.12 in /usr/local/lib/python3.6/dist-packages (from librosa) (0.14.1)\n",
            "Requirement already satisfied: scipy>=1.0.0 in /usr/local/lib/python3.6/dist-packages (from librosa) (1.4.1)\n",
            "Requirement already satisfied: six>=1.3 in /usr/local/lib/python3.6/dist-packages (from librosa) (1.12.0)\n",
            "Requirement already satisfied: scikit-learn!=0.19.0,>=0.14.0 in /usr/local/lib/python3.6/dist-packages (from librosa) (0.22.2.post1)\n",
            "Requirement already satisfied: future in /usr/local/lib/python3.6/dist-packages (from torch) (0.16.0)\n",
            "Requirement already satisfied: pycparser in /usr/local/lib/python3.6/dist-packages (from cffi>=0.6->pysoundfile) (2.20)\n",
            "Requirement already satisfied: setuptools in /usr/local/lib/python3.6/dist-packages (from numba>=0.38.0->librosa) (46.1.3)\n",
            "Requirement already satisfied: llvmlite<0.32.0,>=0.31.0dev0 in /usr/local/lib/python3.6/dist-packages (from numba>=0.38.0->librosa) (0.31.0)\n"
          ],
          "name": "stdout"
        }
      ]
    },
    {
      "cell_type": "code",
      "metadata": {
        "colab_type": "code",
        "id": "IGJ-iqIe8423",
        "colab": {}
      },
      "source": [
        "# avoid jupyter printing the last result by default\n",
        "\n",
        "from IPython.core.interactiveshell import InteractiveShell\n",
        "InteractiveShell.ast_node_interactivity = \"none\""
      ],
      "execution_count": 0,
      "outputs": []
    },
    {
      "cell_type": "markdown",
      "metadata": {
        "id": "LuH0COzXg5iG",
        "colab_type": "text"
      },
      "source": [
        "\n",
        "## Reproducibility\n",
        "\n",
        "We fix the random seed for reproducibility purposes. See this for details:\n",
        "https://pytorch.org/docs/stable/notes/randomness.html"
      ]
    },
    {
      "cell_type": "code",
      "metadata": {
        "id": "jx8Z6BRcg6K2",
        "colab_type": "code",
        "colab": {}
      },
      "source": [
        "import torch\n",
        "import numpy as np\n",
        "\n",
        "seed = 321\n",
        "torch.manual_seed(seed)\n",
        "torch.backends.cudnn.deterministic = True\n",
        "torch.backends.cudnn.benchmark = False\n",
        "np.random.seed(seed)"
      ],
      "execution_count": 0,
      "outputs": []
    },
    {
      "cell_type": "markdown",
      "metadata": {
        "id": "1ZFsWgy2sdcw",
        "colab_type": "text"
      },
      "source": [
        "# Free Spoken Digit dataset\n",
        "\n",
        "For this notebook we will be using a dataset called Free Spoken Digit dataset. It is a collection of utterances of digits, from 0 to 9, by 4 different speakers. It is meant to be the MNIST for speech.\n",
        "\n",
        "We will download it first:"
      ]
    },
    {
      "cell_type": "code",
      "metadata": {
        "id": "M3DWUqmBDSjV",
        "colab_type": "code",
        "colab": {}
      },
      "source": [
        "!wget -q -O repo.zip https://github.com/Jakobovski/free-spoken-digit-dataset/archive/master.zip\n",
        "!unzip -q -o repo.zip\n",
        "!rm -rf repo.zip recordings\n",
        "!mv free-spoken-digit-dataset-master/recordings .\n",
        "!rm -rf free-spoken-digit-dataset-master train valid test"
      ],
      "execution_count": 0,
      "outputs": []
    },
    {
      "cell_type": "markdown",
      "metadata": {
        "id": "74vw-jzyyCjf",
        "colab_type": "text"
      },
      "source": [
        "Given that we have labels for both the speaker and the digit, we could classify the utterances for any of those aspects. **In this exercise, we will be clasifying utterance digit**."
      ]
    },
    {
      "cell_type": "markdown",
      "metadata": {
        "id": "w8xYG3w7tWYk",
        "colab_type": "text"
      },
      "source": [
        "# Mel Spectrogram computation and storage as images\n",
        "\n",
        "We will not be dealing with the waveforms directly, but we will be computing the Mel spectrogram.\n",
        "\n",
        "Let's define a couple of functions that we will be using to conver waveforms to spectrograms:"
      ]
    },
    {
      "cell_type": "code",
      "metadata": {
        "id": "Z0yHJXrUUnbC",
        "colab_type": "code",
        "colab": {}
      },
      "source": [
        "from librosa import power_to_db\n",
        "from librosa.feature import melspectrogram\n",
        "from PIL import Image\n",
        "\n",
        "\n",
        "def sound2mel(audio_signal, sample_rate):\n",
        "    \"\"\"Computes the Mel spectrogram (in dB) of the given audio signal.\"\"\"\n",
        "\n",
        "    n_fft = 1024\n",
        "    hop_length = 256\n",
        "    n_mels = 40\n",
        "    fmin = 20\n",
        "    fmax = sample_rate / 2 \n",
        "    \n",
        "    # compute the Mel spectrogram with librosa\n",
        "    mel_spec_power = melspectrogram(audio_signal,\n",
        "                                    sr=sample_rate,\n",
        "                                    n_fft=n_fft, \n",
        "                                    hop_length=hop_length, \n",
        "                                    n_mels=n_mels,\n",
        "                                    power=2.0, \n",
        "                                    fmin=fmin,\n",
        "                                    fmax=fmax)\n",
        "    \n",
        "    # See this to better understand what you get into mel_spec_power:\n",
        "    #     https://stackoverflow.com/q/52232839/674487\n",
        "\n",
        "    # Let's better handle the spectrogram in dB\n",
        "    mel_spec_db = power_to_db(mel_spec_power, ref=np.max)\n",
        "\n",
        "    return mel_spec_db\n",
        "\n",
        "def to_grayscale_image(spec):\n",
        "    \"\"\"Takes a spectrogram and fits it into a 8-bit image\"\"\"\n",
        "    img = (((spec - spec.min()) / (spec.max() - spec.min())) * 255.9).astype(np.uint8)\n",
        "    return Image.fromarray(img)"
      ],
      "execution_count": 0,
      "outputs": []
    },
    {
      "cell_type": "markdown",
      "metadata": {
        "id": "tcXE-7TbuYQi",
        "colab_type": "text"
      },
      "source": [
        "In order to make it easier to handle the utterance as spectrograms and feed them to our neural networks, we will store these spectrograms as normal images, so that later we can use image classification data loaders.\n",
        "\n",
        "As we convert the waveforms to spectrogram and save them as images, we will also split them into training, validation and test sets. For this, we will take one of the four speakers (\"yweweler\") and we will use some of his utterances for validation and some for test. Each data split will be under a different directory (i.e. train/valid/test).\n",
        "\n",
        "Note that under each data split directory, we will have subdirectories for each different digit. We will use this later to get the utterance label."
      ]
    },
    {
      "cell_type": "code",
      "metadata": {
        "id": "9ZepHVAvuXNB",
        "colab_type": "code",
        "colab": {}
      },
      "source": [
        "import os\n",
        "import soundfile\n",
        "import librosa\n",
        "\n",
        "SPEAKERS = ['jackson', 'nicolas', 'theo', 'yweweler']\n",
        "N_SPEAKERS = 4\n",
        "N_DIGITS = 10\n",
        "N_REPETITIONS = 50\n",
        "\n",
        "for speaker_index, speaker in enumerate(SPEAKERS):\n",
        "    for digit in range(N_DIGITS):\n",
        "        for repetition in range(N_REPETITIONS):\n",
        "            sound_file = 'recordings/{}_{}_{}.wav'.format(digit, speaker, repetition)\n",
        "            audio_signal, sampling_rate = soundfile.read(sound_file)\n",
        "            spectrogram = sound2mel(audio_signal, sampling_rate)\n",
        "            split = ('test' if speaker == 'yweweler' and repetition < 25\n",
        "                     else 'valid' if speaker == 'yweweler'\n",
        "                     else 'train') \n",
        "            dirname = '{}/{}'.format(split, digit)\n",
        "            os.makedirs(dirname, exist_ok=True)\n",
        "            img_file = '{}/{}_{}_{}.png'.format(dirname, digit, speaker, repetition)\n",
        "            to_grayscale_image(spectrogram).save(img_file)\n",
        "            # if (split == 'train'):\n",
        "            #   #Noise\n",
        "            #   audio_signal_noise = audio_signal + max(audio_signal)*0.02*np.random.normal(0,1,len(audio_signal))\n",
        "            #   spectrogram = sound2mel(audio_signal_noise, sampling_rate)\n",
        "            #   img_file = '{}/noise_{}_{}_{}.png'.format(dirname, digit, speaker, repetition)\n",
        "            #   to_grayscale_image(spectrogram).save(img_file)\n",
        "            #   #Time shift\n",
        "            #   audio_signal_roll = np.roll(audio_signal,int(sampling_rate/10))\n",
        "            #   spectrogram = sound2mel(audio_signal_roll, sampling_rate)\n",
        "            #   img_file = '{}/roll_{}_{}_{}.png'.format(dirname, digit, speaker, repetition)\n",
        "            #   to_grayscale_image(spectrogram).save(img_file)\n",
        "              # Time Stretching\n",
        "              # audio_signal_stch = librosa.effects.time_stretch(audio_signal,0.4)\n",
        "              # spectrogram = sound2mel(audio_signal_stch, sampling_rate)\n",
        "              # img_file = '{}/stch_{}_{}_{}.png'.format(dirname, digit, speaker, repetition)\n",
        "              # to_grayscale_image(spectrogram).save(img_file)\n",
        "              # Pitch Shifting\n",
        "              # audio_signal_pitch_sf = librosa.effects.pitch_shift(audio_signal,sampling_rate,n_steps=-5)\n",
        "              # spectrogram = sound2mel(audio_signal_pitch_sf, sampling_rate)\n",
        "              # img_file = '{}/pitch_sf_{}_{}_{}.png'.format(dirname, digit, speaker, repetition)\n",
        "              # to_grayscale_image(spectrogram).save(img_file)"
      ],
      "execution_count": 0,
      "outputs": []
    },
    {
      "cell_type": "markdown",
      "metadata": {
        "id": "RYZJngBmxA3M",
        "colab_type": "text"
      },
      "source": [
        "# Data loading\n",
        "\n",
        "Now that we have our utterances stored as spectrogram images, we will prepare the data loading. For this, we will use **torchvision** data loaders, together with standard transformations. The most important transformation is the resizing. Take into account that the length of the utterances is not constant, but each utterance can have a different duration, which leads to Mel spectrograms of different lengths (the number of channels is fixed, though). In order to overcome this, we will simply rescale the image to a constant size."
      ]
    },
    {
      "cell_type": "code",
      "metadata": {
        "id": "i2_VMjyzkfjJ",
        "colab_type": "code",
        "colab": {}
      },
      "source": [
        "from torchvision.datasets import ImageFolder\n",
        "from torchvision import transforms\n",
        "from torch.utils.data import DataLoader\n",
        "\n",
        "transform = transforms.Compose([\n",
        "                transforms.Grayscale(),\n",
        "                transforms.Resize((128, 64)),\n",
        "                transforms.ToTensor(),\n",
        "])\n",
        "\n",
        "train_data = ImageFolder(root='./train', transform=transform)\n",
        "train_loader = DataLoader(train_data, batch_size=30, shuffle=True, num_workers=4)\n",
        "\n",
        "valid_data = ImageFolder(root='./valid', transform=transform)\n",
        "valid_loader = DataLoader(valid_data, batch_size=20, shuffle=True, num_workers=1)\n",
        "\n",
        "test_data = ImageFolder(root='./test', transform=transform)\n",
        "test_loader = DataLoader(test_data, batch_size=20, shuffle=True, num_workers=1)"
      ],
      "execution_count": 0,
      "outputs": []
    },
    {
      "cell_type": "markdown",
      "metadata": {
        "id": "Dozz1FiKxsYf",
        "colab_type": "text"
      },
      "source": [
        "Note that, by default, `ImageFolder` takes the labels from the directories directly under the root folder. This means that the image files under `train/2` will be labeled as '2', those under `train/7` will be labeled as '7'.\n",
        "\n",
        "This is how one of our spectrograms look like:"
      ]
    },
    {
      "cell_type": "code",
      "metadata": {
        "id": "8XYuOqEwklYW",
        "colab_type": "code",
        "outputId": "0a4d8ec1-d200-4809-e237-f005c48fddb4",
        "colab": {
          "base_uri": "https://localhost:8080/",
          "height": 325
        }
      },
      "source": [
        "import matplotlib.pyplot as plt\n",
        "import seaborn as sns; sns.set()\n",
        "\n",
        "plt.imshow(train_data[0][0].squeeze().cpu().numpy())"
      ],
      "execution_count": 8,
      "outputs": [
        {
          "output_type": "stream",
          "text": [
            "/usr/local/lib/python3.6/dist-packages/statsmodels/tools/_testing.py:19: FutureWarning: pandas.util.testing is deprecated. Use the functions in the public API at pandas.testing instead.\n",
            "  import pandas.util.testing as tm\n"
          ],
          "name": "stderr"
        },
        {
          "output_type": "display_data",
          "data": {
            "image/png": "[encoded data removed]",
            "text/plain": [
              "<Figure size 432x288 with 1 Axes>"
            ]
          },
          "metadata": {
            "tags": []
          }
        }
      ]
    },
    {
      "cell_type": "markdown",
      "metadata": {
        "id": "sILX_ksp1lW0",
        "colab_type": "text"
      },
      "source": [
        "# Training and Evaluation Routines\n",
        "\n",
        "Let's define some functions to train our model and evaluate it under the validation set:"
      ]
    },
    {
      "cell_type": "code",
      "metadata": {
        "id": "BCkYOfDEIItT",
        "colab_type": "code",
        "colab": {}
      },
      "source": [
        "def train_epoch(model, criterion, optimizer, train_loader, log_interval, epoch):\n",
        "    # sets the model in \"training mode\", so dropout, BN, etc are active\n",
        "    model.train()\n",
        "\n",
        "    num_batches = len(train_loader)\n",
        "\n",
        "    losses = []\n",
        "    for batch_idx, batch in enumerate(train_loader):\n",
        "\n",
        "        input, targets = batch\n",
        "\n",
        "        model.zero_grad()\n",
        "\n",
        "        output = model(input.cuda())\n",
        "        loss = criterion(output, targets.cuda())\n",
        "        loss.backward()\n",
        "\n",
        "        optimizer.step()\n",
        "\n",
        "        losses.append(loss.item())\n",
        "\n",
        "        if log_interval and batch_idx % log_interval == 0:\n",
        "            percentage = 100 * batch_idx // num_batches\n",
        "            msg = 'epoch {}, progress: {}% avg.loss: {}'\n",
        "            print(msg.format(epoch, percentage, losses[-1]))\n",
        "    \n",
        "    return losses"
      ],
      "execution_count": 0,
      "outputs": []
    },
    {
      "cell_type": "code",
      "metadata": {
        "id": "x_LvwToVILLM",
        "colab_type": "code",
        "colab": {}
      },
      "source": [
        "def evaluate(model, criterion, loader):\n",
        "\n",
        "    # Sets the model in \"evaluation mode\" so dropout, BN, etc are deactivated.\n",
        "    model.eval()\n",
        "\n",
        "    num_total_elems = 0\n",
        "    loss = 0.\n",
        "    targets = []\n",
        "    preds = []\n",
        "    with torch.no_grad():\n",
        "        for batch in loader:\n",
        "            input, target = batch\n",
        "            batch_size = input.size(0)\n",
        "            logits = model(input.cuda())\n",
        "            batch_loss = criterion(logits, target.cuda()).item()\n",
        "            loss += batch_size * batch_loss\n",
        "            num_total_elems += batch_size\n",
        "            targets.extend(target.numpy().tolist())\n",
        "            preds.extend(torch.argmax(logits, dim=1).cpu().numpy().tolist())\n",
        "    \n",
        "    loss = loss / num_total_elems\n",
        "\n",
        "    return loss, targets, preds"
      ],
      "execution_count": 0,
      "outputs": []
    },
    {
      "cell_type": "code",
      "metadata": {
        "id": "lRWyCPoQIOtw",
        "colab_type": "code",
        "colab": {}
      },
      "source": [
        "import torch.nn as nn\n",
        "import torch.nn.functional as F\n",
        "import torch.optim as optim\n",
        "\n",
        "\n",
        "def train_model(model, lr, num_epochs, train_loader, valid_loader, log_interval):\n",
        "\n",
        "    # The output of the model must be compatible with this loss function\n",
        "    criterion = nn.CrossEntropyLoss()\n",
        "\n",
        "    optimizer = optim.Adam(lr=lr, params=model.parameters())\n",
        "\n",
        "    train_losses = []\n",
        "    valid_losses = []\n",
        "    for epoch in range(num_epochs):\n",
        "        epoch_losses = train_epoch(model,\n",
        "                                   criterion,\n",
        "                                   optimizer,\n",
        "                                   train_loader,\n",
        "                                   log_interval,\n",
        "                                   epoch)\n",
        "        train_losses.extend(epoch_losses)\n",
        "\n",
        "        valid_loss, _, _ = evaluate(model, criterion, valid_loader)\n",
        "        valid_losses.append(valid_loss)\n",
        "\n",
        "        print('epoch {}, validation loss: {:.3f}'.format(epoch, valid_loss))\n",
        "\n",
        "    return train_losses, valid_losses"
      ],
      "execution_count": 0,
      "outputs": []
    },
    {
      "cell_type": "markdown",
      "metadata": {
        "id": "0o_LJ6BS12uz",
        "colab_type": "text"
      },
      "source": [
        "# Our Neural Network\n",
        "\n",
        "Now it's time to define a neural network that can address the classification problem at hand:"
      ]
    },
    {
      "cell_type": "code",
      "metadata": {
        "id": "5LGOoYeXXoH6",
        "colab_type": "code",
        "colab": {}
      },
      "source": [
        "class DigitClassificationModel(nn.Module): #(BO)\n",
        "    def __init__(self):\n",
        "        super().__init__()\n",
        "        self.conv1 = nn.Conv2d(in_channels = 1, out_channels = 20, kernel_size = (4,4), padding = 1) \n",
        "        self.pool = nn.MaxPool2d(3,3)\n",
        "        self.conv2 = nn.Conv2d(in_channels = 20, out_channels = 800, kernel_size = (4,4)) \n",
        "        self.fc1 = nn.Linear(62400, 40)\n",
        "        self.fc2 = nn.Linear(40, 60)\n",
        "        self.fc3 = nn.Linear(60, 10)\n",
        "\n",
        "        # TODO: declare whatever modules you need\n",
        "    \n",
        "    def forward(self, input):\n",
        "\n",
        "        x = input\n",
        "        x = self.pool(F.relu(self.conv1(x))) \n",
        "        #x = F.dropout2d(x, 0.6) #treure sino\n",
        "        x = self.pool(F.relu(self.conv2(x)))\n",
        "        #x = F.dropout2d(x, 0.6) #treure sino\n",
        "        x = x.view(-1, 62400)\n",
        "        x = F.relu(self.fc1(x))\n",
        "        #x = F.dropout2d(x, 0.1) #treure sino\n",
        "        x = F.relu(self.fc2(x))\n",
        "        x = self.fc3(x)\n",
        "\n",
        "        # TODO: implement whatever model you want, ensuring it achieves\n",
        "        #       decent accuracy. You could probably try with\n",
        "        #       convolutional layers, residual connections, etc.\n",
        "        #       Given the small size of the training data, you may\n",
        "        #       also want to use some sort of regularization.\n",
        "        #       Note that the result of the forward computation of the\n",
        "        #       model must be compatible with the loss function used for\n",
        "        #       the training (see functions train_epoch and train_model).\n",
        "\n",
        "        return x"
      ],
      "execution_count": 0,
      "outputs": []
    },
    {
      "cell_type": "markdown",
      "metadata": {
        "id": "D8y8CduL3nI7",
        "colab_type": "text"
      },
      "source": [
        "# Training\n",
        "\n",
        "Now it's time to train our model."
      ]
    },
    {
      "cell_type": "code",
      "metadata": {
        "id": "q_7DkMRbEbIj",
        "colab_type": "code",
        "outputId": "de9a543b-8e5f-4d80-ad82-ca44b4cdc11b",
        "colab": {
          "base_uri": "https://localhost:8080/",
          "height": 1000
        }
      },
      "source": [
        "# TODO: select an appropriate set of hyperparameters, either in\n",
        "#       this cell (learning rate, number of epochs, etc), or\n",
        "#       throughout the notebook (e.g. batch size). Also, consider\n",
        "#       techniques such as early stopping to avoid overfitting.\n",
        "\n",
        "NUM_EPOCHS = 40\n",
        "LOG_INTERVAL = 40\n",
        "\n",
        "model = DigitClassificationModel().cuda()\n",
        "train_losses, valid_losses = train_model(model,\n",
        "                                         0.0001,\n",
        "                                         NUM_EPOCHS,\n",
        "                                         train_loader,\n",
        "                                         valid_loader,\n",
        "                                         LOG_INTERVAL)"
      ],
      "execution_count": 13,
      "outputs": [
        {
          "output_type": "stream",
          "text": [
            "epoch 0, progress: 0% avg.loss: 2.3371434211730957\n",
            "epoch 0, progress: 80% avg.loss: 2.1359217166900635\n",
            "epoch 0, validation loss: 2.124\n",
            "epoch 1, progress: 0% avg.loss: 2.104919672012329\n",
            "epoch 1, progress: 80% avg.loss: 1.5441395044326782\n",
            "epoch 1, validation loss: 1.733\n",
            "epoch 2, progress: 0% avg.loss: 1.3053380250930786\n",
            "epoch 2, progress: 80% avg.loss: 0.8046578764915466\n",
            "epoch 2, validation loss: 1.288\n",
            "epoch 3, progress: 0% avg.loss: 0.7927386164665222\n",
            "epoch 3, progress: 80% avg.loss: 0.49343326687812805\n",
            "epoch 3, validation loss: 1.008\n",
            "epoch 4, progress: 0% avg.loss: 0.6532936692237854\n",
            "epoch 4, progress: 80% avg.loss: 0.4472180902957916\n",
            "epoch 4, validation loss: 0.948\n",
            "epoch 5, progress: 0% avg.loss: 0.45599687099456787\n",
            "epoch 5, progress: 80% avg.loss: 0.3585023880004883\n",
            "epoch 5, validation loss: 0.779\n",
            "epoch 6, progress: 0% avg.loss: 0.2325105518102646\n",
            "epoch 6, progress: 80% avg.loss: 0.18488314747810364\n",
            "epoch 6, validation loss: 0.687\n",
            "epoch 7, progress: 0% avg.loss: 0.1642792522907257\n",
            "epoch 7, progress: 80% avg.loss: 0.1784745752811432\n",
            "epoch 7, validation loss: 0.675\n",
            "epoch 8, progress: 0% avg.loss: 0.15936493873596191\n",
            "epoch 8, progress: 80% avg.loss: 0.11626242101192474\n",
            "epoch 8, validation loss: 0.693\n",
            "epoch 9, progress: 0% avg.loss: 0.28546592593193054\n",
            "epoch 9, progress: 80% avg.loss: 0.1997058242559433\n",
            "epoch 9, validation loss: 0.764\n",
            "epoch 10, progress: 0% avg.loss: 0.09831763803958893\n",
            "epoch 10, progress: 80% avg.loss: 0.21124280989170074\n",
            "epoch 10, validation loss: 0.599\n",
            "epoch 11, progress: 0% avg.loss: 0.07366153597831726\n",
            "epoch 11, progress: 80% avg.loss: 0.048812851309776306\n",
            "epoch 11, validation loss: 0.625\n",
            "epoch 12, progress: 0% avg.loss: 0.1124834343791008\n",
            "epoch 12, progress: 80% avg.loss: 0.1058746948838234\n",
            "epoch 12, validation loss: 0.584\n",
            "epoch 13, progress: 0% avg.loss: 0.12514998018741608\n",
            "epoch 13, progress: 80% avg.loss: 0.36069050431251526\n",
            "epoch 13, validation loss: 0.617\n",
            "epoch 14, progress: 0% avg.loss: 0.09250494837760925\n",
            "epoch 14, progress: 80% avg.loss: 0.050394900143146515\n",
            "epoch 14, validation loss: 0.708\n",
            "epoch 15, progress: 0% avg.loss: 0.17087198793888092\n",
            "epoch 15, progress: 80% avg.loss: 0.03763618320226669\n",
            "epoch 15, validation loss: 0.652\n",
            "epoch 16, progress: 0% avg.loss: 0.08975160866975784\n",
            "epoch 16, progress: 80% avg.loss: 0.1903928816318512\n",
            "epoch 16, validation loss: 0.743\n",
            "epoch 17, progress: 0% avg.loss: 0.20896267890930176\n",
            "epoch 17, progress: 80% avg.loss: 0.08132163435220718\n",
            "epoch 17, validation loss: 0.778\n",
            "epoch 18, progress: 0% avg.loss: 0.08920393139123917\n",
            "epoch 18, progress: 80% avg.loss: 0.07080653309822083\n",
            "epoch 18, validation loss: 0.773\n",
            "epoch 19, progress: 0% avg.loss: 0.05502475053071976\n",
            "epoch 19, progress: 80% avg.loss: 0.3717420697212219\n",
            "epoch 19, validation loss: 0.627\n",
            "epoch 20, progress: 0% avg.loss: 0.08647462725639343\n",
            "epoch 20, progress: 80% avg.loss: 0.2136644870042801\n",
            "epoch 20, validation loss: 0.551\n",
            "epoch 21, progress: 0% avg.loss: 0.05676673352718353\n",
            "epoch 21, progress: 80% avg.loss: 0.034769948571920395\n",
            "epoch 21, validation loss: 0.602\n",
            "epoch 22, progress: 0% avg.loss: 0.015326627530157566\n",
            "epoch 22, progress: 80% avg.loss: 0.19649022817611694\n",
            "epoch 22, validation loss: 1.318\n",
            "epoch 23, progress: 0% avg.loss: 0.09231586754322052\n",
            "epoch 23, progress: 80% avg.loss: 0.016089947894215584\n",
            "epoch 23, validation loss: 0.560\n",
            "epoch 24, progress: 0% avg.loss: 0.04793354496359825\n",
            "epoch 24, progress: 80% avg.loss: 0.08017851412296295\n",
            "epoch 24, validation loss: 0.587\n",
            "epoch 25, progress: 0% avg.loss: 0.01745115965604782\n",
            "epoch 25, progress: 80% avg.loss: 0.03136859089136124\n",
            "epoch 25, validation loss: 0.530\n",
            "epoch 26, progress: 0% avg.loss: 0.025277582928538322\n",
            "epoch 26, progress: 80% avg.loss: 0.0050735315307974815\n",
            "epoch 26, validation loss: 0.665\n",
            "epoch 27, progress: 0% avg.loss: 0.03684469684958458\n",
            "epoch 27, progress: 80% avg.loss: 0.004718557931482792\n",
            "epoch 27, validation loss: 0.601\n",
            "epoch 28, progress: 0% avg.loss: 0.02997252158820629\n",
            "epoch 28, progress: 80% avg.loss: 0.023210620507597923\n",
            "epoch 28, validation loss: 0.701\n",
            "epoch 29, progress: 0% avg.loss: 0.07270626723766327\n",
            "epoch 29, progress: 80% avg.loss: 0.07480106502771378\n",
            "epoch 29, validation loss: 0.866\n",
            "epoch 30, progress: 0% avg.loss: 0.09592482447624207\n",
            "epoch 30, progress: 80% avg.loss: 0.0350678451359272\n",
            "epoch 30, validation loss: 0.625\n",
            "epoch 31, progress: 0% avg.loss: 0.057975467294454575\n",
            "epoch 31, progress: 80% avg.loss: 0.040453847497701645\n",
            "epoch 31, validation loss: 0.893\n",
            "epoch 32, progress: 0% avg.loss: 0.15913304686546326\n",
            "epoch 32, progress: 80% avg.loss: 0.013494396582245827\n",
            "epoch 32, validation loss: 0.667\n",
            "epoch 33, progress: 0% avg.loss: 0.057895056903362274\n",
            "epoch 33, progress: 80% avg.loss: 0.011968771927058697\n",
            "epoch 33, validation loss: 0.629\n",
            "epoch 34, progress: 0% avg.loss: 0.14449910819530487\n",
            "epoch 34, progress: 80% avg.loss: 0.028447341173887253\n",
            "epoch 34, validation loss: 0.558\n",
            "epoch 35, progress: 0% avg.loss: 0.01674833334982395\n",
            "epoch 35, progress: 80% avg.loss: 0.011598682031035423\n",
            "epoch 35, validation loss: 0.784\n",
            "epoch 36, progress: 0% avg.loss: 0.013763396069407463\n",
            "epoch 36, progress: 80% avg.loss: 0.007030041888356209\n",
            "epoch 36, validation loss: 0.556\n",
            "epoch 37, progress: 0% avg.loss: 0.021899286657571793\n",
            "epoch 37, progress: 80% avg.loss: 0.004044723697006702\n",
            "epoch 37, validation loss: 0.910\n",
            "epoch 38, progress: 0% avg.loss: 0.054052192717790604\n",
            "epoch 38, progress: 80% avg.loss: 0.015030860900878906\n",
            "epoch 38, validation loss: 0.731\n",
            "epoch 39, progress: 0% avg.loss: 0.012302493676543236\n",
            "epoch 39, progress: 80% avg.loss: 0.025602085515856743\n",
            "epoch 39, validation loss: 0.515\n"
          ],
          "name": "stdout"
        }
      ]
    },
    {
      "cell_type": "markdown",
      "metadata": {
        "id": "SoMTJFtsMSei",
        "colab_type": "text"
      },
      "source": [
        "Let's visualize the training/validation losses to understand if our model is overfitting:"
      ]
    },
    {
      "cell_type": "code",
      "metadata": {
        "id": "RN3bYmPfSWz9",
        "colab_type": "code",
        "outputId": "7ca076f0-62eb-4578-fc1e-5b7629287a0e",
        "colab": {
          "base_uri": "https://localhost:8080/",
          "height": 268
        }
      },
      "source": [
        "plt.plot(train_losses, label='train')\n",
        "valid_x_axis = [(1 + k) * len(train_losses)/len(valid_losses)\n",
        "                for k in range(len(valid_losses))]\n",
        "plt.plot(valid_x_axis, valid_losses, label='valid')\n",
        "plt.legend()"
      ],
      "execution_count": 14,
      "outputs": [
        {
          "output_type": "display_data",
          "data": {
            "image/png": "[encoded data removed]",
            "text/plain": [
              "<Figure size 432x288 with 1 Axes>"
            ]
          },
          "metadata": {
            "tags": []
          }
        }
      ]
    },
    {
      "cell_type": "markdown",
      "metadata": {
        "id": "hqCPeCEhGhUu",
        "colab_type": "text"
      },
      "source": [
        "# Performance Evaluation\n",
        "\n",
        "Now we will evaluate our model in the test set. For this, we will compute the predictions of the model over the test set and compare them against the true labels in a **confusion matrix**:"
      ]
    },
    {
      "cell_type": "code",
      "metadata": {
        "id": "O6mzYOL4fhyx",
        "colab_type": "code",
        "outputId": "f4dd4a2d-3942-4def-f7d3-4aff003f1d58",
        "colab": {
          "base_uri": "https://localhost:8080/",
          "height": 289
        }
      },
      "source": [
        "from sklearn.metrics import confusion_matrix\n",
        "\n",
        "\n",
        "_, target, preds = evaluate(model, nn.CrossEntropyLoss(), test_loader)\n",
        "\n",
        "cm = confusion_matrix(target, preds)\n",
        "relative_cm = cm.astype('float') / cm.sum(axis=1)[:, np.newaxis]\n",
        "sns.heatmap(relative_cm, annot=True)\n",
        "plt.xlabel(\"Predicted\")\n",
        "plt.ylabel(\"True Label\")"
      ],
      "execution_count": 16,
      "outputs": [
        {
          "output_type": "display_data",
          "data": {
            "image/png": "[encoded data removed]",
            "text/plain": [
              "<Figure size 432x288 with 2 Axes>"
            ]
          },
          "metadata": {
            "tags": []
          }
        }
      ]
    }
  ]
}