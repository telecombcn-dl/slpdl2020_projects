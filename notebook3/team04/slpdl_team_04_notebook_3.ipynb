{
  "nbformat": 4,
  "nbformat_minor": 0,
  "metadata": {
    "colab": {
      "name": "SLPDL_notebook3_jordi.ipynb",
      "provenance": [],
      "collapsed_sections": []
    },
    "kernelspec": {
      "name": "python3",
      "display_name": "Python 3"
    },
    "accelerator": "GPU"
  },
  "cells": [
    {
      "cell_type": "markdown",
      "metadata": {
        "id": "OMYlERQfnO6d",
        "colab_type": "text"
      },
      "source": [
        "# Instructions of this exercise\n",
        "\n",
        "This jupyter notebook is an exercise for you to practice with basic speech classification with neural networks.\n",
        "\n",
        "The different sections have comments that will guide you through the different stages of the processing.\n",
        "\n",
        "You will find parts in this notebook that are missing. They are marked with a \"TODO\", with an explanation about what you are supposed to write or code in that gap. Sometimes you may be requested to implement an algorithm or a piece of code that behaves in a specific way. Other times, you may be requested to explain what a specific piece of code does or why it is needed. In some cases, the requests may contain a \"trap\", e.g. the thing you are requested to implement can't be done for whatever reason, or it may need an extra preprocessing step for it to be possible.\n",
        "\n",
        "If you have any doubt, do not hesitate to contact the instructor at noe.casas@upc.edu"
      ]
    },
    {
      "cell_type": "markdown",
      "metadata": {
        "id": "ig4eszbtrAG9",
        "colab_type": "text"
      },
      "source": [
        "# Requirements\n",
        "\n",
        "In order to follow this notebook you need working knowledge on:\n",
        "\n",
        "- Python programming.\n",
        "- Pytorch basics. Do not forget to check the pytorch documentation to understand the purpose of each function/class, as well as what inputs they expect and what kind of result the give.\n",
        "- Signal processing basics (e.g. Mel spectrograms).\n",
        "- Convolutional networks. A good general starting point may be [Stanford's CS231n course](http://cs231n.github.io/convolutional-networks/).\n",
        "- Unix command line basics.\n",
        "\n",
        "If you lack any of them, please acquire the needed knowledge on the internet, where there is plenty of material about the three topics."
      ]
    },
    {
      "cell_type": "markdown",
      "metadata": {
        "id": "ZLRUkGD9rPDT",
        "colab_type": "text"
      },
      "source": [
        "# Installation of extra libraries\n",
        "\n",
        "First, let's install some libraries that may be missing from your python environment:\n",
        "\n",
        "- librosa: a must for audio processing. Here we will be using mainly to compute the Mel spectrogram.\n",
        "- soundfile: to load waveform files. We could also have used librosa, but librosa's file loading function resamples the waveform by default and it is somewhat error prone (see [this post](https://librosa.github.io/blog/2019/07/17/resample-on-load/#resample-on-load) for further info).\n",
        "- pillow: API-compatible successor of PIL (Python Imaging Library), which is a widely used python library.\n",
        "- pytorch"
      ]
    },
    {
      "cell_type": "code",
      "metadata": {
        "id": "0Nm1UdimrSX9",
        "colab_type": "code",
        "outputId": "1dc94e99-aeb7-49c9-fa6a-b54fd104c62b",
        "colab": {
          "base_uri": "https://localhost:8080/",
          "height": 408
        }
      },
      "source": [
        "!pip install pysoundfile librosa torch pillow"
      ],
      "execution_count": 1,
      "outputs": [
        {
          "output_type": "stream",
          "text": [
            "Collecting pysoundfile\n",
            "  Downloading https://files.pythonhosted.org/packages/2a/b3/0b871e5fd31b9a8e54b4ee359384e705a1ca1e2870706d2f081dc7cc1693/PySoundFile-0.9.0.post1-py2.py3-none-any.whl\n",
            "Requirement already satisfied: librosa in /usr/local/lib/python3.6/dist-packages (0.6.3)\n",
            "Requirement already satisfied: torch in /usr/local/lib/python3.6/dist-packages (1.5.0+cu101)\n",
            "Requirement already satisfied: pillow in /usr/local/lib/python3.6/dist-packages (7.0.0)\n",
            "Requirement already satisfied: cffi>=0.6 in /usr/local/lib/python3.6/dist-packages (from pysoundfile) (1.14.0)\n",
            "Requirement already satisfied: scikit-learn!=0.19.0,>=0.14.0 in /usr/local/lib/python3.6/dist-packages (from librosa) (0.22.2.post1)\n",
            "Requirement already satisfied: scipy>=1.0.0 in /usr/local/lib/python3.6/dist-packages (from librosa) (1.4.1)\n",
            "Requirement already satisfied: audioread>=2.0.0 in /usr/local/lib/python3.6/dist-packages (from librosa) (2.1.8)\n",
            "Requirement already satisfied: numba>=0.38.0 in /usr/local/lib/python3.6/dist-packages (from librosa) (0.48.0)\n",
            "Requirement already satisfied: decorator>=3.0.0 in /usr/local/lib/python3.6/dist-packages (from librosa) (4.4.2)\n",
            "Requirement already satisfied: six>=1.3 in /usr/local/lib/python3.6/dist-packages (from librosa) (1.12.0)\n",
            "Requirement already satisfied: numpy>=1.8.0 in /usr/local/lib/python3.6/dist-packages (from librosa) (1.18.3)\n",
            "Requirement already satisfied: resampy>=0.2.0 in /usr/local/lib/python3.6/dist-packages (from librosa) (0.2.2)\n",
            "Requirement already satisfied: joblib>=0.12 in /usr/local/lib/python3.6/dist-packages (from librosa) (0.14.1)\n",
            "Requirement already satisfied: future in /usr/local/lib/python3.6/dist-packages (from torch) (0.16.0)\n",
            "Requirement already satisfied: pycparser in /usr/local/lib/python3.6/dist-packages (from cffi>=0.6->pysoundfile) (2.20)\n",
            "Requirement already satisfied: llvmlite<0.32.0,>=0.31.0dev0 in /usr/local/lib/python3.6/dist-packages (from numba>=0.38.0->librosa) (0.31.0)\n",
            "Requirement already satisfied: setuptools in /usr/local/lib/python3.6/dist-packages (from numba>=0.38.0->librosa) (46.1.3)\n",
            "Installing collected packages: pysoundfile\n",
            "Successfully installed pysoundfile-0.9.0.post1\n"
          ],
          "name": "stdout"
        }
      ]
    },
    {
      "cell_type": "code",
      "metadata": {
        "colab_type": "code",
        "id": "IGJ-iqIe8423",
        "colab": {}
      },
      "source": [
        "# avoid jupyter printing the last result by default\n",
        "\n",
        "from IPython.core.interactiveshell import InteractiveShell\n",
        "InteractiveShell.ast_node_interactivity = \"none\""
      ],
      "execution_count": 0,
      "outputs": []
    },
    {
      "cell_type": "markdown",
      "metadata": {
        "id": "LuH0COzXg5iG",
        "colab_type": "text"
      },
      "source": [
        "\n",
        "## Reproducibility\n",
        "\n",
        "We fix the random seed for reproducibility purposes. See this for details:\n",
        "https://pytorch.org/docs/stable/notes/randomness.html"
      ]
    },
    {
      "cell_type": "code",
      "metadata": {
        "id": "jx8Z6BRcg6K2",
        "colab_type": "code",
        "colab": {}
      },
      "source": [
        "import torch\n",
        "import numpy as np\n",
        "\n",
        "seed = 321\n",
        "torch.manual_seed(seed)\n",
        "torch.backends.cudnn.deterministic = True\n",
        "torch.backends.cudnn.benchmark = False\n",
        "np.random.seed(seed)"
      ],
      "execution_count": 0,
      "outputs": []
    },
    {
      "cell_type": "markdown",
      "metadata": {
        "id": "1ZFsWgy2sdcw",
        "colab_type": "text"
      },
      "source": [
        "# Free Spoken Digit dataset\n",
        "\n",
        "For this notebook we will be using a dataset called Free Spoken Digit dataset. It is a collection of utterances of digits, from 0 to 9, by 4 different speakers. It is meant to be the MNIST for speech.\n",
        "\n",
        "We will download it first:"
      ]
    },
    {
      "cell_type": "code",
      "metadata": {
        "id": "M3DWUqmBDSjV",
        "colab_type": "code",
        "colab": {}
      },
      "source": [
        "!wget -q -O repo.zip https://github.com/Jakobovski/free-spoken-digit-dataset/archive/master.zip\n",
        "!unzip -q -o repo.zip\n",
        "!rm -rf repo.zip recordings\n",
        "!mv free-spoken-digit-dataset-master/recordings .\n",
        "!rm -rf free-spoken-digit-dataset-master train valid test"
      ],
      "execution_count": 0,
      "outputs": []
    },
    {
      "cell_type": "markdown",
      "metadata": {
        "id": "74vw-jzyyCjf",
        "colab_type": "text"
      },
      "source": [
        "Given that we have labels for both the speaker and the digit, we could classify the utterances for any of those aspects. **In this exercise, we will be clasifying utterance digit**."
      ]
    },
    {
      "cell_type": "markdown",
      "metadata": {
        "id": "w8xYG3w7tWYk",
        "colab_type": "text"
      },
      "source": [
        "# Mel Spectrogram computation and storage as images\n",
        "\n",
        "We will not be dealing with the waveforms directly, but we will be computing the Mel spectrogram.\n",
        "\n",
        "Let's define a couple of functions that we will be using to conver waveforms to spectrograms:"
      ]
    },
    {
      "cell_type": "code",
      "metadata": {
        "id": "Z0yHJXrUUnbC",
        "colab_type": "code",
        "colab": {}
      },
      "source": [
        "from librosa import power_to_db\n",
        "from librosa.feature import melspectrogram\n",
        "from PIL import Image\n",
        "\n",
        "\n",
        "def sound2mel(audio_signal, sample_rate):\n",
        "    \"\"\"Computes the Mel spectrogram (in dB) of the given audio signal.\"\"\"\n",
        "\n",
        "    n_fft = 1024\n",
        "    hop_length = 256\n",
        "    n_mels = 40\n",
        "    fmin = 20\n",
        "    fmax = sample_rate / 2 \n",
        "    \n",
        "    # compute the Mel spectrogram with librosa\n",
        "    mel_spec_power = melspectrogram(audio_signal,\n",
        "                                    sr=sample_rate,\n",
        "                                    n_fft=n_fft, \n",
        "                                    hop_length=hop_length, \n",
        "                                    n_mels=n_mels,\n",
        "                                    power=2.0, \n",
        "                                    fmin=fmin,\n",
        "                                    fmax=fmax)\n",
        "    \n",
        "    # See this to better understand what you get into mel_spec_power:\n",
        "    #     https://stackoverflow.com/q/52232839/674487\n",
        "\n",
        "    # Let's better handle the spectrogram in dB\n",
        "    mel_spec_db = power_to_db(mel_spec_power, ref=np.max)\n",
        "\n",
        "    return mel_spec_db\n",
        "\n",
        "def to_grayscale_image(spec):\n",
        "    \"\"\"Takes a spectrogram and fits it into a 8-bit image\"\"\"\n",
        "    img = (((spec - spec.min()) / (spec.max() - spec.min())) * 255.9).astype(np.uint8)\n",
        "    return Image.fromarray(img)"
      ],
      "execution_count": 0,
      "outputs": []
    },
    {
      "cell_type": "markdown",
      "metadata": {
        "id": "tcXE-7TbuYQi",
        "colab_type": "text"
      },
      "source": [
        "In order to make it easier to handle the utterance as spectrograms and feed them to our neural networks, we will store these spectrograms as normal images, so that later we can use image classification data loaders.\n",
        "\n",
        "As we convert the waveforms to spectrogram and save them as images, we will also split them into training, validation and test sets. For this, we will take one of the four speakers (\"yweweler\") and we will use some of his utterances for validation and some for test. Each data split will be under a different directory (i.e. train/valid/test).\n",
        "\n",
        "Note that under each data split directory, we will have subdirectories for each different digit. We will use this later to get the utterance label."
      ]
    },
    {
      "cell_type": "code",
      "metadata": {
        "id": "9ZepHVAvuXNB",
        "colab_type": "code",
        "colab": {}
      },
      "source": [
        "import os\n",
        "import soundfile\n",
        "\n",
        "\n",
        "SPEAKERS = ['jackson', 'nicolas', 'theo', 'yweweler']\n",
        "N_SPEAKERS = 4\n",
        "N_DIGITS = 10\n",
        "N_REPETITIONS = 50\n",
        "\n",
        "for speaker_index, speaker in enumerate(SPEAKERS):\n",
        "    for digit in range(N_DIGITS):\n",
        "        for repetition in range(N_REPETITIONS):\n",
        "            sound_file = 'recordings/{}_{}_{}.wav'.format(digit, speaker, repetition)\n",
        "            audio_signal, sampling_rate = soundfile.read(sound_file)\n",
        "            spectrogram = sound2mel(audio_signal, sampling_rate)\n",
        "            split = ('test' if speaker == 'yweweler' and repetition < 25\n",
        "                     else 'valid' if speaker == 'yweweler'\n",
        "                     else 'train') \n",
        "            dirname = '{}/{}'.format(split, digit)\n",
        "            os.makedirs(dirname, exist_ok=True)\n",
        "            img_file = '{}/{}_{}_{}.png'.format(dirname, digit, speaker, repetition)\n",
        "            to_grayscale_image(spectrogram).save(img_file)"
      ],
      "execution_count": 0,
      "outputs": []
    },
    {
      "cell_type": "markdown",
      "metadata": {
        "id": "RYZJngBmxA3M",
        "colab_type": "text"
      },
      "source": [
        "# Data loading\n",
        "\n",
        "Now that we have our utterances stored as spectrogram images, we will prepare the data loading. For this, we will use **torchvision** data loaders, together with standard transformations. The most important transformation is the resizing. Take into account that the length of the utterances is not constant, but each utterance can have a different duration, which leads to Mel spectrograms of different lengths (the number of channels is fixed, though). In order to overcome this, we will simply rescale the image to a constant size."
      ]
    },
    {
      "cell_type": "code",
      "metadata": {
        "id": "i2_VMjyzkfjJ",
        "colab_type": "code",
        "colab": {}
      },
      "source": [
        "from torchvision.datasets import ImageFolder\n",
        "from torchvision import transforms\n",
        "from torch.utils.data import DataLoader\n",
        "\n",
        "transform = transforms.Compose([\n",
        "                transforms.Grayscale(),\n",
        "                transforms.Resize((128, 64)),\n",
        "                transforms.ToTensor(),\n",
        "])\n",
        "\n",
        "train_data = ImageFolder(root='./train', transform=transform)\n",
        "train_loader = DataLoader(train_data, batch_size=30, shuffle=True, num_workers=4)\n",
        "\n",
        "valid_data = ImageFolder(root='./valid', transform=transform)\n",
        "valid_loader = DataLoader(valid_data, batch_size=30, shuffle=True, num_workers=1)\n",
        "\n",
        "test_data = ImageFolder(root='./test', transform=transform)\n",
        "test_loader = DataLoader(test_data, batch_size=30, shuffle=True, num_workers=1)"
      ],
      "execution_count": 0,
      "outputs": []
    },
    {
      "cell_type": "markdown",
      "metadata": {
        "id": "Dozz1FiKxsYf",
        "colab_type": "text"
      },
      "source": [
        "Note that, by default, `ImageFolder` takes the labels from the directories directly under the root folder. This means that the image files under `train/2` will be labeled as '2', those under `train/7` will be labeled as '7'.\n",
        "\n",
        "This is how one of our spectrograms look like:"
      ]
    },
    {
      "cell_type": "code",
      "metadata": {
        "id": "8XYuOqEwklYW",
        "colab_type": "code",
        "outputId": "1343ccc9-1ed8-4b30-f3b3-0945b54fb61d",
        "colab": {
          "base_uri": "https://localhost:8080/",
          "height": 326
        }
      },
      "source": [
        "import matplotlib.pyplot as plt\n",
        "import seaborn as sns; sns.set()\n",
        "\n",
        "plt.imshow(train_data[0][0].squeeze().cpu().numpy())"
      ],
      "execution_count": 8,
      "outputs": [
        {
          "output_type": "stream",
          "text": [
            "/usr/local/lib/python3.6/dist-packages/statsmodels/tools/_testing.py:19: FutureWarning: pandas.util.testing is deprecated. Use the functions in the public API at pandas.testing instead.\n",
            "  import pandas.util.testing as tm\n"
          ],
          "name": "stderr"
        },
        {
          "output_type": "display_data",
          "data": {
            "image/png": "[encoded data removed]",
            "text/plain": [
              "<Figure size 432x288 with 1 Axes>"
            ]
          },
          "metadata": {
            "tags": []
          }
        }
      ]
    },
    {
      "cell_type": "markdown",
      "metadata": {
        "id": "sILX_ksp1lW0",
        "colab_type": "text"
      },
      "source": [
        "# Training and Evaluation Routines\n",
        "\n",
        "Let's define some functions to train our model and evaluate it under the validation set:"
      ]
    },
    {
      "cell_type": "code",
      "metadata": {
        "id": "BCkYOfDEIItT",
        "colab_type": "code",
        "colab": {}
      },
      "source": [
        "def train_epoch(model, criterion, optimizer, train_loader, log_interval, epoch):\n",
        "    # sets the model in \"training mode\", so dropout, BN, etc are active\n",
        "    model.train()\n",
        "\n",
        "    num_batches = len(train_loader)\n",
        "\n",
        "    losses = []\n",
        "    for batch_idx, batch in enumerate(train_loader):\n",
        "\n",
        "        input, targets = batch\n",
        "\n",
        "        model.zero_grad()\n",
        "\n",
        "        output = model(input.cuda())\n",
        "        loss = criterion(output, targets.cuda())\n",
        "        loss.backward()\n",
        "\n",
        "        optimizer.step()\n",
        "\n",
        "        losses.append(loss.item())\n",
        "\n",
        "        if log_interval and batch_idx % log_interval == 0:\n",
        "            percentage = 100 * batch_idx // num_batches\n",
        "            msg = 'epoch {}, progress: {}% avg.loss: {}'\n",
        "            print(msg.format(epoch, percentage, losses[-1]))\n",
        "    \n",
        "    return losses"
      ],
      "execution_count": 0,
      "outputs": []
    },
    {
      "cell_type": "code",
      "metadata": {
        "id": "x_LvwToVILLM",
        "colab_type": "code",
        "colab": {}
      },
      "source": [
        "def evaluate(model, criterion, loader):\n",
        "\n",
        "    # Sets the model in \"evaluation mode\" so dropout, BN, etc are deactivated.\n",
        "    model.eval()\n",
        "\n",
        "    num_total_elems = 0\n",
        "    loss = 0.\n",
        "    targets = []\n",
        "    preds = []\n",
        "    with torch.no_grad():\n",
        "        for batch in loader:\n",
        "            input, target = batch\n",
        "            batch_size = input.size(0)\n",
        "            logits = model(input.cuda())\n",
        "            batch_loss = criterion(logits, target.cuda()).item()\n",
        "            loss += batch_size * batch_loss\n",
        "            num_total_elems += batch_size\n",
        "            targets.extend(target.numpy().tolist())\n",
        "            preds.extend(torch.argmax(logits, dim=1).cpu().numpy().tolist())\n",
        "    \n",
        "    loss = loss / num_total_elems\n",
        "\n",
        "    return loss, targets, preds"
      ],
      "execution_count": 0,
      "outputs": []
    },
    {
      "cell_type": "code",
      "metadata": {
        "id": "lRWyCPoQIOtw",
        "colab_type": "code",
        "colab": {}
      },
      "source": [
        "import torch.nn as nn\n",
        "import torch.nn.functional as F\n",
        "import torch.optim as optim\n",
        "\n",
        "\n",
        "def train_model(model, lr, num_epochs, train_loader, valid_loader, log_interval):\n",
        "\n",
        "    # The output of the model must be compatible with this loss function\n",
        "    criterion = nn.CrossEntropyLoss()\n",
        "\n",
        "    optimizer = optim.Adam(lr=lr, params=model.parameters())\n",
        "\n",
        "    train_losses = []\n",
        "    valid_losses = []\n",
        "    best_valid_loss = None\n",
        "    epochs_without_improvement = 0\n",
        "    patience = 10\n",
        "    for epoch in range(num_epochs):\n",
        "        epoch_losses = train_epoch(model,\n",
        "                                   criterion,\n",
        "                                   optimizer,\n",
        "                                   train_loader,\n",
        "                                   log_interval,\n",
        "                                   epoch)\n",
        "        train_losses.extend(epoch_losses)\n",
        "\n",
        "        valid_loss, _, _ = evaluate(model, criterion, valid_loader)\n",
        "        if best_valid_loss is None or valid_loss < best_valid_loss:\n",
        "          epochs_without_improvement = 0\n",
        "          best_valid_loss = valid_loss\n",
        "          torch.save(model.state_dict(), 'checkpoint_best.pt')\n",
        "        else:\n",
        "          epochs_without_improvement += 1\n",
        "        print(f'{epochs_without_improvement} epochs without improvement')\n",
        "        valid_losses.append(valid_loss)\n",
        "\n",
        "        print('epoch {}, validation loss: {:.3f}'.format(epoch, valid_loss))\n",
        "        if epochs_without_improvement == patience:\n",
        "          print('Early stop')\n",
        "          break\n",
        "\n",
        "    return train_losses, valid_losses"
      ],
      "execution_count": 0,
      "outputs": []
    },
    {
      "cell_type": "markdown",
      "metadata": {
        "id": "0o_LJ6BS12uz",
        "colab_type": "text"
      },
      "source": [
        "# Our Neural Network\n",
        "\n",
        "Now it's time to define a neural network that can address the classification problem at hand:"
      ]
    },
    {
      "cell_type": "code",
      "metadata": {
        "id": "5LGOoYeXXoH6",
        "colab_type": "code",
        "colab": {}
      },
      "source": [
        "class DigitClassificationModel(nn.Module):\n",
        "    def __init__(self, dropout = 0.6):\n",
        "        super().__init__()\n",
        "        # TODO: declare whatever modules you need\n",
        "        self.droput = dropout\n",
        "        self.conv = nn.Sequential(\n",
        "            nn.Conv2d(1, 32, 3, padding=1),\n",
        "            nn.BatchNorm2d(32),\n",
        "            nn.ReLU(),\n",
        "            nn.MaxPool2d(2, 2),\n",
        "\n",
        "            nn.Conv2d(32, 64, 3, padding=1),\n",
        "            nn.BatchNorm2d(64),\n",
        "            nn.ReLU(),\n",
        "            nn.MaxPool2d(2, 2),\n",
        "\n",
        "            nn.Conv2d(64, 128, 3, padding=1),\n",
        "            nn.BatchNorm2d(128),\n",
        "            nn.ReLU(),\n",
        "            nn.MaxPool2d(2, 2),\n",
        "\n",
        "            nn.Conv2d(128, 256, 3, padding=1),\n",
        "            nn.BatchNorm2d(256),\n",
        "            nn.ReLU(),\n",
        "            nn.MaxPool2d(2, 2),\n",
        "\n",
        "            nn.Conv2d(256, 512, 3, padding=1),\n",
        "            nn.BatchNorm2d(512),\n",
        "            nn.ReLU(),\n",
        "            nn.MaxPool2d(2, 2)\n",
        "        )\n",
        "\n",
        "        self.linear = nn.Sequential(\n",
        "            nn.Dropout(self.droput),\n",
        "            nn.Linear(512*4*2, 512),\n",
        "            nn.BatchNorm1d(512),\n",
        "            nn.ReLU(),\n",
        "            nn.Dropout(self.droput),\n",
        "\n",
        "            nn.Linear(512, 256),\n",
        "            nn.BatchNorm1d(256),\n",
        "            nn.ReLU(),\n",
        "            nn.Dropout(self.droput),\n",
        "\n",
        "            nn.Linear(256, 128),\n",
        "            nn.BatchNorm1d(128),\n",
        "            nn.ReLU(),\n",
        "            nn.Dropout(self.droput),\n",
        "\n",
        "            nn.Linear(128, N_DIGITS)\n",
        "        )\n",
        "\n",
        "    def forward(self, input):\n",
        "        x = input\n",
        "        # TODO: implement whatever model you want, ensuring it achieves\n",
        "        #       decent accuracy. You could probably try with\n",
        "        #       convolutional layers, residual connections, etc.\n",
        "        #       Given the small size of the training data, you may\n",
        "        #       also want to use some sort of regularization.\n",
        "        #       Note that the result of the forward computation of the\n",
        "        #       model must be compatible with the loss function used for\n",
        "        #       the training (see functions train_epoch and train_model).\n",
        "        b = input.shape[0]\n",
        "        x = self.conv(input)\n",
        "        x = x.view(-1, 512*4*2)\n",
        "        x = self.linear(x)\n",
        "        \n",
        "        return x"
      ],
      "execution_count": 0,
      "outputs": []
    },
    {
      "cell_type": "markdown",
      "metadata": {
        "id": "D8y8CduL3nI7",
        "colab_type": "text"
      },
      "source": [
        "# Training\n",
        "\n",
        "Now it's time to train our model."
      ]
    },
    {
      "cell_type": "code",
      "metadata": {
        "id": "q_7DkMRbEbIj",
        "colab_type": "code",
        "outputId": "4526da7a-bb92-425f-c380-54d32efca18c",
        "colab": {
          "base_uri": "https://localhost:8080/",
          "height": 1000
        }
      },
      "source": [
        "# TODO: select an appropriate set of hyperparameters, either in\n",
        "#       this cell (learning rate, number of epochs, etc), or\n",
        "#       throughout the notebook (e.g. batch size). Also, consider\n",
        "#       techniques such as early stopping to avoid overfitting.\n",
        "\n",
        "NUM_EPOCHS = 100\n",
        "LOG_INTERVAL = 40\n",
        "lr = 0.0001\n",
        "\n",
        "model = DigitClassificationModel().cuda()\n",
        "train_losses, valid_losses = train_model(model,\n",
        "                                         lr,\n",
        "                                         NUM_EPOCHS,\n",
        "                                         train_loader,\n",
        "                                         valid_loader,\n",
        "                                         LOG_INTERVAL)\n",
        "model.load_state_dict(torch.load('checkpoint_best.pt'))\n",
        "model.cuda()"
      ],
      "execution_count": 42,
      "outputs": [
        {
          "output_type": "stream",
          "text": [
            "epoch 0, progress: 0% avg.loss: 2.7101757526397705\n",
            "epoch 0, progress: 80% avg.loss: 2.3875629901885986\n",
            "0 epochs without improvement\n",
            "epoch 0, validation loss: 2.266\n",
            "epoch 1, progress: 0% avg.loss: 2.2940170764923096\n",
            "epoch 1, progress: 80% avg.loss: 2.355220317840576\n",
            "0 epochs without improvement\n",
            "epoch 1, validation loss: 2.150\n",
            "epoch 2, progress: 0% avg.loss: 2.2353193759918213\n",
            "epoch 2, progress: 80% avg.loss: 2.124971389770508\n",
            "0 epochs without improvement\n",
            "epoch 2, validation loss: 2.083\n",
            "epoch 3, progress: 0% avg.loss: 2.039606809616089\n",
            "epoch 3, progress: 80% avg.loss: 1.9684569835662842\n",
            "0 epochs without improvement\n",
            "epoch 3, validation loss: 1.993\n",
            "epoch 4, progress: 0% avg.loss: 1.9999138116836548\n",
            "epoch 4, progress: 80% avg.loss: 1.8052845001220703\n",
            "0 epochs without improvement\n",
            "epoch 4, validation loss: 1.951\n",
            "epoch 5, progress: 0% avg.loss: 1.7781500816345215\n",
            "epoch 5, progress: 80% avg.loss: 1.7285829782485962\n",
            "0 epochs without improvement\n",
            "epoch 5, validation loss: 1.861\n",
            "epoch 6, progress: 0% avg.loss: 1.7729700803756714\n",
            "epoch 6, progress: 80% avg.loss: 1.608953595161438\n",
            "0 epochs without improvement\n",
            "epoch 6, validation loss: 1.819\n",
            "epoch 7, progress: 0% avg.loss: 1.8355975151062012\n",
            "epoch 7, progress: 80% avg.loss: 1.539783239364624\n",
            "0 epochs without improvement\n",
            "epoch 7, validation loss: 1.724\n",
            "epoch 8, progress: 0% avg.loss: 1.56642484664917\n",
            "epoch 8, progress: 80% avg.loss: 1.2332687377929688\n",
            "0 epochs without improvement\n",
            "epoch 8, validation loss: 1.673\n",
            "epoch 9, progress: 0% avg.loss: 1.441847562789917\n",
            "epoch 9, progress: 80% avg.loss: 1.2824019193649292\n",
            "0 epochs without improvement\n",
            "epoch 9, validation loss: 1.608\n",
            "epoch 10, progress: 0% avg.loss: 1.397141695022583\n",
            "epoch 10, progress: 80% avg.loss: 1.3528443574905396\n",
            "0 epochs without improvement\n",
            "epoch 10, validation loss: 1.523\n",
            "epoch 11, progress: 0% avg.loss: 1.4251435995101929\n",
            "epoch 11, progress: 80% avg.loss: 1.0533332824707031\n",
            "0 epochs without improvement\n",
            "epoch 11, validation loss: 1.460\n",
            "epoch 12, progress: 0% avg.loss: 1.1293786764144897\n",
            "epoch 12, progress: 80% avg.loss: 0.9450848698616028\n",
            "0 epochs without improvement\n",
            "epoch 12, validation loss: 1.444\n",
            "epoch 13, progress: 0% avg.loss: 1.0249422788619995\n",
            "epoch 13, progress: 80% avg.loss: 0.9087081551551819\n",
            "0 epochs without improvement\n",
            "epoch 13, validation loss: 1.350\n",
            "epoch 14, progress: 0% avg.loss: 0.829067587852478\n",
            "epoch 14, progress: 80% avg.loss: 0.8633676767349243\n",
            "0 epochs without improvement\n",
            "epoch 14, validation loss: 1.241\n",
            "epoch 15, progress: 0% avg.loss: 1.057435154914856\n",
            "epoch 15, progress: 80% avg.loss: 0.8043078184127808\n",
            "0 epochs without improvement\n",
            "epoch 15, validation loss: 1.192\n",
            "epoch 16, progress: 0% avg.loss: 0.7721733450889587\n",
            "epoch 16, progress: 80% avg.loss: 0.6700482964515686\n",
            "0 epochs without improvement\n",
            "epoch 16, validation loss: 1.152\n",
            "epoch 17, progress: 0% avg.loss: 0.6169882416725159\n",
            "epoch 17, progress: 80% avg.loss: 0.9190455079078674\n",
            "0 epochs without improvement\n",
            "epoch 17, validation loss: 1.102\n",
            "epoch 18, progress: 0% avg.loss: 0.5393304824829102\n",
            "epoch 18, progress: 80% avg.loss: 0.6457915902137756\n",
            "0 epochs without improvement\n",
            "epoch 18, validation loss: 1.042\n",
            "epoch 19, progress: 0% avg.loss: 0.6391638517379761\n",
            "epoch 19, progress: 80% avg.loss: 0.7596800923347473\n",
            "1 epochs without improvement\n",
            "epoch 19, validation loss: 1.064\n",
            "epoch 20, progress: 0% avg.loss: 0.6662928462028503\n",
            "epoch 20, progress: 80% avg.loss: 0.4930344223976135\n",
            "0 epochs without improvement\n",
            "epoch 20, validation loss: 0.940\n",
            "epoch 21, progress: 0% avg.loss: 0.6863246560096741\n",
            "epoch 21, progress: 80% avg.loss: 0.63010174036026\n",
            "1 epochs without improvement\n",
            "epoch 21, validation loss: 0.999\n",
            "epoch 22, progress: 0% avg.loss: 0.5864681601524353\n",
            "epoch 22, progress: 80% avg.loss: 0.48858407139778137\n",
            "0 epochs without improvement\n",
            "epoch 22, validation loss: 0.867\n",
            "epoch 23, progress: 0% avg.loss: 0.4868473410606384\n",
            "epoch 23, progress: 80% avg.loss: 0.6055647134780884\n",
            "1 epochs without improvement\n",
            "epoch 23, validation loss: 0.886\n",
            "epoch 24, progress: 0% avg.loss: 0.46566280722618103\n",
            "epoch 24, progress: 80% avg.loss: 0.49284690618515015\n",
            "0 epochs without improvement\n",
            "epoch 24, validation loss: 0.784\n",
            "epoch 25, progress: 0% avg.loss: 0.36209678649902344\n",
            "epoch 25, progress: 80% avg.loss: 0.4740604758262634\n",
            "1 epochs without improvement\n",
            "epoch 25, validation loss: 0.799\n",
            "epoch 26, progress: 0% avg.loss: 0.3722703754901886\n",
            "epoch 26, progress: 80% avg.loss: 0.4527723491191864\n",
            "0 epochs without improvement\n",
            "epoch 26, validation loss: 0.777\n",
            "epoch 27, progress: 0% avg.loss: 0.391654908657074\n",
            "epoch 27, progress: 80% avg.loss: 0.31230923533439636\n",
            "0 epochs without improvement\n",
            "epoch 27, validation loss: 0.751\n",
            "epoch 28, progress: 0% avg.loss: 0.324680894613266\n",
            "epoch 28, progress: 80% avg.loss: 0.33646100759506226\n",
            "1 epochs without improvement\n",
            "epoch 28, validation loss: 0.783\n",
            "epoch 29, progress: 0% avg.loss: 0.30390506982803345\n",
            "epoch 29, progress: 80% avg.loss: 0.25240442156791687\n",
            "2 epochs without improvement\n",
            "epoch 29, validation loss: 0.895\n",
            "epoch 30, progress: 0% avg.loss: 0.33930832147598267\n",
            "epoch 30, progress: 80% avg.loss: 0.23807376623153687\n",
            "3 epochs without improvement\n",
            "epoch 30, validation loss: 0.779\n",
            "epoch 31, progress: 0% avg.loss: 0.434834361076355\n",
            "epoch 31, progress: 80% avg.loss: 0.32176536321640015\n",
            "0 epochs without improvement\n",
            "epoch 31, validation loss: 0.718\n",
            "epoch 32, progress: 0% avg.loss: 0.23350219428539276\n",
            "epoch 32, progress: 80% avg.loss: 0.30980098247528076\n",
            "1 epochs without improvement\n",
            "epoch 32, validation loss: 0.776\n",
            "epoch 33, progress: 0% avg.loss: 0.20748752355575562\n",
            "epoch 33, progress: 80% avg.loss: 0.2574596107006073\n",
            "2 epochs without improvement\n",
            "epoch 33, validation loss: 0.722\n",
            "epoch 34, progress: 0% avg.loss: 0.1930464655160904\n",
            "epoch 34, progress: 80% avg.loss: 0.28325098752975464\n",
            "0 epochs without improvement\n",
            "epoch 34, validation loss: 0.676\n",
            "epoch 35, progress: 0% avg.loss: 0.20053362846374512\n",
            "epoch 35, progress: 80% avg.loss: 0.4006359875202179\n",
            "0 epochs without improvement\n",
            "epoch 35, validation loss: 0.658\n",
            "epoch 36, progress: 0% avg.loss: 0.22699786722660065\n",
            "epoch 36, progress: 80% avg.loss: 0.17172402143478394\n",
            "0 epochs without improvement\n",
            "epoch 36, validation loss: 0.628\n",
            "epoch 37, progress: 0% avg.loss: 0.20065905153751373\n",
            "epoch 37, progress: 80% avg.loss: 0.24626554548740387\n",
            "0 epochs without improvement\n",
            "epoch 37, validation loss: 0.619\n",
            "epoch 38, progress: 0% avg.loss: 0.1934080570936203\n",
            "epoch 38, progress: 80% avg.loss: 0.2115253359079361\n",
            "1 epochs without improvement\n",
            "epoch 38, validation loss: 0.633\n",
            "epoch 39, progress: 0% avg.loss: 0.2850697338581085\n",
            "epoch 39, progress: 80% avg.loss: 0.24733038246631622\n",
            "2 epochs without improvement\n",
            "epoch 39, validation loss: 0.644\n",
            "epoch 40, progress: 0% avg.loss: 0.23350964486598969\n",
            "epoch 40, progress: 80% avg.loss: 0.18562361598014832\n",
            "0 epochs without improvement\n",
            "epoch 40, validation loss: 0.613\n",
            "epoch 41, progress: 0% avg.loss: 0.13841448724269867\n",
            "epoch 41, progress: 80% avg.loss: 0.17144708335399628\n",
            "1 epochs without improvement\n",
            "epoch 41, validation loss: 0.626\n",
            "epoch 42, progress: 0% avg.loss: 0.19109855592250824\n",
            "epoch 42, progress: 80% avg.loss: 0.21559420228004456\n",
            "2 epochs without improvement\n",
            "epoch 42, validation loss: 0.615\n",
            "epoch 43, progress: 0% avg.loss: 0.11610886454582214\n",
            "epoch 43, progress: 80% avg.loss: 0.16543444991111755\n",
            "0 epochs without improvement\n",
            "epoch 43, validation loss: 0.563\n",
            "epoch 44, progress: 0% avg.loss: 0.15275149047374725\n",
            "epoch 44, progress: 80% avg.loss: 0.2048557847738266\n",
            "1 epochs without improvement\n",
            "epoch 44, validation loss: 0.582\n",
            "epoch 45, progress: 0% avg.loss: 0.10283002257347107\n",
            "epoch 45, progress: 80% avg.loss: 0.09126736968755722\n",
            "2 epochs without improvement\n",
            "epoch 45, validation loss: 0.606\n",
            "epoch 46, progress: 0% avg.loss: 0.1377873420715332\n",
            "epoch 46, progress: 80% avg.loss: 0.134530708193779\n",
            "3 epochs without improvement\n",
            "epoch 46, validation loss: 0.590\n",
            "epoch 47, progress: 0% avg.loss: 0.06038516387343407\n",
            "epoch 47, progress: 80% avg.loss: 0.1310460865497589\n",
            "4 epochs without improvement\n",
            "epoch 47, validation loss: 0.612\n",
            "epoch 48, progress: 0% avg.loss: 0.1632358282804489\n",
            "epoch 48, progress: 80% avg.loss: 0.19730696082115173\n",
            "5 epochs without improvement\n",
            "epoch 48, validation loss: 0.642\n",
            "epoch 49, progress: 0% avg.loss: 0.15563544631004333\n",
            "epoch 49, progress: 80% avg.loss: 0.09791619330644608\n",
            "0 epochs without improvement\n",
            "epoch 49, validation loss: 0.557\n",
            "epoch 50, progress: 0% avg.loss: 0.1789366900920868\n",
            "epoch 50, progress: 80% avg.loss: 0.09769122302532196\n",
            "1 epochs without improvement\n",
            "epoch 50, validation loss: 0.676\n",
            "epoch 51, progress: 0% avg.loss: 0.10472431033849716\n",
            "epoch 51, progress: 80% avg.loss: 0.175000861287117\n",
            "2 epochs without improvement\n",
            "epoch 51, validation loss: 0.691\n",
            "epoch 52, progress: 0% avg.loss: 0.10081619769334793\n",
            "epoch 52, progress: 80% avg.loss: 0.33397090435028076\n",
            "3 epochs without improvement\n",
            "epoch 52, validation loss: 0.650\n",
            "epoch 53, progress: 0% avg.loss: 0.14281508326530457\n",
            "epoch 53, progress: 80% avg.loss: 0.10853229463100433\n",
            "4 epochs without improvement\n",
            "epoch 53, validation loss: 0.695\n",
            "epoch 54, progress: 0% avg.loss: 0.11524834483861923\n",
            "epoch 54, progress: 80% avg.loss: 0.09681711345911026\n",
            "5 epochs without improvement\n",
            "epoch 54, validation loss: 0.576\n",
            "epoch 55, progress: 0% avg.loss: 0.09695222228765488\n",
            "epoch 55, progress: 80% avg.loss: 0.0969681441783905\n",
            "6 epochs without improvement\n",
            "epoch 55, validation loss: 0.590\n",
            "epoch 56, progress: 0% avg.loss: 0.05361969396471977\n",
            "epoch 56, progress: 80% avg.loss: 0.04860220104455948\n",
            "7 epochs without improvement\n",
            "epoch 56, validation loss: 0.595\n",
            "epoch 57, progress: 0% avg.loss: 0.07487525045871735\n",
            "epoch 57, progress: 80% avg.loss: 0.07480459660291672\n",
            "8 epochs without improvement\n",
            "epoch 57, validation loss: 0.597\n",
            "epoch 58, progress: 0% avg.loss: 0.07138191908597946\n",
            "epoch 58, progress: 80% avg.loss: 0.15686902403831482\n",
            "9 epochs without improvement\n",
            "epoch 58, validation loss: 0.621\n",
            "epoch 59, progress: 0% avg.loss: 0.11100856214761734\n",
            "epoch 59, progress: 80% avg.loss: 0.13731908798217773\n",
            "10 epochs without improvement\n",
            "epoch 59, validation loss: 0.634\n",
            "Early stop\n"
          ],
          "name": "stdout"
        }
      ]
    },
    {
      "cell_type": "markdown",
      "metadata": {
        "id": "SoMTJFtsMSei",
        "colab_type": "text"
      },
      "source": [
        "Let's visualize the training/validation losses to understand if our model is overfitting:"
      ]
    },
    {
      "cell_type": "code",
      "metadata": {
        "id": "ehNk-q2cGZ9S",
        "colab_type": "code",
        "outputId": "2e8cc3b7-d52d-4dbd-bcf5-75ae24b60818",
        "colab": {
          "base_uri": "https://localhost:8080/",
          "height": 268
        }
      },
      "source": [
        "plt.plot(train_losses, label='train')\n",
        "valid_x_axis = [(1 + k) * len(train_losses)/len(valid_losses)\n",
        "                for k in range(len(valid_losses))]\n",
        "plt.plot(valid_x_axis, valid_losses, label='valid')\n",
        "plt.legend()"
      ],
      "execution_count": 43,
      "outputs": [
        {
          "output_type": "display_data",
          "data": {
            "image/png": "[encoded data removed]",
            "text/plain": [
              "<Figure size 432x288 with 1 Axes>"
            ]
          },
          "metadata": {
            "tags": []
          }
        }
      ]
    },
    {
      "cell_type": "markdown",
      "metadata": {
        "id": "hqCPeCEhGhUu",
        "colab_type": "text"
      },
      "source": [
        "# Performance Evaluation\n",
        "\n",
        "Now we will evaluate our model in the test set. For this, we will compute the predictions of the model over the test set and compare them against the true labels in a **confusion matrix**:"
      ]
    },
    {
      "cell_type": "code",
      "metadata": {
        "id": "O6mzYOL4fhyx",
        "colab_type": "code",
        "outputId": "40da7dfe-410e-41fe-a889-8692128928ef",
        "colab": {
          "base_uri": "https://localhost:8080/",
          "height": 590
        }
      },
      "source": [
        "from sklearn.metrics import confusion_matrix, classification_report\n",
        "\n",
        "\n",
        "_, target, preds = evaluate(model, nn.CrossEntropyLoss(), test_loader)\n",
        "print(classification_report(target, preds))\n",
        "cm = confusion_matrix(target, preds)\n",
        "relative_cm = cm.astype('float') / cm.sum(axis=1)[:, np.newaxis]\n",
        "sns.heatmap(relative_cm, annot=True)\n",
        "plt.xlabel(\"Predicted\")\n",
        "plt.ylabel(\"True Label\")"
      ],
      "execution_count": 44,
      "outputs": [
        {
          "output_type": "stream",
          "text": [
            "              precision    recall  f1-score   support\n",
            "\n",
            "           0       0.89      0.96      0.92        25\n",
            "           1       0.88      0.92      0.90        25\n",
            "           2       1.00      0.88      0.94        25\n",
            "           3       0.96      0.88      0.92        25\n",
            "           4       1.00      0.96      0.98        25\n",
            "           5       0.65      0.88      0.75        25\n",
            "           6       0.75      0.48      0.59        25\n",
            "           7       0.93      1.00      0.96        25\n",
            "           8       0.66      1.00      0.79        25\n",
            "           9       0.92      0.48      0.63        25\n",
            "\n",
            "    accuracy                           0.84       250\n",
            "   macro avg       0.86      0.84      0.84       250\n",
            "weighted avg       0.86      0.84      0.84       250\n",
            "\n"
          ],
          "name": "stdout"
        },
        {
          "output_type": "display_data",
          "data": {
            "image/png": "[encoded data removed]",
            "text/plain": [
              "<Figure size 432x288 with 2 Axes>"
            ]
          },
          "metadata": {
            "tags": []
          }
        }
      ]
    }
  ]
}