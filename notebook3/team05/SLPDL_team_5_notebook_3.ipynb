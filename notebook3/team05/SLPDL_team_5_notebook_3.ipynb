{
  "nbformat": 4,
  "nbformat_minor": 0,
  "metadata": {
    "colab": {
      "name": "Copy of SLPDL_notebook3_template.ipynb",
      "provenance": [],
      "collapsed_sections": []
    },
    "kernelspec": {
      "name": "python3",
      "display_name": "Python 3"
    },
    "accelerator": "GPU"
  },
  "cells": [
    {
      "cell_type": "markdown",
      "metadata": {
        "id": "OMYlERQfnO6d",
        "colab_type": "text"
      },
      "source": [
        "# Instructions of this exercise\n",
        "\n",
        "This jupyter notebook is an exercise for you to practice with basic speech classification with neural networks.\n",
        "\n",
        "The different sections have comments that will guide you through the different stages of the processing.\n",
        "\n",
        "You will find parts in this notebook that are missing. They are marked with a \"TODO\", with an explanation about what you are supposed to write or code in that gap. Sometimes you may be requested to implement an algorithm or a piece of code that behaves in a specific way. Other times, you may be requested to explain what a specific piece of code does or why it is needed. In some cases, the requests may contain a \"trap\", e.g. the thing you are requested to implement can't be done for whatever reason, or it may need an extra preprocessing step for it to be possible.\n",
        "\n",
        "If you have any doubt, do not hesitate to contact the instructor at noe.casas@upc.edu"
      ]
    },
    {
      "cell_type": "markdown",
      "metadata": {
        "id": "ig4eszbtrAG9",
        "colab_type": "text"
      },
      "source": [
        "# Requirements\n",
        "\n",
        "In order to follow this notebook you need working knowledge on:\n",
        "\n",
        "- Python programming.\n",
        "- Pytorch basics. Do not forget to check the pytorch documentation to understand the purpose of each function/class, as well as what inputs they expect and what kind of result the give.\n",
        "- Signal processing basics (e.g. Mel spectrograms).\n",
        "- Convolutional networks. A good general starting point may be [Stanford's CS231n course](http://cs231n.github.io/convolutional-networks/).\n",
        "- Unix command line basics.\n",
        "\n",
        "If you lack any of them, please acquire the needed knowledge on the internet, where there is plenty of material about the three topics."
      ]
    },
    {
      "cell_type": "markdown",
      "metadata": {
        "id": "ZLRUkGD9rPDT",
        "colab_type": "text"
      },
      "source": [
        "# Installation of extra libraries\n",
        "\n",
        "First, let's install some libraries that may be missing from your python environment:\n",
        "\n",
        "- librosa: a must for audio processing. Here we will be using mainly to compute the Mel spectrogram.\n",
        "- soundfile: to load waveform files. We could also have used librosa, but librosa's file loading function resamples the waveform by default and it is somewhat error prone (see [this post](https://librosa.github.io/blog/2019/07/17/resample-on-load/#resample-on-load) for further info).\n",
        "- pillow: API-compatible successor of PIL (Python Imaging Library), which is a widely used python library.\n",
        "- pytorch"
      ]
    },
    {
      "cell_type": "code",
      "metadata": {
        "id": "0Nm1UdimrSX9",
        "colab_type": "code",
        "outputId": "aa68c466-d0ed-48d3-e164-46e93a306735",
        "colab": {
          "base_uri": "https://localhost:8080/",
          "height": 394
        }
      },
      "source": [
        "!pip install pysoundfile librosa torch pillow"
      ],
      "execution_count": 0,
      "outputs": [
        {
          "output_type": "stream",
          "text": [
            "Collecting pysoundfile\n",
            "  Downloading https://files.pythonhosted.org/packages/2a/b3/0b871e5fd31b9a8e54b4ee359384e705a1ca1e2870706d2f081dc7cc1693/PySoundFile-0.9.0.post1-py2.py3-none-any.whl\n",
            "Requirement already satisfied: librosa in /usr/local/lib/python3.6/dist-packages (0.6.3)\n",
            "Requirement already satisfied: torch in /usr/local/lib/python3.6/dist-packages (1.5.0+cu101)\n",
            "Requirement already satisfied: pillow in /usr/local/lib/python3.6/dist-packages (7.0.0)\n",
            "Requirement already satisfied: cffi>=0.6 in /usr/local/lib/python3.6/dist-packages (from pysoundfile) (1.14.0)\n",
            "Requirement already satisfied: scikit-learn!=0.19.0,>=0.14.0 in /usr/local/lib/python3.6/dist-packages (from librosa) (0.22.2.post1)\n",
            "Requirement already satisfied: resampy>=0.2.0 in /usr/local/lib/python3.6/dist-packages (from librosa) (0.2.2)\n",
            "Requirement already satisfied: joblib>=0.12 in /usr/local/lib/python3.6/dist-packages (from librosa) (0.14.1)\n",
            "Requirement already satisfied: numpy>=1.8.0 in /usr/local/lib/python3.6/dist-packages (from librosa) (1.18.4)\n",
            "Requirement already satisfied: scipy>=1.0.0 in /usr/local/lib/python3.6/dist-packages (from librosa) (1.4.1)\n",
            "Requirement already satisfied: decorator>=3.0.0 in /usr/local/lib/python3.6/dist-packages (from librosa) (4.4.2)\n",
            "Requirement already satisfied: numba>=0.38.0 in /usr/local/lib/python3.6/dist-packages (from librosa) (0.48.0)\n",
            "Requirement already satisfied: six>=1.3 in /usr/local/lib/python3.6/dist-packages (from librosa) (1.12.0)\n",
            "Requirement already satisfied: audioread>=2.0.0 in /usr/local/lib/python3.6/dist-packages (from librosa) (2.1.8)\n",
            "Requirement already satisfied: future in /usr/local/lib/python3.6/dist-packages (from torch) (0.16.0)\n",
            "Requirement already satisfied: pycparser in /usr/local/lib/python3.6/dist-packages (from cffi>=0.6->pysoundfile) (2.20)\n",
            "Requirement already satisfied: llvmlite<0.32.0,>=0.31.0dev0 in /usr/local/lib/python3.6/dist-packages (from numba>=0.38.0->librosa) (0.31.0)\n",
            "Requirement already satisfied: setuptools in /usr/local/lib/python3.6/dist-packages (from numba>=0.38.0->librosa) (46.1.3)\n",
            "Installing collected packages: pysoundfile\n",
            "Successfully installed pysoundfile-0.9.0.post1\n"
          ],
          "name": "stdout"
        }
      ]
    },
    {
      "cell_type": "code",
      "metadata": {
        "colab_type": "code",
        "id": "IGJ-iqIe8423",
        "colab": {}
      },
      "source": [
        "# avoid jupyter printing the last result by default\n",
        "\n",
        "from IPython.core.interactiveshell import InteractiveShell\n",
        "InteractiveShell.ast_node_interactivity = \"none\""
      ],
      "execution_count": 0,
      "outputs": []
    },
    {
      "cell_type": "markdown",
      "metadata": {
        "id": "LuH0COzXg5iG",
        "colab_type": "text"
      },
      "source": [
        "\n",
        "## Reproducibility\n",
        "\n",
        "We fix the random seed for reproducibility purposes. See this for details:\n",
        "https://pytorch.org/docs/stable/notes/randomness.html"
      ]
    },
    {
      "cell_type": "code",
      "metadata": {
        "id": "jx8Z6BRcg6K2",
        "colab_type": "code",
        "colab": {}
      },
      "source": [
        "import torch\n",
        "import numpy as np\n",
        "\n",
        "seed = 321\n",
        "torch.manual_seed(seed)\n",
        "torch.backends.cudnn.deterministic = True\n",
        "torch.backends.cudnn.benchmark = False\n",
        "np.random.seed(seed)"
      ],
      "execution_count": 0,
      "outputs": []
    },
    {
      "cell_type": "markdown",
      "metadata": {
        "id": "1ZFsWgy2sdcw",
        "colab_type": "text"
      },
      "source": [
        "# Free Spoken Digit dataset\n",
        "\n",
        "For this notebook we will be using a dataset called Free Spoken Digit dataset. It is a collection of utterances of digits, from 0 to 9, by 4 different speakers. It is meant to be the MNIST for speech.\n",
        "\n",
        "We will download it first:"
      ]
    },
    {
      "cell_type": "code",
      "metadata": {
        "id": "M3DWUqmBDSjV",
        "colab_type": "code",
        "colab": {}
      },
      "source": [
        "!wget -q -O repo.zip https://github.com/Jakobovski/free-spoken-digit-dataset/archive/master.zip\n",
        "!unzip -q -o repo.zip\n",
        "!rm -rf repo.zip recordings\n",
        "!mv free-spoken-digit-dataset-master/recordings .\n",
        "!rm -rf free-spoken-digit-dataset-master train valid test"
      ],
      "execution_count": 0,
      "outputs": []
    },
    {
      "cell_type": "markdown",
      "metadata": {
        "id": "74vw-jzyyCjf",
        "colab_type": "text"
      },
      "source": [
        "Given that we have labels for both the speaker and the digit, we could classify the utterances for any of those aspects. **In this exercise, we will be clasifying utterance digit**."
      ]
    },
    {
      "cell_type": "markdown",
      "metadata": {
        "id": "w8xYG3w7tWYk",
        "colab_type": "text"
      },
      "source": [
        "# Mel Spectrogram computation and storage as images\n",
        "\n",
        "We will not be dealing with the waveforms directly, but we will be computing the Mel spectrogram.\n",
        "\n",
        "Let's define a couple of functions that we will be using to conver waveforms to spectrograms:"
      ]
    },
    {
      "cell_type": "code",
      "metadata": {
        "id": "Z0yHJXrUUnbC",
        "colab_type": "code",
        "colab": {}
      },
      "source": [
        "from librosa import power_to_db\n",
        "from librosa.feature import melspectrogram\n",
        "from PIL import Image\n",
        "\n",
        "\n",
        "def sound2mel(audio_signal, sample_rate):\n",
        "    \"\"\"Computes the Mel spectrogram (in dB) of the given audio signal.\"\"\"\n",
        "\n",
        "    n_fft = 1024\n",
        "    hop_length = 256\n",
        "    n_mels = 40\n",
        "    fmin = 20\n",
        "    fmax = sample_rate / 2 \n",
        "    \n",
        "    # compute the Mel spectrogram with librosa\n",
        "    mel_spec_power = melspectrogram(audio_signal,\n",
        "                                    sr=sample_rate,\n",
        "                                    n_fft=n_fft, \n",
        "                                    hop_length=hop_length, \n",
        "                                    n_mels=n_mels,\n",
        "                                    power=2.0, \n",
        "                                    fmin=fmin,\n",
        "                                    fmax=fmax)\n",
        "    \n",
        "    # See this to better understand what you get into mel_spec_power:\n",
        "    #     https://stackoverflow.com/q/52232839/674487\n",
        "\n",
        "    # Let's better handle the spectrogram in dB\n",
        "    mel_spec_db = power_to_db(mel_spec_power, ref=np.max)\n",
        "\n",
        "    return mel_spec_db\n",
        "\n",
        "def to_grayscale_image(spec):\n",
        "    \"\"\"Takes a spectrogram and fits it into a 8-bit image\"\"\"\n",
        "    img = (((spec - spec.min()) / (spec.max() - spec.min())) * 255.9).astype(np.uint8)\n",
        "    return Image.fromarray(img)"
      ],
      "execution_count": 0,
      "outputs": []
    },
    {
      "cell_type": "markdown",
      "metadata": {
        "id": "tcXE-7TbuYQi",
        "colab_type": "text"
      },
      "source": [
        "In order to make it easier to handle the utterance as spectrograms and feed them to our neural networks, we will store these spectrograms as normal images, so that later we can use image classification data loaders.\n",
        "\n",
        "As we convert the waveforms to spectrogram and save them as images, we will also split them into training, validation and test sets. For this, we will take one of the four speakers (\"yweweler\") and we will use some of his utterances for validation and some for test. Each data split will be under a different directory (i.e. train/valid/test).\n",
        "\n",
        "Note that under each data split directory, we will have subdirectories for each different digit. We will use this later to get the utterance label."
      ]
    },
    {
      "cell_type": "code",
      "metadata": {
        "id": "9ZepHVAvuXNB",
        "colab_type": "code",
        "colab": {}
      },
      "source": [
        "import os\n",
        "import soundfile\n",
        "\n",
        "\n",
        "SPEAKERS = ['jackson', 'nicolas', 'theo', 'yweweler']\n",
        "N_SPEAKERS = 4\n",
        "N_DIGITS = 10\n",
        "N_REPETITIONS = 50\n",
        "\n",
        "for speaker_index, speaker in enumerate(SPEAKERS):\n",
        "    for digit in range(N_DIGITS):\n",
        "        for repetition in range(N_REPETITIONS):\n",
        "            sound_file = 'recordings/{}_{}_{}.wav'.format(digit, speaker, repetition)\n",
        "            audio_signal, sampling_rate = soundfile.read(sound_file)\n",
        "            spectrogram = sound2mel(audio_signal, sampling_rate)\n",
        "            split = ('test' if speaker == 'yweweler' and repetition < 25\n",
        "                     else 'valid' if speaker == 'yweweler'\n",
        "                     else 'train') \n",
        "            dirname = '{}/{}'.format(split, digit)\n",
        "            os.makedirs(dirname, exist_ok=True)\n",
        "            img_file = '{}/{}_{}_{}.png'.format(dirname, digit, speaker, repetition)\n",
        "            to_grayscale_image(spectrogram).save(img_file)"
      ],
      "execution_count": 0,
      "outputs": []
    },
    {
      "cell_type": "markdown",
      "metadata": {
        "id": "RYZJngBmxA3M",
        "colab_type": "text"
      },
      "source": [
        "# Data loading\n",
        "\n",
        "Now that we have our utterances stored as spectrogram images, we will prepare the data loading. For this, we will use **torchvision** data loaders, together with standard transformations. The most important transformation is the resizing. Take into account that the length of the utterances is not constant, but each utterance can have a different duration, which leads to Mel spectrograms of different lengths (the number of channels is fixed, though). In order to overcome this, we will simply rescale the image to a constant size."
      ]
    },
    {
      "cell_type": "code",
      "metadata": {
        "id": "i2_VMjyzkfjJ",
        "colab_type": "code",
        "colab": {}
      },
      "source": [
        "from torchvision.datasets import ImageFolder\n",
        "from torchvision import transforms\n",
        "from torch.utils.data import DataLoader\n",
        "\n",
        "transform = transforms.Compose([\n",
        "                transforms.Grayscale(),\n",
        "                transforms.Resize((128, 64)),\n",
        "                transforms.ToTensor(),\n",
        "])\n",
        "\n",
        "train_data = ImageFolder(root='./train', transform=transform)\n",
        "train_loader = DataLoader(train_data, batch_size=20, shuffle=True, num_workers=4)\n",
        "\n",
        "valid_data = ImageFolder(root='./valid', transform=transform)\n",
        "valid_loader = DataLoader(valid_data, batch_size=20, shuffle=True, num_workers=1)\n",
        "\n",
        "test_data = ImageFolder(root='./test', transform=transform)\n",
        "test_loader = DataLoader(test_data, batch_size=20, shuffle=True, num_workers=1)"
      ],
      "execution_count": 0,
      "outputs": []
    },
    {
      "cell_type": "markdown",
      "metadata": {
        "id": "Dozz1FiKxsYf",
        "colab_type": "text"
      },
      "source": [
        "Note that, by default, `ImageFolder` takes the labels from the directories directly under the root folder. This means that the image files under `train/2` will be labeled as '2', those under `train/7` will be labeled as '7'.\n",
        "\n",
        "This is how one of our spectrograms look like:"
      ]
    },
    {
      "cell_type": "code",
      "metadata": {
        "id": "8XYuOqEwklYW",
        "colab_type": "code",
        "outputId": "8b3e4741-8487-4357-8967-a7e47ff67006",
        "colab": {
          "base_uri": "https://localhost:8080/",
          "height": 325
        }
      },
      "source": [
        "import matplotlib.pyplot as plt\n",
        "import seaborn as sns; sns.set()\n",
        "\n",
        "plt.imshow(train_data[0][0].squeeze().cpu().numpy())"
      ],
      "execution_count": 0,
      "outputs": [
        {
          "output_type": "stream",
          "text": [
            "/usr/local/lib/python3.6/dist-packages/statsmodels/tools/_testing.py:19: FutureWarning: pandas.util.testing is deprecated. Use the functions in the public API at pandas.testing instead.\n",
            "  import pandas.util.testing as tm\n"
          ],
          "name": "stderr"
        },
        {
          "output_type": "display_data",
          "data": {
            "image/png": "[encoded data removed]",
            "text/plain": [
              "<Figure size 432x288 with 1 Axes>"
            ]
          },
          "metadata": {
            "tags": []
          }
        }
      ]
    },
    {
      "cell_type": "markdown",
      "metadata": {
        "id": "sILX_ksp1lW0",
        "colab_type": "text"
      },
      "source": [
        "# Training and Evaluation Routines\n",
        "\n",
        "Let's define some functions to train our model and evaluate it under the validation set:"
      ]
    },
    {
      "cell_type": "code",
      "metadata": {
        "id": "BCkYOfDEIItT",
        "colab_type": "code",
        "colab": {}
      },
      "source": [
        "def train_epoch(model, criterion, optimizer, train_loader, log_interval, epoch):\n",
        "    # sets the model in \"training mode\", so dropout, BN, etc are active\n",
        "    model.train()\n",
        "\n",
        "    num_batches = len(train_loader)\n",
        "\n",
        "    losses = []\n",
        "    for batch_idx, batch in enumerate(train_loader):\n",
        "\n",
        "        input, targets = batch\n",
        "\n",
        "        model.zero_grad()\n",
        "\n",
        "        output = model(input.cuda())\n",
        "        loss = criterion(output, targets.cuda())\n",
        "        loss.backward()\n",
        "\n",
        "        optimizer.step()\n",
        "\n",
        "        losses.append(loss.item())\n",
        "\n",
        "        if log_interval and batch_idx % log_interval == 0:\n",
        "            percentage = 100 * batch_idx // num_batches\n",
        "            msg = 'epoch {}, progress: {}% avg.loss: {}'\n",
        "            print(msg.format(epoch, percentage, losses[-1]))\n",
        "    \n",
        "    return losses"
      ],
      "execution_count": 0,
      "outputs": []
    },
    {
      "cell_type": "code",
      "metadata": {
        "id": "x_LvwToVILLM",
        "colab_type": "code",
        "colab": {}
      },
      "source": [
        "def evaluate(model, criterion, loader):\n",
        "\n",
        "    # Sets the model in \"evaluation mode\" so dropout, BN, etc are deactivated.\n",
        "    model.eval()\n",
        "\n",
        "    num_total_elems = 0\n",
        "    loss = 0.\n",
        "    targets = []\n",
        "    preds = []\n",
        "    with torch.no_grad():\n",
        "        for batch in loader:\n",
        "            input, target = batch\n",
        "            batch_size = input.size(0)\n",
        "            logits = model(input.cuda())\n",
        "            batch_loss = criterion(logits, target.cuda()).item()\n",
        "            loss += batch_size * batch_loss\n",
        "            num_total_elems += batch_size\n",
        "            targets.extend(target.numpy().tolist())\n",
        "            preds.extend(torch.argmax(logits, dim=1).cpu().numpy().tolist())\n",
        "    \n",
        "    loss = loss / num_total_elems\n",
        "\n",
        "    return loss, targets, preds"
      ],
      "execution_count": 0,
      "outputs": []
    },
    {
      "cell_type": "code",
      "metadata": {
        "id": "lRWyCPoQIOtw",
        "colab_type": "code",
        "colab": {}
      },
      "source": [
        "import torch.nn as nn\n",
        "import torch.nn.functional as F\n",
        "import torch.optim as optim\n",
        "\n",
        "\n",
        "def train_model(model, lr, num_epochs, train_loader, valid_loader, log_interval):\n",
        "\n",
        "    # The output of the model must be compatible with this loss function\n",
        "    criterion = nn.CrossEntropyLoss()\n",
        "\n",
        "    optimizer = optim.Adam(lr=lr, params=model.parameters())\n",
        "\n",
        "    train_losses = []\n",
        "    valid_losses = []\n",
        "    for epoch in range(num_epochs):\n",
        "        epoch_losses = train_epoch(model,\n",
        "                                   criterion,\n",
        "                                   optimizer,\n",
        "                                   train_loader,\n",
        "                                   log_interval,\n",
        "                                   epoch)\n",
        "        train_losses.extend(epoch_losses)\n",
        "\n",
        "        valid_loss, _, _ = evaluate(model, criterion, valid_loader)\n",
        "        valid_losses.append(valid_loss)\n",
        "\n",
        "        print('epoch {}, validation loss: {:.3f}'.format(epoch, valid_loss))\n",
        "\n",
        "    return train_losses, valid_losses"
      ],
      "execution_count": 0,
      "outputs": []
    },
    {
      "cell_type": "markdown",
      "metadata": {
        "id": "0o_LJ6BS12uz",
        "colab_type": "text"
      },
      "source": [
        "# Our Neural Network\n",
        "\n",
        "Now it's time to define a neural network that can address the classification problem at hand:"
      ]
    },
    {
      "cell_type": "code",
      "metadata": {
        "id": "5LGOoYeXXoH6",
        "colab_type": "code",
        "colab": {}
      },
      "source": [
        "class DigitClassificationModel(nn.Module):\n",
        "    def __init__(self):\n",
        "        super().__init__()\n",
        "        # TODO: declare whatever modules you need\n",
        "        self.conv1 = nn.Conv2d(in_channels=1, out_channels=32, kernel_size=(4,4), padding=1)\n",
        "        self.conv2 = nn.Conv2d(in_channels=32, out_channels=64, kernel_size=(4,4), padding=1)\n",
        "        self.maxpool = nn.MaxPool2d(kernel_size=(3,3), stride=3)\n",
        "        self.lin1 = nn.Linear(64*13*6, 128)\n",
        "        self.lin2 = nn.Linear(128, 10)\n",
        "        self.dropout = nn.Dropout()\n",
        "        self.relu = nn.ReLU()\n",
        "\n",
        "    def forward(self, input):\n",
        "        x = input\n",
        "        # TODO: implement whatever model you want, ensuring it achieves\n",
        "        #       decent accuracy. You could probably try with\n",
        "        #       convolutional layers, residual connections, etc.\n",
        "        #       Given the small size of the training data, you may\n",
        "        #       also want to use some sort of regularization.\n",
        "        #       Note that the result of the forward computation of the\n",
        "        #       model must be compatible with the loss function used for\n",
        "        #       the training (see functions train_epoch and train_model).\n",
        "        x = self.conv1(x)\n",
        "        x = self.relu(x)\n",
        "        x = self.maxpool(x)\n",
        "        x = self.conv2(x)\n",
        "        x = self.relu(x)\n",
        "        x = self.maxpool(x)\n",
        "        x = x.view(-1, 64*13*6)\n",
        "        x = self.lin1(x)\n",
        "        x = self.relu(x)\n",
        "        x = self.dropout(x)\n",
        "        x = self.lin2(x)\n",
        "\n",
        "        return x"
      ],
      "execution_count": 0,
      "outputs": []
    },
    {
      "cell_type": "markdown",
      "metadata": {
        "id": "D8y8CduL3nI7",
        "colab_type": "text"
      },
      "source": [
        "# Training\n",
        "\n",
        "Now it's time to train our model."
      ]
    },
    {
      "cell_type": "code",
      "metadata": {
        "id": "q_7DkMRbEbIj",
        "colab_type": "code",
        "outputId": "963790f3-09e6-4418-c760-6249a8116710",
        "colab": {
          "base_uri": "https://localhost:8080/",
          "height": 1000
        }
      },
      "source": [
        "# TODO: select an appropriate set of hyperparameters, either in\n",
        "#       this cell (learning rate, number of epochs, etc), or\n",
        "#       throughout the notebook (e.g. batch size). Also, consider\n",
        "#       techniques such as early stopping to avoid overfitting.\n",
        "\n",
        "NUM_EPOCHS = 50\n",
        "LOG_INTERVAL = 40\n",
        "\n",
        "model = DigitClassificationModel().cuda()\n",
        "train_losses, valid_losses = train_model(model,\n",
        "                                         0.0001,\n",
        "                                         NUM_EPOCHS,\n",
        "                                         train_loader,\n",
        "                                         valid_loader,\n",
        "                                         LOG_INTERVAL)"
      ],
      "execution_count": 0,
      "outputs": [
        {
          "output_type": "stream",
          "text": [
            "epoch 0, progress: 0% avg.loss: 2.30976939201355\n",
            "epoch 0, progress: 53% avg.loss: 2.1729485988616943\n",
            "epoch 0, validation loss: 2.077\n",
            "epoch 1, progress: 0% avg.loss: 2.0506606101989746\n",
            "epoch 1, progress: 53% avg.loss: 1.7587025165557861\n",
            "epoch 1, validation loss: 1.448\n",
            "epoch 2, progress: 0% avg.loss: 1.577439308166504\n",
            "epoch 2, progress: 53% avg.loss: 1.4383951425552368\n",
            "epoch 2, validation loss: 1.248\n",
            "epoch 3, progress: 0% avg.loss: 0.863735020160675\n",
            "epoch 3, progress: 53% avg.loss: 0.7695221900939941\n",
            "epoch 3, validation loss: 1.020\n",
            "epoch 4, progress: 0% avg.loss: 0.7752445340156555\n",
            "epoch 4, progress: 53% avg.loss: 0.500619113445282\n",
            "epoch 4, validation loss: 0.950\n",
            "epoch 5, progress: 0% avg.loss: 0.7021391987800598\n",
            "epoch 5, progress: 53% avg.loss: 0.4494304656982422\n",
            "epoch 5, validation loss: 0.874\n",
            "epoch 6, progress: 0% avg.loss: 0.3576187789440155\n",
            "epoch 6, progress: 53% avg.loss: 0.3351166546344757\n",
            "epoch 6, validation loss: 0.780\n",
            "epoch 7, progress: 0% avg.loss: 0.32616809010505676\n",
            "epoch 7, progress: 53% avg.loss: 0.22703583538532257\n",
            "epoch 7, validation loss: 0.919\n",
            "epoch 8, progress: 0% avg.loss: 0.21841660141944885\n",
            "epoch 8, progress: 53% avg.loss: 0.32655224204063416\n",
            "epoch 8, validation loss: 0.764\n",
            "epoch 9, progress: 0% avg.loss: 0.317902147769928\n",
            "epoch 9, progress: 53% avg.loss: 0.34646400809288025\n",
            "epoch 9, validation loss: 0.776\n",
            "epoch 10, progress: 0% avg.loss: 0.18323740363121033\n",
            "epoch 10, progress: 53% avg.loss: 0.2753150463104248\n",
            "epoch 10, validation loss: 0.773\n",
            "epoch 11, progress: 0% avg.loss: 0.2889699339866638\n",
            "epoch 11, progress: 53% avg.loss: 0.34146133065223694\n",
            "epoch 11, validation loss: 0.807\n",
            "epoch 12, progress: 0% avg.loss: 0.187783882021904\n",
            "epoch 12, progress: 53% avg.loss: 0.2617766857147217\n",
            "epoch 12, validation loss: 0.854\n",
            "epoch 13, progress: 0% avg.loss: 0.26084715127944946\n",
            "epoch 13, progress: 53% avg.loss: 0.12077733129262924\n",
            "epoch 13, validation loss: 0.872\n",
            "epoch 14, progress: 0% avg.loss: 0.3846779763698578\n",
            "epoch 14, progress: 53% avg.loss: 0.47600507736206055\n",
            "epoch 14, validation loss: 0.682\n",
            "epoch 15, progress: 0% avg.loss: 0.31666889786720276\n",
            "epoch 15, progress: 53% avg.loss: 0.2438284456729889\n",
            "epoch 15, validation loss: 0.838\n",
            "epoch 16, progress: 0% avg.loss: 0.21066534519195557\n",
            "epoch 16, progress: 53% avg.loss: 0.4589368402957916\n",
            "epoch 16, validation loss: 0.744\n",
            "epoch 17, progress: 0% avg.loss: 0.3276846706867218\n",
            "epoch 17, progress: 53% avg.loss: 0.1857765018939972\n",
            "epoch 17, validation loss: 0.625\n",
            "epoch 18, progress: 0% avg.loss: 0.1691965013742447\n",
            "epoch 18, progress: 53% avg.loss: 0.30833014845848083\n",
            "epoch 18, validation loss: 0.705\n",
            "epoch 19, progress: 0% avg.loss: 0.12264265865087509\n",
            "epoch 19, progress: 53% avg.loss: 0.525399386882782\n",
            "epoch 19, validation loss: 0.730\n",
            "epoch 20, progress: 0% avg.loss: 0.15789832174777985\n",
            "epoch 20, progress: 53% avg.loss: 0.10592732578516006\n",
            "epoch 20, validation loss: 0.646\n",
            "epoch 21, progress: 0% avg.loss: 0.3604046106338501\n",
            "epoch 21, progress: 53% avg.loss: 0.0828450471162796\n",
            "epoch 21, validation loss: 0.593\n",
            "epoch 22, progress: 0% avg.loss: 0.05927684158086777\n",
            "epoch 22, progress: 53% avg.loss: 0.1605953723192215\n",
            "epoch 22, validation loss: 0.782\n",
            "epoch 23, progress: 0% avg.loss: 0.3439466655254364\n",
            "epoch 23, progress: 53% avg.loss: 0.19120833277702332\n",
            "epoch 23, validation loss: 0.676\n",
            "epoch 24, progress: 0% avg.loss: 0.087985560297966\n",
            "epoch 24, progress: 53% avg.loss: 0.14870265126228333\n",
            "epoch 24, validation loss: 0.592\n",
            "epoch 25, progress: 0% avg.loss: 0.08815407752990723\n",
            "epoch 25, progress: 53% avg.loss: 0.15031297504901886\n",
            "epoch 25, validation loss: 0.647\n",
            "epoch 26, progress: 0% avg.loss: 0.18377678096294403\n",
            "epoch 26, progress: 53% avg.loss: 0.16807787120342255\n",
            "epoch 26, validation loss: 0.723\n",
            "epoch 27, progress: 0% avg.loss: 0.1083550676703453\n",
            "epoch 27, progress: 53% avg.loss: 0.047409892082214355\n",
            "epoch 27, validation loss: 0.719\n",
            "epoch 28, progress: 0% avg.loss: 0.11496424674987793\n",
            "epoch 28, progress: 53% avg.loss: 0.3809448480606079\n",
            "epoch 28, validation loss: 0.596\n",
            "epoch 29, progress: 0% avg.loss: 0.13189834356307983\n",
            "epoch 29, progress: 53% avg.loss: 0.17753736674785614\n",
            "epoch 29, validation loss: 0.627\n",
            "epoch 30, progress: 0% avg.loss: 0.05014073848724365\n",
            "epoch 30, progress: 53% avg.loss: 0.16397452354431152\n",
            "epoch 30, validation loss: 0.683\n",
            "epoch 31, progress: 0% avg.loss: 0.0539044514298439\n",
            "epoch 31, progress: 53% avg.loss: 0.06048449128866196\n",
            "epoch 31, validation loss: 0.783\n",
            "epoch 32, progress: 0% avg.loss: 0.14213180541992188\n",
            "epoch 32, progress: 53% avg.loss: 0.041974425315856934\n",
            "epoch 32, validation loss: 0.627\n",
            "epoch 33, progress: 0% avg.loss: 0.24552173912525177\n",
            "epoch 33, progress: 53% avg.loss: 0.2961128056049347\n",
            "epoch 33, validation loss: 0.688\n",
            "epoch 34, progress: 0% avg.loss: 0.28409796953201294\n",
            "epoch 34, progress: 53% avg.loss: 0.06941208988428116\n",
            "epoch 34, validation loss: 0.751\n",
            "epoch 35, progress: 0% avg.loss: 0.14461718499660492\n",
            "epoch 35, progress: 53% avg.loss: 0.0939093604683876\n",
            "epoch 35, validation loss: 0.753\n",
            "epoch 36, progress: 0% avg.loss: 0.09979704767465591\n",
            "epoch 36, progress: 53% avg.loss: 0.02329564094543457\n",
            "epoch 36, validation loss: 0.736\n",
            "epoch 37, progress: 0% avg.loss: 0.2999197542667389\n",
            "epoch 37, progress: 53% avg.loss: 0.04743606969714165\n",
            "epoch 37, validation loss: 0.660\n",
            "epoch 38, progress: 0% avg.loss: 0.22407622635364532\n",
            "epoch 38, progress: 53% avg.loss: 0.14173129200935364\n",
            "epoch 38, validation loss: 0.839\n",
            "epoch 39, progress: 0% avg.loss: 0.08455131947994232\n",
            "epoch 39, progress: 53% avg.loss: 0.07680769264698029\n",
            "epoch 39, validation loss: 0.622\n",
            "epoch 40, progress: 0% avg.loss: 0.06545934826135635\n",
            "epoch 40, progress: 53% avg.loss: 0.09512815624475479\n",
            "epoch 40, validation loss: 0.728\n",
            "epoch 41, progress: 0% avg.loss: 0.02443068102002144\n",
            "epoch 41, progress: 53% avg.loss: 0.07766006141901016\n",
            "epoch 41, validation loss: 0.797\n",
            "epoch 42, progress: 0% avg.loss: 0.14162135124206543\n",
            "epoch 42, progress: 53% avg.loss: 0.020104026421904564\n",
            "epoch 42, validation loss: 0.941\n",
            "epoch 43, progress: 0% avg.loss: 0.03539776802062988\n",
            "epoch 43, progress: 53% avg.loss: 0.1168469563126564\n",
            "epoch 43, validation loss: 0.963\n",
            "epoch 44, progress: 0% avg.loss: 0.07613129913806915\n",
            "epoch 44, progress: 53% avg.loss: 0.1395481824874878\n",
            "epoch 44, validation loss: 0.686\n",
            "epoch 45, progress: 0% avg.loss: 0.03677015379071236\n",
            "epoch 45, progress: 53% avg.loss: 0.20677843689918518\n",
            "epoch 45, validation loss: 0.789\n",
            "epoch 46, progress: 0% avg.loss: 0.041832637041807175\n",
            "epoch 46, progress: 53% avg.loss: 0.06765829026699066\n",
            "epoch 46, validation loss: 0.713\n",
            "epoch 47, progress: 0% avg.loss: 0.0963817834854126\n",
            "epoch 47, progress: 53% avg.loss: 0.06959418952465057\n",
            "epoch 47, validation loss: 0.759\n",
            "epoch 48, progress: 0% avg.loss: 0.04651989787817001\n",
            "epoch 48, progress: 53% avg.loss: 0.07804612815380096\n",
            "epoch 48, validation loss: 0.892\n",
            "epoch 49, progress: 0% avg.loss: 0.0662444457411766\n",
            "epoch 49, progress: 53% avg.loss: 0.020823311060667038\n",
            "epoch 49, validation loss: 0.677\n"
          ],
          "name": "stdout"
        }
      ]
    },
    {
      "cell_type": "markdown",
      "metadata": {
        "id": "SoMTJFtsMSei",
        "colab_type": "text"
      },
      "source": [
        "Let's visualize the training/validation losses to understand if our model is overfitting:"
      ]
    },
    {
      "cell_type": "code",
      "metadata": {
        "id": "ehNk-q2cGZ9S",
        "colab_type": "code",
        "outputId": "fcd22d46-7c11-4917-c907-fb45ce0eb06a",
        "colab": {
          "base_uri": "https://localhost:8080/",
          "height": 268
        }
      },
      "source": [
        "plt.plot(train_losses, label='train')\n",
        "valid_x_axis = [(1 + k) * len(train_losses)/len(valid_losses)\n",
        "                for k in range(len(valid_losses))]\n",
        "plt.plot(valid_x_axis, valid_losses, label='valid')\n",
        "plt.legend()"
      ],
      "execution_count": 0,
      "outputs": [
        {
          "output_type": "display_data",
          "data": {
            "image/png": "[encoded data removed]",
            "text/plain": [
              "<Figure size 432x288 with 1 Axes>"
            ]
          },
          "metadata": {
            "tags": []
          }
        }
      ]
    },
    {
      "cell_type": "markdown",
      "metadata": {
        "id": "hqCPeCEhGhUu",
        "colab_type": "text"
      },
      "source": [
        "# Performance Evaluation\n",
        "\n",
        "Now we will evaluate our model in the test set. For this, we will compute the predictions of the model over the test set and compare them against the true labels in a **confusion matrix**:"
      ]
    },
    {
      "cell_type": "code",
      "metadata": {
        "id": "O6mzYOL4fhyx",
        "colab_type": "code",
        "outputId": "a9504338-ccd1-4a21-8de4-a594f03f5a6f",
        "colab": {
          "base_uri": "https://localhost:8080/",
          "height": 289
        }
      },
      "source": [
        "from sklearn.metrics import confusion_matrix\n",
        "\n",
        "\n",
        "_, target, preds = evaluate(model, nn.CrossEntropyLoss(), test_loader)\n",
        "\n",
        "cm = confusion_matrix(target, preds)\n",
        "relative_cm = cm.astype('float') / cm.sum(axis=1)[:, np.newaxis]\n",
        "sns.heatmap(relative_cm, annot=True)\n",
        "plt.xlabel(\"Predicted\")\n",
        "plt.ylabel(\"True Label\")"
      ],
      "execution_count": 0,
      "outputs": [
        {
          "output_type": "display_data",
          "data": {
            "image/png": "[encoded data removed]",
            "text/plain": [
              "<Figure size 432x288 with 2 Axes>"
            ]
          },
          "metadata": {
            "tags": []
          }
        }
      ]
    }
  ]
}