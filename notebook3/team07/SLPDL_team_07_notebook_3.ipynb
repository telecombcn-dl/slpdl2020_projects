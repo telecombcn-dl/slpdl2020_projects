{
  "nbformat": 4,
  "nbformat_minor": 0,
  "metadata": {
    "colab": {
      "name": "SLPDL_notebook3_template.ipynb",
      "provenance": [],
      "collapsed_sections": []
    },
    "kernelspec": {
      "name": "python3",
      "display_name": "Python 3"
    },
    "accelerator": "GPU"
  },
  "cells": [
    {
      "cell_type": "markdown",
      "metadata": {
        "id": "OMYlERQfnO6d",
        "colab_type": "text"
      },
      "source": [
        "# Instructions of this exercise\n",
        "\n",
        "This jupyter notebook is an exercise for you to practice with basic speech classification with neural networks.\n",
        "\n",
        "The different sections have comments that will guide you through the different stages of the processing.\n",
        "\n",
        "You will find parts in this notebook that are missing. They are marked with a \"TODO\", with an explanation about what you are supposed to write or code in that gap. Sometimes you may be requested to implement an algorithm or a piece of code that behaves in a specific way. Other times, you may be requested to explain what a specific piece of code does or why it is needed. In some cases, the requests may contain a \"trap\", e.g. the thing you are requested to implement can't be done for whatever reason, or it may need an extra preprocessing step for it to be possible.\n",
        "\n",
        "If you have any doubt, do not hesitate to contact the instructor at noe.casas@upc.edu"
      ]
    },
    {
      "cell_type": "markdown",
      "metadata": {
        "id": "ig4eszbtrAG9",
        "colab_type": "text"
      },
      "source": [
        "# Requirements\n",
        "\n",
        "In order to follow this notebook you need working knowledge on:\n",
        "\n",
        "- Python programming.\n",
        "- Pytorch basics. Do not forget to check the pytorch documentation to understand the purpose of each function/class, as well as what inputs they expect and what kind of result the give.\n",
        "- Signal processing basics (e.g. Mel spectrograms).\n",
        "- Convolutional networks. A good general starting point may be [Stanford's CS231n course](http://cs231n.github.io/convolutional-networks/).\n",
        "- Unix command line basics.\n",
        "\n",
        "If you lack any of them, please acquire the needed knowledge on the internet, where there is plenty of material about the three topics."
      ]
    },
    {
      "cell_type": "markdown",
      "metadata": {
        "id": "ZLRUkGD9rPDT",
        "colab_type": "text"
      },
      "source": [
        "# Installation of extra libraries\n",
        "\n",
        "First, let's install some libraries that may be missing from your python environment:\n",
        "\n",
        "- librosa: a must for audio processing. Here we will be using mainly to compute the Mel spectrogram.\n",
        "- soundfile: to load waveform files. We could also have used librosa, but librosa's file loading function resamples the waveform by default and it is somewhat error prone (see [this post](https://librosa.github.io/blog/2019/07/17/resample-on-load/#resample-on-load) for further info).\n",
        "- pillow: API-compatible successor of PIL (Python Imaging Library), which is a widely used python library.\n",
        "- pytorch"
      ]
    },
    {
      "cell_type": "code",
      "metadata": {
        "id": "0Nm1UdimrSX9",
        "colab_type": "code",
        "outputId": "038f95ea-c3e8-4bee-a16b-c441fab1f0ba",
        "colab": {
          "base_uri": "https://localhost:8080/",
          "height": 323
        }
      },
      "source": [
        "!pip install pysoundfile librosa torch pillow"
      ],
      "execution_count": 0,
      "outputs": [
        {
          "output_type": "stream",
          "text": [
            "Requirement already satisfied: pysoundfile in /usr/local/lib/python3.6/dist-packages (0.9.0.post1)\n",
            "Requirement already satisfied: librosa in /usr/local/lib/python3.6/dist-packages (0.6.3)\n",
            "Requirement already satisfied: torch in /usr/local/lib/python3.6/dist-packages (1.5.0+cu101)\n",
            "Requirement already satisfied: pillow in /usr/local/lib/python3.6/dist-packages (7.0.0)\n",
            "Requirement already satisfied: cffi>=0.6 in /usr/local/lib/python3.6/dist-packages (from pysoundfile) (1.14.0)\n",
            "Requirement already satisfied: decorator>=3.0.0 in /usr/local/lib/python3.6/dist-packages (from librosa) (4.4.2)\n",
            "Requirement already satisfied: audioread>=2.0.0 in /usr/local/lib/python3.6/dist-packages (from librosa) (2.1.8)\n",
            "Requirement already satisfied: scikit-learn!=0.19.0,>=0.14.0 in /usr/local/lib/python3.6/dist-packages (from librosa) (0.22.2.post1)\n",
            "Requirement already satisfied: numba>=0.38.0 in /usr/local/lib/python3.6/dist-packages (from librosa) (0.48.0)\n",
            "Requirement already satisfied: scipy>=1.0.0 in /usr/local/lib/python3.6/dist-packages (from librosa) (1.4.1)\n",
            "Requirement already satisfied: resampy>=0.2.0 in /usr/local/lib/python3.6/dist-packages (from librosa) (0.2.2)\n",
            "Requirement already satisfied: numpy>=1.8.0 in /usr/local/lib/python3.6/dist-packages (from librosa) (1.18.3)\n",
            "Requirement already satisfied: joblib>=0.12 in /usr/local/lib/python3.6/dist-packages (from librosa) (0.14.1)\n",
            "Requirement already satisfied: six>=1.3 in /usr/local/lib/python3.6/dist-packages (from librosa) (1.12.0)\n",
            "Requirement already satisfied: future in /usr/local/lib/python3.6/dist-packages (from torch) (0.16.0)\n",
            "Requirement already satisfied: pycparser in /usr/local/lib/python3.6/dist-packages (from cffi>=0.6->pysoundfile) (2.20)\n",
            "Requirement already satisfied: llvmlite<0.32.0,>=0.31.0dev0 in /usr/local/lib/python3.6/dist-packages (from numba>=0.38.0->librosa) (0.31.0)\n",
            "Requirement already satisfied: setuptools in /usr/local/lib/python3.6/dist-packages (from numba>=0.38.0->librosa) (46.1.3)\n"
          ],
          "name": "stdout"
        }
      ]
    },
    {
      "cell_type": "code",
      "metadata": {
        "colab_type": "code",
        "id": "IGJ-iqIe8423",
        "colab": {}
      },
      "source": [
        "# avoid jupyter printing the last result by default\n",
        "\n",
        "from IPython.core.interactiveshell import InteractiveShell\n",
        "InteractiveShell.ast_node_interactivity = \"none\""
      ],
      "execution_count": 0,
      "outputs": []
    },
    {
      "cell_type": "markdown",
      "metadata": {
        "id": "LuH0COzXg5iG",
        "colab_type": "text"
      },
      "source": [
        "\n",
        "## Reproducibility\n",
        "\n",
        "We fix the random seed for reproducibility purposes. See this for details:\n",
        "https://pytorch.org/docs/stable/notes/randomness.html"
      ]
    },
    {
      "cell_type": "code",
      "metadata": {
        "id": "jx8Z6BRcg6K2",
        "colab_type": "code",
        "colab": {}
      },
      "source": [
        "import torch\n",
        "import numpy as np\n",
        "\n",
        "seed = 321\n",
        "torch.manual_seed(seed)\n",
        "torch.backends.cudnn.deterministic = True\n",
        "torch.backends.cudnn.benchmark = False\n",
        "np.random.seed(seed)"
      ],
      "execution_count": 0,
      "outputs": []
    },
    {
      "cell_type": "markdown",
      "metadata": {
        "id": "1ZFsWgy2sdcw",
        "colab_type": "text"
      },
      "source": [
        "# Free Spoken Digit dataset\n",
        "\n",
        "For this notebook we will be using a dataset called Free Spoken Digit dataset. It is a collection of utterances of digits, from 0 to 9, by 4 different speakers. It is meant to be the MNIST for speech.\n",
        "\n",
        "We will download it first:"
      ]
    },
    {
      "cell_type": "code",
      "metadata": {
        "id": "M3DWUqmBDSjV",
        "colab_type": "code",
        "colab": {}
      },
      "source": [
        "!wget -q -O repo.zip https://github.com/Jakobovski/free-spoken-digit-dataset/archive/master.zip\n",
        "!unzip -q -o repo.zip\n",
        "!rm -rf repo.zip recordings\n",
        "!mv free-spoken-digit-dataset-master/recordings .\n",
        "!rm -rf free-spoken-digit-dataset-master train valid test"
      ],
      "execution_count": 0,
      "outputs": []
    },
    {
      "cell_type": "markdown",
      "metadata": {
        "id": "74vw-jzyyCjf",
        "colab_type": "text"
      },
      "source": [
        "Given that we have labels for both the speaker and the digit, we could classify the utterances for any of those aspects. **In this exercise, we will be clasifying utterance digit**."
      ]
    },
    {
      "cell_type": "markdown",
      "metadata": {
        "id": "w8xYG3w7tWYk",
        "colab_type": "text"
      },
      "source": [
        "# Mel Spectrogram computation and storage as images\n",
        "\n",
        "We will not be dealing with the waveforms directly, but we will be computing the Mel spectrogram.\n",
        "\n",
        "Let's define a couple of functions that we will be using to conver waveforms to spectrograms:"
      ]
    },
    {
      "cell_type": "code",
      "metadata": {
        "id": "Z0yHJXrUUnbC",
        "colab_type": "code",
        "colab": {}
      },
      "source": [
        "from librosa import power_to_db\n",
        "from librosa.feature import melspectrogram\n",
        "from PIL import Image\n",
        "\n",
        "\n",
        "def sound2mel(audio_signal, sample_rate):\n",
        "    \"\"\"Computes the Mel spectrogram (in dB) of the given audio signal.\"\"\"\n",
        "\n",
        "    n_fft = 1024\n",
        "    hop_length = 256\n",
        "    n_mels = 40\n",
        "    fmin = 20\n",
        "    fmax = sample_rate / 2 \n",
        "    \n",
        "    # compute the Mel spectrogram with librosa\n",
        "    mel_spec_power = melspectrogram(audio_signal,\n",
        "                                    sr=sample_rate,\n",
        "                                    n_fft=n_fft, \n",
        "                                    hop_length=hop_length, \n",
        "                                    n_mels=n_mels,\n",
        "                                    power=2.0, \n",
        "                                    fmin=fmin,\n",
        "                                    fmax=fmax)\n",
        "    \n",
        "    # See this to better understand what you get into mel_spec_power:\n",
        "    #     https://stackoverflow.com/q/52232839/674487\n",
        "\n",
        "    # Let's better handle the spectrogram in dB\n",
        "    mel_spec_db = power_to_db(mel_spec_power, ref=np.max)\n",
        "\n",
        "    return mel_spec_db\n",
        "\n",
        "def to_grayscale_image(spec):\n",
        "    \"\"\"Takes a spectrogram and fits it into a 8-bit image\"\"\"\n",
        "    img = (((spec - spec.min()) / (spec.max() - spec.min())) * 255.9).astype(np.uint8)\n",
        "    return Image.fromarray(img)"
      ],
      "execution_count": 0,
      "outputs": []
    },
    {
      "cell_type": "markdown",
      "metadata": {
        "id": "tcXE-7TbuYQi",
        "colab_type": "text"
      },
      "source": [
        "In order to make it easier to handle the utterance as spectrograms and feed them to our neural networks, we will store these spectrograms as normal images, so that later we can use image classification data loaders.\n",
        "\n",
        "As we convert the waveforms to spectrogram and save them as images, we will also split them into training, validation and test sets. For this, we will take one of the four speakers (\"yweweler\") and we will use some of his utterances for validation and some for test. Each data split will be under a different directory (i.e. train/valid/test).\n",
        "\n",
        "Note that under each data split directory, we will have subdirectories for each different digit. We will use this later to get the utterance label."
      ]
    },
    {
      "cell_type": "code",
      "metadata": {
        "id": "9ZepHVAvuXNB",
        "colab_type": "code",
        "colab": {}
      },
      "source": [
        "import os\n",
        "import soundfile\n",
        "\n",
        "\n",
        "SPEAKERS = ['jackson', 'nicolas', 'theo', 'yweweler']\n",
        "N_SPEAKERS = 4\n",
        "N_DIGITS = 10\n",
        "N_REPETITIONS = 50\n",
        "\n",
        "for speaker_index, speaker in enumerate(SPEAKERS):\n",
        "    for digit in range(N_DIGITS):\n",
        "        for repetition in range(N_REPETITIONS):\n",
        "            sound_file = 'recordings/{}_{}_{}.wav'.format(digit, speaker, repetition)\n",
        "            audio_signal, sampling_rate = soundfile.read(sound_file)\n",
        "            spectrogram = sound2mel(audio_signal, sampling_rate)\n",
        "            split = ('test' if speaker == 'yweweler' and repetition < 25\n",
        "                     else 'valid' if speaker == 'yweweler'\n",
        "                     else 'train') \n",
        "            dirname = '{}/{}'.format(split, digit)\n",
        "            os.makedirs(dirname, exist_ok=True)\n",
        "            img_file = '{}/{}_{}_{}.png'.format(dirname, digit, speaker, repetition)\n",
        "            to_grayscale_image(spectrogram).save(img_file)"
      ],
      "execution_count": 0,
      "outputs": []
    },
    {
      "cell_type": "markdown",
      "metadata": {
        "id": "RYZJngBmxA3M",
        "colab_type": "text"
      },
      "source": [
        "# Data loading\n",
        "\n",
        "Now that we have our utterances stored as spectrogram images, we will prepare the data loading. For this, we will use **torchvision** data loaders, together with standard transformations. The most important transformation is the resizing. Take into account that the length of the utterances is not constant, but each utterance can have a different duration, which leads to Mel spectrograms of different lengths (the number of channels is fixed, though). In order to overcome this, we will simply rescale the image to a constant size."
      ]
    },
    {
      "cell_type": "code",
      "metadata": {
        "id": "i2_VMjyzkfjJ",
        "colab_type": "code",
        "colab": {}
      },
      "source": [
        "from torchvision.datasets import ImageFolder\n",
        "from torchvision import transforms\n",
        "from torch.utils.data import DataLoader\n",
        "\n",
        "transform = transforms.Compose([\n",
        "                transforms.Grayscale(),\n",
        "                transforms.Resize((128, 64)),\n",
        "                transforms.ToTensor(),\n",
        "])\n",
        "\n",
        "train_data = ImageFolder(root='./train', transform=transform)\n",
        "train_loader = DataLoader(train_data, batch_size=32, shuffle=True, num_workers=4)\n",
        "\n",
        "valid_data = ImageFolder(root='./valid', transform=transform)\n",
        "valid_loader = DataLoader(valid_data, batch_size=32, shuffle=True, num_workers=1)\n",
        "\n",
        "test_data = ImageFolder(root='./test', transform=transform)\n",
        "test_loader = DataLoader(test_data, batch_size=32, shuffle=True, num_workers=1)"
      ],
      "execution_count": 0,
      "outputs": []
    },
    {
      "cell_type": "markdown",
      "metadata": {
        "id": "Dozz1FiKxsYf",
        "colab_type": "text"
      },
      "source": [
        "Note that, by default, `ImageFolder` takes the labels from the directories directly under the root folder. This means that the image files under `train/2` will be labeled as '2', those under `train/7` will be labeled as '7'.\n",
        "\n",
        "This is how one of our spectrograms look like:"
      ]
    },
    {
      "cell_type": "code",
      "metadata": {
        "id": "8XYuOqEwklYW",
        "colab_type": "code",
        "outputId": "6cfacb6c-0ca3-4ecd-90c4-9c24c6f7d8fd",
        "colab": {
          "base_uri": "https://localhost:8080/",
          "height": 271
        }
      },
      "source": [
        "import matplotlib.pyplot as plt\n",
        "import seaborn as sns; sns.set()\n",
        "\n",
        "plt.imshow(train_data[0][0].squeeze().cpu().numpy())"
      ],
      "execution_count": 0,
      "outputs": [
        {
          "output_type": "display_data",
          "data": {
            "image/png": "[encoded data removed]",
            "text/plain": [
              "<Figure size 432x288 with 1 Axes>"
            ]
          },
          "metadata": {
            "tags": []
          }
        }
      ]
    },
    {
      "cell_type": "markdown",
      "metadata": {
        "id": "sILX_ksp1lW0",
        "colab_type": "text"
      },
      "source": [
        "# Training and Evaluation Routines\n",
        "\n",
        "Let's define some functions to train our model and evaluate it under the validation set:"
      ]
    },
    {
      "cell_type": "code",
      "metadata": {
        "id": "BCkYOfDEIItT",
        "colab_type": "code",
        "colab": {}
      },
      "source": [
        "def train_epoch(model, criterion, optimizer, train_loader, log_interval, epoch):\n",
        "    # sets the model in \"training mode\", so dropout, BN, etc are active\n",
        "    model.train()\n",
        "\n",
        "    num_batches = len(train_loader)\n",
        "\n",
        "    losses = []\n",
        "    for batch_idx, batch in enumerate(train_loader):\n",
        "\n",
        "        input, targets = batch\n",
        "\n",
        "        model.zero_grad()\n",
        "\n",
        "        output = model(input.cuda())\n",
        "        loss = criterion(output, targets.cuda())\n",
        "        loss.backward()\n",
        "\n",
        "        optimizer.step()\n",
        "\n",
        "        losses.append(loss.item())\n",
        "\n",
        "        if log_interval and batch_idx % log_interval == 0:\n",
        "            percentage = 100 * batch_idx // num_batches\n",
        "            msg = 'epoch {}, progress: {}% avg.loss: {}'\n",
        "            print(msg.format(epoch, percentage, losses[-1]))\n",
        "    \n",
        "    return losses"
      ],
      "execution_count": 0,
      "outputs": []
    },
    {
      "cell_type": "code",
      "metadata": {
        "id": "x_LvwToVILLM",
        "colab_type": "code",
        "colab": {}
      },
      "source": [
        "def evaluate(model, criterion, loader):\n",
        "\n",
        "    # Sets the model in \"evaluation mode\" so dropout, BN, etc are deactivated.\n",
        "    model.eval()\n",
        "\n",
        "    num_total_elems = 0\n",
        "    loss = 0.\n",
        "    targets = []\n",
        "    preds = []\n",
        "    with torch.no_grad():\n",
        "        for batch in loader:\n",
        "            input, target = batch\n",
        "            batch_size = input.size(0)\n",
        "            logits = model(input.cuda())\n",
        "            batch_loss = criterion(logits, target.cuda()).item()\n",
        "            loss += batch_size * batch_loss\n",
        "            num_total_elems += batch_size\n",
        "            targets.extend(target.numpy().tolist())\n",
        "            preds.extend(torch.argmax(logits, dim=1).cpu().numpy().tolist())\n",
        "    \n",
        "    loss = loss / num_total_elems\n",
        "\n",
        "    return loss, targets, preds"
      ],
      "execution_count": 0,
      "outputs": []
    },
    {
      "cell_type": "code",
      "metadata": {
        "id": "lRWyCPoQIOtw",
        "colab_type": "code",
        "colab": {}
      },
      "source": [
        "import torch.nn as nn\n",
        "import torch.nn.functional as F\n",
        "import torch.optim as optim\n",
        "\n",
        "\n",
        "def train_model(model, optimizer,criterion, num_epochs, train_loader, valid_loader, log_interval):\n",
        "\n",
        "    min_error = None\n",
        "    train_losses = []\n",
        "    valid_losses = []\n",
        "    for epoch in range(num_epochs):\n",
        "        epoch_losses = train_epoch(model,\n",
        "                                   criterion,\n",
        "                                   optimizer,\n",
        "                                   train_loader,\n",
        "                                   log_interval,\n",
        "                                   epoch)\n",
        "        train_losses.extend(epoch_losses)\n",
        "\n",
        "        valid_loss, _, _ = evaluate(model, criterion, valid_loader)\n",
        "        valid_losses.append(valid_loss)\n",
        "\n",
        "        print('epoch {}, validation loss: {:.3f}'.format(epoch, valid_loss))\n",
        "        if(min_error == None or min_error > valid_loss):\n",
        "          torch.save(model.state_dict(),\"checkpoint_best_epoch.pt\")\n",
        "\n",
        "    return train_losses, valid_losses"
      ],
      "execution_count": 0,
      "outputs": []
    },
    {
      "cell_type": "markdown",
      "metadata": {
        "id": "0o_LJ6BS12uz",
        "colab_type": "text"
      },
      "source": [
        "# Our Neural Network\n",
        "\n",
        "Now it's time to define a neural network that can address the classification problem at hand:"
      ]
    },
    {
      "cell_type": "code",
      "metadata": {
        "id": "0SIWpEwzOCC9",
        "colab_type": "code",
        "colab": {}
      },
      "source": [
        "class ResBlock(nn.Module):\n",
        "  def __init__(self, nchannels):\n",
        "    super().__init__()\n",
        "    self.conv1 = nn.Conv2d(in_channels = nchannels, out_channels=nchannels, kernel_size=(3,3), padding = 1)\n",
        "    self.conv2 = nn.Conv2d(in_channels = nchannels, out_channels=nchannels, kernel_size=(3,3), padding = 1)\n",
        "    torch.nn.init.xavier_uniform_(self.conv1.weight)\n",
        "    torch.nn.init.xavier_uniform_(self.conv2.weight)\n",
        "    self.bn = nn.BatchNorm2d(nchannels)\n",
        "\n",
        "  def forward(self,x):\n",
        "    res = F.relu(self.conv1(x))\n",
        "    res = self.conv2(res)\n",
        "    x = res + x\n",
        "    del res\n",
        "    return self.bn(F.relu(x))\n"
      ],
      "execution_count": 0,
      "outputs": []
    },
    {
      "cell_type": "code",
      "metadata": {
        "id": "lnxbUtIoJbNV",
        "colab_type": "code",
        "colab": {}
      },
      "source": [
        "class DigitClassificationModel(nn.Module):\n",
        "    def __init__(self):\n",
        "        super().__init__()\n",
        "\n",
        "        self.conv1 = nn.Conv2d(in_channels=1,out_channels=64,kernel_size=(3,3),padding=1)\n",
        "        torch.nn.init.xavier_uniform_(self.conv1.weight)\n",
        "        self.bn1 = nn.BatchNorm2d(64)\n",
        "\n",
        "        self.resblock1 = ResBlock(64)\n",
        "        self.convres1 = nn.Conv2d(in_channels=64,out_channels=128,kernel_size=(3,3),padding=1)\n",
        "        torch.nn.init.xavier_uniform_(self.convres1.weight)\n",
        "        self.bnres1 = nn.BatchNorm2d(128)\n",
        "\n",
        "        self.resblock2 = ResBlock(128)\n",
        "        self.convres2 = nn.Conv2d(in_channels=128,out_channels=256,kernel_size=(3,3),padding=1)\n",
        "        torch.nn.init.xavier_uniform_(self.convres2.weight)\n",
        "        self.bnres2 = nn.BatchNorm2d(256)\n",
        "\n",
        "        self.resblock3 = ResBlock(256)\n",
        "        self.convres3 = nn.Conv2d(in_channels=256,out_channels=512,kernel_size=(3,3),padding=1)\n",
        "        torch.nn.init.xavier_uniform_(self.convres3.weight)\n",
        "        self.bnres3 = nn.BatchNorm2d(512)\n",
        "\n",
        "        self.resblock4 = ResBlock(512)\n",
        "        self.convres4 = nn.Conv2d(in_channels=512,out_channels=1024,kernel_size=(3,3),padding=1)\n",
        "        torch.nn.init.xavier_uniform_(self.convres4.weight)\n",
        "        self.bnres4 = nn.BatchNorm2d(1024)\n",
        "\n",
        "        self.resblock5 = ResBlock(1024)\n",
        "        self.convres5 = nn.Conv2d(in_channels=1024,out_channels=2048,kernel_size=(3,3),padding=1)\n",
        "        self.resdimred = nn.Conv2d(in_channels=2048,out_channels=1024,kernel_size=(3,3),padding=1)\n",
        "        torch.nn.init.xavier_uniform_(self.convres4.weight)\n",
        "        torch.nn.init.xavier_uniform_(self.resdimred.weight)\n",
        "        self.bnres5 = nn.BatchNorm2d(1024)\n",
        "\n",
        "        self.gap = nn.AdaptiveAvgPool2d((1,1))\n",
        "\n",
        "        self.classifier = nn.Linear(1024,10)\n",
        "        torch.nn.init.xavier_uniform(self.classifier.weight)\n",
        "\n",
        "        self.pool = nn.MaxPool2d(kernel_size=(2,2),stride=2)\n",
        "\n",
        "        self.dropout = nn.Dropout2d(0.6)\n",
        "        self.dp = nn.Dropout(0.6)\n",
        "    \n",
        "    def forward(self, x):\n",
        "        # TODO: implement whatever model you want, ensuring it achieves\n",
        "        #       decent accuracy. You could probably try with\n",
        "        #       convolutional layers, residual connections, etc.\n",
        "        #       Given the small size of the training data, you may\n",
        "        #       also want to use some sort of regularization.\n",
        "        #       Note that the result of the forward computation of the\n",
        "        #       model must be compatible with the loss function used for\n",
        "        #       the training (see functions train_epoch and train_model).\n",
        "\n",
        "        x = self.bn1(F.relu(self.conv1(x)))\n",
        "\n",
        "        x = self.pool(x)\n",
        "\n",
        "        x = self.dropout(x)\n",
        "        x = self.resblock1(x)\n",
        "        x = self.bnres1(F.relu(self.convres1(x)))\n",
        "\n",
        "        x = self.pool(x)\n",
        "\n",
        "        x = self.dropout(x)\n",
        "        x = self.resblock2(x)\n",
        "        x = self.bnres2(F.relu(self.convres2(x)))\n",
        "\n",
        "        x = self.pool(x)\n",
        "\n",
        "\n",
        "        x = self.dropout(x)\n",
        "        x = self.resblock3(x)\n",
        "        x = self.bnres3(F.relu(self.convres3(x)))\n",
        "\n",
        "        x = self.pool(x)\n",
        "\n",
        "\n",
        "        x = self.dropout(x)\n",
        "        x = self.resblock4(x)\n",
        "        x = self.bnres4(F.relu(self.convres4(x)))\n",
        "\n",
        "        x = self.dropout(x)\n",
        "        x = self.resblock5(x)\n",
        "        x = F.relu(self.convres5(x))\n",
        "        x = self.bnres5(F.relu(self.resdimred(x)))\n",
        "\n",
        "        x = self.gap(x)\n",
        "\n",
        "        x = x.view(x.shape[0], -1)\n",
        "\n",
        "        x = self.dp(x)\n",
        "        x = self.classifier(x)\n",
        "\n",
        "        return x"
      ],
      "execution_count": 0,
      "outputs": []
    },
    {
      "cell_type": "markdown",
      "metadata": {
        "id": "D8y8CduL3nI7",
        "colab_type": "text"
      },
      "source": [
        "# Training\n",
        "\n",
        "Now it's time to train our model."
      ]
    },
    {
      "cell_type": "code",
      "metadata": {
        "id": "q_7DkMRbEbIj",
        "colab_type": "code",
        "outputId": "41dbe9eb-c14f-4050-ed55-1e839a81954c",
        "colab": {
          "base_uri": "https://localhost:8080/",
          "height": 1000
        }
      },
      "source": [
        "# TODO: select an appropriate set of hyperparameters, either in\n",
        "#       this cell (learning rate, number of epochs, etc), or\n",
        "#       throughout the notebook (e.g. batch size). Also, consider\n",
        "#       techniques such as early stopping to avoid overfitting.\n",
        "\n",
        "criterion = nn.CrossEntropyLoss()\n",
        "LEARNING_RATE = 0.001\n",
        "model = DigitClassificationModel().cuda()\n",
        "optimizer = optim.AdamW(lr=LEARNING_RATE, params=model.parameters())\n",
        "\n",
        "\n",
        "\n",
        "NUM_EPOCHS = 40\n",
        "LOG_INTERVAL = 40\n",
        "\n",
        "\n",
        "train_losses, valid_losses = train_model(model,\n",
        "                                         optimizer,\n",
        "                                         criterion,\n",
        "                                         NUM_EPOCHS,\n",
        "                                         train_loader,\n",
        "                                         valid_loader,\n",
        "                                         LOG_INTERVAL)"
      ],
      "execution_count": 0,
      "outputs": [
        {
          "output_type": "stream",
          "text": [
            "/usr/local/lib/python3.6/dist-packages/ipykernel_launcher.py:39: UserWarning: nn.init.xavier_uniform is now deprecated in favor of nn.init.xavier_uniform_.\n"
          ],
          "name": "stderr"
        },
        {
          "output_type": "stream",
          "text": [
            "epoch 0, progress: 0% avg.loss: 2.2169723510742188\n",
            "epoch 0, progress: 85% avg.loss: 2.17997407913208\n",
            "epoch 0, validation loss: 3.203\n",
            "epoch 1, progress: 0% avg.loss: 1.7043880224227905\n",
            "epoch 1, progress: 85% avg.loss: 1.367368459701538\n",
            "epoch 1, validation loss: 2.756\n",
            "epoch 2, progress: 0% avg.loss: 1.2213809490203857\n",
            "epoch 2, progress: 85% avg.loss: 0.702457845211029\n",
            "epoch 2, validation loss: 1.701\n",
            "epoch 3, progress: 0% avg.loss: 0.6502055525779724\n",
            "epoch 3, progress: 85% avg.loss: 0.7054406404495239\n",
            "epoch 3, validation loss: 1.465\n",
            "epoch 4, progress: 0% avg.loss: 0.5107433199882507\n",
            "epoch 4, progress: 85% avg.loss: 0.1604234129190445\n",
            "epoch 4, validation loss: 0.990\n",
            "epoch 5, progress: 0% avg.loss: 0.2767854332923889\n",
            "epoch 5, progress: 85% avg.loss: 0.39711734652519226\n",
            "epoch 5, validation loss: 1.041\n",
            "epoch 6, progress: 0% avg.loss: 0.18955837190151215\n",
            "epoch 6, progress: 85% avg.loss: 0.21815180778503418\n",
            "epoch 6, validation loss: 1.441\n",
            "epoch 7, progress: 0% avg.loss: 0.3099976181983948\n",
            "epoch 7, progress: 85% avg.loss: 0.6350979208946228\n",
            "epoch 7, validation loss: 1.305\n",
            "epoch 8, progress: 0% avg.loss: 0.10505568981170654\n",
            "epoch 8, progress: 85% avg.loss: 0.14797289669513702\n",
            "epoch 8, validation loss: 1.425\n",
            "epoch 9, progress: 0% avg.loss: 0.22366517782211304\n",
            "epoch 9, progress: 85% avg.loss: 0.05349248647689819\n",
            "epoch 9, validation loss: 1.363\n",
            "epoch 10, progress: 0% avg.loss: 0.10878311097621918\n",
            "epoch 10, progress: 85% avg.loss: 0.031044647097587585\n",
            "epoch 10, validation loss: 1.373\n",
            "epoch 11, progress: 0% avg.loss: 0.01671181619167328\n",
            "epoch 11, progress: 85% avg.loss: 0.06567966192960739\n",
            "epoch 11, validation loss: 1.377\n",
            "epoch 12, progress: 0% avg.loss: 0.16733703017234802\n",
            "epoch 12, progress: 85% avg.loss: 0.03320592641830444\n",
            "epoch 12, validation loss: 2.192\n",
            "epoch 13, progress: 0% avg.loss: 0.3901364207267761\n",
            "epoch 13, progress: 85% avg.loss: 0.09806843847036362\n",
            "epoch 13, validation loss: 1.377\n",
            "epoch 14, progress: 0% avg.loss: 0.053665488958358765\n",
            "epoch 14, progress: 85% avg.loss: 0.14028790593147278\n",
            "epoch 14, validation loss: 1.308\n",
            "epoch 15, progress: 0% avg.loss: 0.030360668897628784\n",
            "epoch 15, progress: 85% avg.loss: 0.04017472267150879\n",
            "epoch 15, validation loss: 1.070\n",
            "epoch 16, progress: 0% avg.loss: 0.0167609304189682\n",
            "epoch 16, progress: 85% avg.loss: 0.07924538850784302\n",
            "epoch 16, validation loss: 1.128\n",
            "epoch 17, progress: 0% avg.loss: 0.014620259404182434\n",
            "epoch 17, progress: 85% avg.loss: 0.1440870612859726\n",
            "epoch 17, validation loss: 1.219\n",
            "epoch 18, progress: 0% avg.loss: 0.17008115351200104\n",
            "epoch 18, progress: 85% avg.loss: 0.06048259139060974\n",
            "epoch 18, validation loss: 1.518\n",
            "epoch 19, progress: 0% avg.loss: 0.023467406630516052\n",
            "epoch 19, progress: 85% avg.loss: 0.1283298283815384\n",
            "epoch 19, validation loss: 1.136\n",
            "epoch 20, progress: 0% avg.loss: 0.1596640795469284\n",
            "epoch 20, progress: 85% avg.loss: 0.14754034578800201\n",
            "epoch 20, validation loss: 1.235\n",
            "epoch 21, progress: 0% avg.loss: 0.014732792973518372\n",
            "epoch 21, progress: 85% avg.loss: 0.018109217286109924\n",
            "epoch 21, validation loss: 1.286\n",
            "epoch 22, progress: 0% avg.loss: 0.01218724250793457\n",
            "epoch 22, progress: 85% avg.loss: 0.03273126482963562\n",
            "epoch 22, validation loss: 1.108\n",
            "epoch 23, progress: 0% avg.loss: 0.15299399197101593\n",
            "epoch 23, progress: 85% avg.loss: 0.05504502356052399\n",
            "epoch 23, validation loss: 1.255\n",
            "epoch 24, progress: 0% avg.loss: 0.05566614866256714\n",
            "epoch 24, progress: 85% avg.loss: 0.09261712431907654\n",
            "epoch 24, validation loss: 1.009\n",
            "epoch 25, progress: 0% avg.loss: 0.1200357973575592\n",
            "epoch 25, progress: 85% avg.loss: 0.023618459701538086\n",
            "epoch 25, validation loss: 0.800\n",
            "epoch 26, progress: 0% avg.loss: 0.01979769766330719\n",
            "epoch 26, progress: 85% avg.loss: 0.07092193514108658\n",
            "epoch 26, validation loss: 1.220\n",
            "epoch 27, progress: 0% avg.loss: 0.10266381502151489\n",
            "epoch 27, progress: 85% avg.loss: 0.08024514466524124\n",
            "epoch 27, validation loss: 1.028\n",
            "epoch 28, progress: 0% avg.loss: 0.1034887433052063\n",
            "epoch 28, progress: 85% avg.loss: 0.03288985788822174\n",
            "epoch 28, validation loss: 1.279\n",
            "epoch 29, progress: 0% avg.loss: 0.014524474740028381\n",
            "epoch 29, progress: 85% avg.loss: 0.04029539227485657\n",
            "epoch 29, validation loss: 1.355\n",
            "epoch 30, progress: 0% avg.loss: 0.004691869020462036\n",
            "epoch 30, progress: 85% avg.loss: 0.01983669400215149\n",
            "epoch 30, validation loss: 1.485\n",
            "epoch 31, progress: 0% avg.loss: 0.004585757851600647\n",
            "epoch 31, progress: 85% avg.loss: 0.032575249671936035\n",
            "epoch 31, validation loss: 1.074\n",
            "epoch 32, progress: 0% avg.loss: 0.05100201815366745\n",
            "epoch 32, progress: 85% avg.loss: 0.06931346654891968\n",
            "epoch 32, validation loss: 1.755\n",
            "epoch 33, progress: 0% avg.loss: 0.0033176690340042114\n",
            "epoch 33, progress: 85% avg.loss: 0.15351761877536774\n",
            "epoch 33, validation loss: 1.561\n",
            "epoch 34, progress: 0% avg.loss: 0.010090276598930359\n",
            "epoch 34, progress: 85% avg.loss: 0.02533283829689026\n",
            "epoch 34, validation loss: 1.742\n",
            "epoch 35, progress: 0% avg.loss: 0.013036295771598816\n",
            "epoch 35, progress: 85% avg.loss: 0.006139829754829407\n",
            "epoch 35, validation loss: 1.070\n",
            "epoch 36, progress: 0% avg.loss: 0.0022341758012771606\n",
            "epoch 36, progress: 85% avg.loss: 0.005195721983909607\n",
            "epoch 36, validation loss: 1.765\n",
            "epoch 37, progress: 0% avg.loss: 0.011719390749931335\n",
            "epoch 37, progress: 85% avg.loss: 0.006535917520523071\n",
            "epoch 37, validation loss: 1.113\n",
            "epoch 38, progress: 0% avg.loss: 0.15966324508190155\n",
            "epoch 38, progress: 85% avg.loss: 0.005860909819602966\n",
            "epoch 38, validation loss: 0.905\n",
            "epoch 39, progress: 0% avg.loss: 0.002058550715446472\n",
            "epoch 39, progress: 85% avg.loss: 0.037183016538619995\n",
            "epoch 39, validation loss: 1.135\n"
          ],
          "name": "stdout"
        }
      ]
    },
    {
      "cell_type": "markdown",
      "metadata": {
        "id": "SoMTJFtsMSei",
        "colab_type": "text"
      },
      "source": [
        "Let's visualize the training/validation losses to understand if our model is overfitting:"
      ]
    },
    {
      "cell_type": "code",
      "metadata": {
        "id": "ehNk-q2cGZ9S",
        "colab_type": "code",
        "outputId": "0e8d2ea2-f81c-4e03-8159-e15d098d0103",
        "colab": {
          "base_uri": "https://localhost:8080/",
          "height": 270
        }
      },
      "source": [
        "plt.plot(train_losses, label='train')\n",
        "valid_x_axis = [(1 + k) * len(train_losses)/len(valid_losses)\n",
        "                for k in range(len(valid_losses))]\n",
        "plt.plot(valid_x_axis, valid_losses, label='valid')\n",
        "plt.legend()"
      ],
      "execution_count": 0,
      "outputs": [
        {
          "output_type": "display_data",
          "data": {
            "image/png": "[encoded data removed]",
            "text/plain": [
              "<Figure size 432x288 with 1 Axes>"
            ]
          },
          "metadata": {
            "tags": []
          }
        }
      ]
    },
    {
      "cell_type": "markdown",
      "metadata": {
        "id": "hqCPeCEhGhUu",
        "colab_type": "text"
      },
      "source": [
        "# Performance Evaluation\n",
        "\n",
        "Now we will evaluate our model in the test set. For this, we will compute the predictions of the model over the test set and compare them against the true labels in a **confusion matrix**:"
      ]
    },
    {
      "cell_type": "code",
      "metadata": {
        "id": "O6mzYOL4fhyx",
        "colab_type": "code",
        "outputId": "66c7d2be-9d73-467f-b6f5-509e00c25cc5",
        "colab": {
          "base_uri": "https://localhost:8080/",
          "height": 289
        }
      },
      "source": [
        "from sklearn.metrics import confusion_matrix\n",
        "\n",
        "loaded_dict = torch.load(\"checkpoint_best_epoch.pt\")\n",
        "model.load_state_dict(loaded_dict)\n",
        "\n",
        "_, target, preds = evaluate(model, nn.CrossEntropyLoss(), test_loader)\n",
        "\n",
        "cm = confusion_matrix(target, preds)\n",
        "relative_cm = cm.astype('float') / cm.sum(axis=1)[:, np.newaxis]\n",
        "sns.heatmap(relative_cm, annot=True)\n",
        "plt.xlabel(\"Predicted\")\n",
        "plt.ylabel(\"True Label\")"
      ],
      "execution_count": 0,
      "outputs": [
        {
          "output_type": "display_data",
          "data": {
            "image/png": "[encoded data removed]",
            "text/plain": [
              "<Figure size 432x288 with 2 Axes>"
            ]
          },
          "metadata": {
            "tags": []
          }
        }
      ]
    }
  ]
}