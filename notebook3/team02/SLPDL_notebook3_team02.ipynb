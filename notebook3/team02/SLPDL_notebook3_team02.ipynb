{
  "nbformat": 4,
  "nbformat_minor": 0,
  "metadata": {
    "colab": {
      "name": "SLPDL_notebook3_team02.ipynb",
      "provenance": [],
      "collapsed_sections": []
    },
    "kernelspec": {
      "name": "python3",
      "display_name": "Python 3"
    },
    "accelerator": "GPU"
  },
  "cells": [
    {
      "cell_type": "markdown",
      "metadata": {
        "id": "OMYlERQfnO6d",
        "colab_type": "text"
      },
      "source": [
        "# Instructions of this exercise\n",
        "\n",
        "This jupyter notebook is an exercise for you to practice with basic speech classification with neural networks.\n",
        "\n",
        "The different sections have comments that will guide you through the different stages of the processing.\n",
        "\n",
        "You will find parts in this notebook that are missing. They are marked with a \"TODO\", with an explanation about what you are supposed to write or code in that gap. Sometimes you may be requested to implement an algorithm or a piece of code that behaves in a specific way. Other times, you may be requested to explain what a specific piece of code does or why it is needed. In some cases, the requests may contain a \"trap\", e.g. the thing you are requested to implement can't be done for whatever reason, or it may need an extra preprocessing step for it to be possible.\n",
        "\n",
        "If you have any doubt, do not hesitate to contact the instructor at noe.casas@upc.edu"
      ]
    },
    {
      "cell_type": "markdown",
      "metadata": {
        "id": "ig4eszbtrAG9",
        "colab_type": "text"
      },
      "source": [
        "# Requirements\n",
        "\n",
        "In order to follow this notebook you need working knowledge on:\n",
        "\n",
        "- Python programming.\n",
        "- Pytorch basics. Do not forget to check the pytorch documentation to understand the purpose of each function/class, as well as what inputs they expect and what kind of result the give.\n",
        "- Signal processing basics (e.g. Mel spectrograms).\n",
        "- Convolutional networks. A good general starting point may be [Stanford's CS231n course](http://cs231n.github.io/convolutional-networks/).\n",
        "- Unix command line basics.\n",
        "\n",
        "If you lack any of them, please acquire the needed knowledge on the internet, where there is plenty of material about the three topics."
      ]
    },
    {
      "cell_type": "markdown",
      "metadata": {
        "id": "ZLRUkGD9rPDT",
        "colab_type": "text"
      },
      "source": [
        "# Installation of extra libraries\n",
        "\n",
        "First, let's install some libraries that may be missing from your python environment:\n",
        "\n",
        "- librosa: a must for audio processing. Here we will be using mainly to compute the Mel spectrogram.\n",
        "- soundfile: to load waveform files. We could also have used librosa, but librosa's file loading function resamples the waveform by default and it is somewhat error prone (see [this post](https://librosa.github.io/blog/2019/07/17/resample-on-load/#resample-on-load) for further info).\n",
        "- pillow: API-compatible successor of PIL (Python Imaging Library), which is a widely used python library.\n",
        "- pytorch"
      ]
    },
    {
      "cell_type": "code",
      "metadata": {
        "id": "0Nm1UdimrSX9",
        "colab_type": "code",
        "outputId": "bef568b8-f1f0-4e21-b681-600ab24398bb",
        "colab": {
          "base_uri": "https://localhost:8080/",
          "height": 410
        }
      },
      "source": [
        "!pip install pysoundfile librosa torch pillow"
      ],
      "execution_count": 0,
      "outputs": [
        {
          "output_type": "stream",
          "text": [
            "Collecting pysoundfile\n",
            "  Downloading https://files.pythonhosted.org/packages/2a/b3/0b871e5fd31b9a8e54b4ee359384e705a1ca1e2870706d2f081dc7cc1693/PySoundFile-0.9.0.post1-py2.py3-none-any.whl\n",
            "Requirement already satisfied: librosa in /usr/local/lib/python3.6/dist-packages (0.6.3)\n",
            "Requirement already satisfied: torch in /usr/local/lib/python3.6/dist-packages (1.5.0+cu101)\n",
            "Requirement already satisfied: pillow in /usr/local/lib/python3.6/dist-packages (7.0.0)\n",
            "Requirement already satisfied: cffi>=0.6 in /usr/local/lib/python3.6/dist-packages (from pysoundfile) (1.14.0)\n",
            "Requirement already satisfied: audioread>=2.0.0 in /usr/local/lib/python3.6/dist-packages (from librosa) (2.1.8)\n",
            "Requirement already satisfied: scikit-learn!=0.19.0,>=0.14.0 in /usr/local/lib/python3.6/dist-packages (from librosa) (0.22.2.post1)\n",
            "Requirement already satisfied: six>=1.3 in /usr/local/lib/python3.6/dist-packages (from librosa) (1.12.0)\n",
            "Requirement already satisfied: joblib>=0.12 in /usr/local/lib/python3.6/dist-packages (from librosa) (0.14.1)\n",
            "Requirement already satisfied: resampy>=0.2.0 in /usr/local/lib/python3.6/dist-packages (from librosa) (0.2.2)\n",
            "Requirement already satisfied: decorator>=3.0.0 in /usr/local/lib/python3.6/dist-packages (from librosa) (4.4.2)\n",
            "Requirement already satisfied: scipy>=1.0.0 in /usr/local/lib/python3.6/dist-packages (from librosa) (1.4.1)\n",
            "Requirement already satisfied: numba>=0.38.0 in /usr/local/lib/python3.6/dist-packages (from librosa) (0.48.0)\n",
            "Requirement already satisfied: numpy>=1.8.0 in /usr/local/lib/python3.6/dist-packages (from librosa) (1.18.3)\n",
            "Requirement already satisfied: future in /usr/local/lib/python3.6/dist-packages (from torch) (0.16.0)\n",
            "Requirement already satisfied: pycparser in /usr/local/lib/python3.6/dist-packages (from cffi>=0.6->pysoundfile) (2.20)\n",
            "Requirement already satisfied: llvmlite<0.32.0,>=0.31.0dev0 in /usr/local/lib/python3.6/dist-packages (from numba>=0.38.0->librosa) (0.31.0)\n",
            "Requirement already satisfied: setuptools in /usr/local/lib/python3.6/dist-packages (from numba>=0.38.0->librosa) (46.1.3)\n",
            "Installing collected packages: pysoundfile\n",
            "Successfully installed pysoundfile-0.9.0.post1\n"
          ],
          "name": "stdout"
        }
      ]
    },
    {
      "cell_type": "code",
      "metadata": {
        "colab_type": "code",
        "id": "IGJ-iqIe8423",
        "colab": {}
      },
      "source": [
        "# avoid jupyter printing the last result by default\n",
        "\n",
        "from IPython.core.interactiveshell import InteractiveShell\n",
        "InteractiveShell.ast_node_interactivity = \"none\""
      ],
      "execution_count": 0,
      "outputs": []
    },
    {
      "cell_type": "markdown",
      "metadata": {
        "id": "LuH0COzXg5iG",
        "colab_type": "text"
      },
      "source": [
        "\n",
        "## Reproducibility\n",
        "\n",
        "We fix the random seed for reproducibility purposes. See this for details:\n",
        "https://pytorch.org/docs/stable/notes/randomness.html"
      ]
    },
    {
      "cell_type": "code",
      "metadata": {
        "id": "jx8Z6BRcg6K2",
        "colab_type": "code",
        "colab": {}
      },
      "source": [
        "import torch\n",
        "import numpy as np\n",
        "\n",
        "seed = 321\n",
        "torch.manual_seed(seed)\n",
        "torch.backends.cudnn.deterministic = True\n",
        "torch.backends.cudnn.benchmark = False\n",
        "np.random.seed(seed)"
      ],
      "execution_count": 0,
      "outputs": []
    },
    {
      "cell_type": "markdown",
      "metadata": {
        "id": "1ZFsWgy2sdcw",
        "colab_type": "text"
      },
      "source": [
        "# Free Spoken Digit dataset\n",
        "\n",
        "For this notebook we will be using a dataset called Free Spoken Digit dataset. It is a collection of utterances of digits, from 0 to 9, by 4 different speakers. It is meant to be the MNIST for speech.\n",
        "\n",
        "We will download it first:"
      ]
    },
    {
      "cell_type": "code",
      "metadata": {
        "id": "M3DWUqmBDSjV",
        "colab_type": "code",
        "colab": {}
      },
      "source": [
        "!wget -q -O repo.zip https://github.com/Jakobovski/free-spoken-digit-dataset/archive/master.zip\n",
        "!unzip -q -o repo.zip\n",
        "!rm -rf repo.zip recordings\n",
        "!mv free-spoken-digit-dataset-master/recordings .\n",
        "!rm -rf free-spoken-digit-dataset-master train valid test"
      ],
      "execution_count": 0,
      "outputs": []
    },
    {
      "cell_type": "markdown",
      "metadata": {
        "id": "74vw-jzyyCjf",
        "colab_type": "text"
      },
      "source": [
        "Given that we have labels for both the speaker and the digit, we could classify the utterances for any of those aspects. **In this exercise, we will be clasifying utterance digit**."
      ]
    },
    {
      "cell_type": "markdown",
      "metadata": {
        "id": "w8xYG3w7tWYk",
        "colab_type": "text"
      },
      "source": [
        "# Mel Spectrogram computation and storage as images\n",
        "\n",
        "We will not be dealing with the waveforms directly, but we will be computing the Mel spectrogram.\n",
        "\n",
        "Let's define a couple of functions that we will be using to conver waveforms to spectrograms:"
      ]
    },
    {
      "cell_type": "code",
      "metadata": {
        "id": "Z0yHJXrUUnbC",
        "colab_type": "code",
        "colab": {}
      },
      "source": [
        "from librosa import power_to_db\n",
        "from librosa.feature import melspectrogram\n",
        "from PIL import Image\n",
        "\n",
        "\n",
        "def sound2mel(audio_signal, sample_rate):\n",
        "    \"\"\"Computes the Mel spectrogram (in dB) of the given audio signal.\"\"\"\n",
        "\n",
        "    n_fft = 1024\n",
        "    hop_length = 256\n",
        "    n_mels = 40\n",
        "    fmin = 20\n",
        "    fmax = sample_rate / 2 \n",
        "    \n",
        "    # compute the Mel spectrogram with librosa\n",
        "    mel_spec_power = melspectrogram(audio_signal,\n",
        "                                    sr=sample_rate,\n",
        "                                    n_fft=n_fft, \n",
        "                                    hop_length=hop_length, \n",
        "                                    n_mels=n_mels,\n",
        "                                    power=2.0, \n",
        "                                    fmin=fmin,\n",
        "                                    fmax=fmax)\n",
        "    \n",
        "    # See this to better understand what you get into mel_spec_power:\n",
        "    #     https://stackoverflow.com/q/52232839/674487\n",
        "\n",
        "    # Let's better handle the spectrogram in dB\n",
        "    mel_spec_db = power_to_db(mel_spec_power, ref=np.max)\n",
        "\n",
        "    return mel_spec_db\n",
        "\n",
        "def to_grayscale_image(spec):\n",
        "    \"\"\"Takes a spectrogram and fits it into a 8-bit image\"\"\"\n",
        "    img = (((spec - spec.min()) / (spec.max() - spec.min())) * 255.9).astype(np.uint8)\n",
        "    return Image.fromarray(img)"
      ],
      "execution_count": 0,
      "outputs": []
    },
    {
      "cell_type": "markdown",
      "metadata": {
        "id": "tcXE-7TbuYQi",
        "colab_type": "text"
      },
      "source": [
        "In order to make it easier to handle the utterance as spectrograms and feed them to our neural networks, we will store these spectrograms as normal images, so that later we can use image classification data loaders.\n",
        "\n",
        "As we convert the waveforms to spectrogram and save them as images, we will also split them into training, validation and test sets. For this, we will take one of the four speakers (\"yweweler\") and we will use some of his utterances for validation and some for test. Each data split will be under a different directory (i.e. train/valid/test).\n",
        "\n",
        "Note that under each data split directory, we will have subdirectories for each different digit. We will use this later to get the utterance label."
      ]
    },
    {
      "cell_type": "code",
      "metadata": {
        "id": "9ZepHVAvuXNB",
        "colab_type": "code",
        "colab": {}
      },
      "source": [
        "import os\n",
        "import soundfile\n",
        "\n",
        "\n",
        "SPEAKERS = ['jackson', 'nicolas', 'theo', 'yweweler']\n",
        "N_SPEAKERS = 4\n",
        "N_DIGITS = 10\n",
        "N_REPETITIONS = 50\n",
        "\n",
        "for speaker_index, speaker in enumerate(SPEAKERS):\n",
        "    for digit in range(N_DIGITS):\n",
        "        for repetition in range(N_REPETITIONS):\n",
        "            sound_file = 'recordings/{}_{}_{}.wav'.format(digit, speaker, repetition)\n",
        "            audio_signal, sampling_rate = soundfile.read(sound_file)\n",
        "            spectrogram = sound2mel(audio_signal, sampling_rate)\n",
        "            split = ('test' if speaker == 'yweweler' and repetition < 25\n",
        "                     else 'valid' if speaker == 'yweweler'\n",
        "                     else 'train') \n",
        "            dirname = '{}/{}'.format(split, digit)\n",
        "            os.makedirs(dirname, exist_ok=True)\n",
        "            img_file = '{}/{}_{}_{}.png'.format(dirname, digit, speaker, repetition)\n",
        "            to_grayscale_image(spectrogram).save(img_file)"
      ],
      "execution_count": 0,
      "outputs": []
    },
    {
      "cell_type": "markdown",
      "metadata": {
        "id": "RYZJngBmxA3M",
        "colab_type": "text"
      },
      "source": [
        "# Data loading\n",
        "\n",
        "Now that we have our utterances stored as spectrogram images, we will prepare the data loading. For this, we will use **torchvision** data loaders, together with standard transformations. The most important transformation is the resizing. Take into account that the length of the utterances is not constant, but each utterance can have a different duration, which leads to Mel spectrograms of different lengths (the number of channels is fixed, though). In order to overcome this, we will simply rescale the image to a constant size."
      ]
    },
    {
      "cell_type": "code",
      "metadata": {
        "id": "i2_VMjyzkfjJ",
        "colab_type": "code",
        "colab": {}
      },
      "source": [
        "from torchvision.datasets import ImageFolder\n",
        "from torchvision import transforms\n",
        "from torch.utils.data import DataLoader\n",
        "\n",
        "transform = transforms.Compose([\n",
        "                transforms.Grayscale(),\n",
        "                transforms.Resize((128, 64)),\n",
        "                transforms.ToTensor(),\n",
        "])\n",
        "\n",
        "train_data = ImageFolder(root='./train', transform=transform)\n",
        "train_loader = DataLoader(train_data, batch_size=20, shuffle=True, num_workers=4)\n",
        "\n",
        "valid_data = ImageFolder(root='./valid', transform=transform)\n",
        "valid_loader = DataLoader(valid_data, batch_size=20, shuffle=True, num_workers=1)\n",
        "\n",
        "test_data = ImageFolder(root='./test', transform=transform)\n",
        "test_loader = DataLoader(test_data, batch_size=20, shuffle=True, num_workers=1)"
      ],
      "execution_count": 0,
      "outputs": []
    },
    {
      "cell_type": "markdown",
      "metadata": {
        "id": "Dozz1FiKxsYf",
        "colab_type": "text"
      },
      "source": [
        "Note that, by default, `ImageFolder` takes the labels from the directories directly under the root folder. This means that the image files under `train/2` will be labeled as '2', those under `train/7` will be labeled as '7'.\n",
        "\n",
        "This is how one of our spectrograms look like:"
      ]
    },
    {
      "cell_type": "code",
      "metadata": {
        "id": "8XYuOqEwklYW",
        "colab_type": "code",
        "outputId": "8d52fdf8-d6b2-4201-cf19-d1ccb2cf8bfe",
        "colab": {
          "base_uri": "https://localhost:8080/",
          "height": 326
        }
      },
      "source": [
        "import matplotlib.pyplot as plt\n",
        "import seaborn as sns; sns.set()\n",
        "\n",
        "plt.imshow(train_data[0][0].squeeze().cpu().numpy())"
      ],
      "execution_count": 0,
      "outputs": [
        {
          "output_type": "stream",
          "text": [
            "/usr/local/lib/python3.6/dist-packages/statsmodels/tools/_testing.py:19: FutureWarning: pandas.util.testing is deprecated. Use the functions in the public API at pandas.testing instead.\n",
            "  import pandas.util.testing as tm\n"
          ],
          "name": "stderr"
        },
        {
          "output_type": "display_data",
          "data": {
            "image/png": "[encoded data removed]",
            "text/plain": [
              "<Figure size 432x288 with 1 Axes>"
            ]
          },
          "metadata": {
            "tags": []
          }
        }
      ]
    },
    {
      "cell_type": "markdown",
      "metadata": {
        "id": "sILX_ksp1lW0",
        "colab_type": "text"
      },
      "source": [
        "# Training and Evaluation Routines\n",
        "\n",
        "Let's define some functions to train our model and evaluate it under the validation set:"
      ]
    },
    {
      "cell_type": "code",
      "metadata": {
        "id": "BCkYOfDEIItT",
        "colab_type": "code",
        "colab": {}
      },
      "source": [
        "def train_epoch(model, criterion, optimizer, train_loader, log_interval, epoch):\n",
        "    # sets the model in \"training mode\", so dropout, BN, etc are active\n",
        "    model.train()\n",
        "\n",
        "    num_batches = len(train_loader)\n",
        "\n",
        "    losses = []\n",
        "    for batch_idx, batch in enumerate(train_loader):\n",
        "\n",
        "        input, targets = batch\n",
        "\n",
        "        model.zero_grad()\n",
        "\n",
        "        output = model(input.cuda())\n",
        "        loss = criterion(output, targets.cuda())\n",
        "        loss.backward()\n",
        "\n",
        "        optimizer.step()\n",
        "\n",
        "        losses.append(loss.item())\n",
        "\n",
        "        if log_interval and batch_idx % log_interval == 0:\n",
        "            percentage = 100 * batch_idx // num_batches\n",
        "            msg = 'epoch {}, progress: {}% avg.loss: {}'\n",
        "            print(msg.format(epoch, percentage, losses[-1]))\n",
        "    \n",
        "    return losses"
      ],
      "execution_count": 0,
      "outputs": []
    },
    {
      "cell_type": "code",
      "metadata": {
        "id": "x_LvwToVILLM",
        "colab_type": "code",
        "colab": {}
      },
      "source": [
        "def evaluate(model, criterion, loader):\n",
        "\n",
        "    # Sets the model in \"evaluation mode\" so dropout, BN, etc are deactivated.\n",
        "    model.eval()\n",
        "\n",
        "    num_total_elems = 0\n",
        "    loss = 0.\n",
        "    targets = []\n",
        "    preds = []\n",
        "    with torch.no_grad():\n",
        "        for batch in loader:\n",
        "            input, target = batch\n",
        "            batch_size = input.size(0)\n",
        "            logits = model(input.cuda())\n",
        "            batch_loss = criterion(logits, target.cuda()).item()\n",
        "            loss += batch_size * batch_loss\n",
        "            num_total_elems += batch_size\n",
        "            targets.extend(target.numpy().tolist())\n",
        "            preds.extend(torch.argmax(logits, dim=1).cpu().numpy().tolist())\n",
        "    \n",
        "    loss = loss / num_total_elems\n",
        "\n",
        "    return loss, targets, preds"
      ],
      "execution_count": 0,
      "outputs": []
    },
    {
      "cell_type": "code",
      "metadata": {
        "id": "lRWyCPoQIOtw",
        "colab_type": "code",
        "colab": {}
      },
      "source": [
        "import torch.nn as nn\n",
        "import torch.nn.functional as F\n",
        "import torch.optim as optim\n",
        "\n",
        "\n",
        "def train_model(model, lr, num_epochs, train_loader, valid_loader, log_interval):\n",
        "\n",
        "    # The output of the model must be compatible with this loss function\n",
        "    criterion = nn.CrossEntropyLoss()\n",
        "\n",
        "    optimizer = optim.Adam(lr=lr, params=model.parameters())\n",
        "\n",
        "    train_losses = []\n",
        "    valid_losses = []\n",
        "    for epoch in range(num_epochs):\n",
        "        epoch_losses = train_epoch(model,\n",
        "                                   criterion,\n",
        "                                   optimizer,\n",
        "                                   train_loader,\n",
        "                                   log_interval,\n",
        "                                   epoch)\n",
        "        train_losses.extend(epoch_losses)\n",
        "\n",
        "        valid_loss, _, _ = evaluate(model, criterion, valid_loader)\n",
        "        valid_losses.append(valid_loss)\n",
        "\n",
        "        print('epoch {}, validation loss: {:.3f}'.format(epoch, valid_loss))\n",
        "\n",
        "    return train_losses, valid_losses"
      ],
      "execution_count": 0,
      "outputs": []
    },
    {
      "cell_type": "markdown",
      "metadata": {
        "id": "0o_LJ6BS12uz",
        "colab_type": "text"
      },
      "source": [
        "# Our Neural Network\n",
        "\n",
        "Now it's time to define a neural network that can address the classification problem at hand:"
      ]
    },
    {
      "cell_type": "code",
      "metadata": {
        "id": "5LGOoYeXXoH6",
        "colab_type": "code",
        "colab": {}
      },
      "source": [
        "class DigitClassificationModel(nn.Module):\n",
        "    def __init__(self):\n",
        "        super().__init__()\n",
        "        # TODO: declare whatever modules you need\n",
        "\n",
        "        self.conv1 = nn.Conv2d(1, 3, 3, 2)\n",
        "        self.conv2 = nn.Conv2d(3, 16, 3)\n",
        "        self.pool1 = nn.MaxPool2d(2, 2)\n",
        "        self.conv2_bn = nn.BatchNorm2d(16)\n",
        "        #self.bn1 = nn.BatchNorm1d(num_features=3*62*30)\n",
        "        self.fc1 = nn.Linear(16*6*14, 100)\n",
        "        self.fc2 = nn.Linear(100, 10)\n",
        "        self.drop = nn.Dropout(0.1)\n",
        "    \n",
        "    def forward(self, input):\n",
        "        x = input\n",
        "        # TODO: implement whatever model you want, ensuring it achieves\n",
        "        #       decent accuracy. You could probably try with\n",
        "        #       convolutional layers, residual connections, etc.\n",
        "        #       Given the small size of the training data, you may\n",
        "        #       also want to use some sort of regularization.\n",
        "        #       Note that the result of the forward computation of the\n",
        "        #       model must be compatible with the loss function used for\n",
        "        #       the training (see functions train_epoch and train_model).\n",
        "\n",
        "        x = self.drop(self.pool1(F.relu(self.conv1(x))))\n",
        "        x = self.drop(self.pool1(F.relu(self.conv2_bn(self.conv2(x)))))\n",
        "        #print(np.shape(x))\n",
        "        x = x.view(-1, 16 * 14 * 6)\n",
        "        \n",
        "        x=self.drop(self.fc1(x))\n",
        "        x=self.fc2(x)\n",
        "\n",
        "        return x"
      ],
      "execution_count": 0,
      "outputs": []
    },
    {
      "cell_type": "markdown",
      "metadata": {
        "id": "D8y8CduL3nI7",
        "colab_type": "text"
      },
      "source": [
        "# Training\n",
        "\n",
        "Now it's time to train our model."
      ]
    },
    {
      "cell_type": "code",
      "metadata": {
        "id": "q_7DkMRbEbIj",
        "colab_type": "code",
        "outputId": "9804c7dd-44c7-4dae-c044-e46777c70184",
        "colab": {
          "base_uri": "https://localhost:8080/",
          "height": 1000
        }
      },
      "source": [
        "# TODO: select an appropriate set of hyperparameters, either in\n",
        "#       this cell (learning rate, number of epochs, etc), or\n",
        "#       throughout the notebook (e.g. batch size). Also, consider\n",
        "#       techniques such as early stopping to avoid overfitting.\n",
        "\n",
        "NUM_EPOCHS = 40\n",
        "LOG_INTERVAL = 40\n",
        "\n",
        "model = DigitClassificationModel().cuda()\n",
        "train_losses, valid_losses = train_model(model,\n",
        "                                         0.0001,\n",
        "                                         NUM_EPOCHS,\n",
        "                                         train_loader,\n",
        "                                         valid_loader,\n",
        "                                         LOG_INTERVAL)"
      ],
      "execution_count": 0,
      "outputs": [
        {
          "output_type": "stream",
          "text": [
            "epoch 0, progress: 0% avg.loss: 2.4368791580200195\n",
            "epoch 0, progress: 53% avg.loss: 1.9013372659683228\n",
            "epoch 0, validation loss: 1.736\n",
            "epoch 1, progress: 0% avg.loss: 1.3588438034057617\n",
            "epoch 1, progress: 53% avg.loss: 1.1453105211257935\n",
            "epoch 1, validation loss: 1.421\n",
            "epoch 2, progress: 0% avg.loss: 1.0062700510025024\n",
            "epoch 2, progress: 53% avg.loss: 0.7950556874275208\n",
            "epoch 2, validation loss: 1.223\n",
            "epoch 3, progress: 0% avg.loss: 0.3998212218284607\n",
            "epoch 3, progress: 53% avg.loss: 0.6077300310134888\n",
            "epoch 3, validation loss: 1.089\n",
            "epoch 4, progress: 0% avg.loss: 0.37959831953048706\n",
            "epoch 4, progress: 53% avg.loss: 0.5196840167045593\n",
            "epoch 4, validation loss: 0.983\n",
            "epoch 5, progress: 0% avg.loss: 0.674354076385498\n",
            "epoch 5, progress: 53% avg.loss: 0.4898301959037781\n",
            "epoch 5, validation loss: 0.901\n",
            "epoch 6, progress: 0% avg.loss: 0.3234110176563263\n",
            "epoch 6, progress: 53% avg.loss: 0.4255167841911316\n",
            "epoch 6, validation loss: 0.827\n",
            "epoch 7, progress: 0% avg.loss: 0.6874442100524902\n",
            "epoch 7, progress: 53% avg.loss: 0.34107452630996704\n",
            "epoch 7, validation loss: 0.791\n",
            "epoch 8, progress: 0% avg.loss: 0.16513343155384064\n",
            "epoch 8, progress: 53% avg.loss: 0.19668027758598328\n",
            "epoch 8, validation loss: 0.737\n",
            "epoch 9, progress: 0% avg.loss: 0.3145168423652649\n",
            "epoch 9, progress: 53% avg.loss: 0.379535436630249\n",
            "epoch 9, validation loss: 0.704\n",
            "epoch 10, progress: 0% avg.loss: 0.16778995096683502\n",
            "epoch 10, progress: 53% avg.loss: 0.13541658222675323\n",
            "epoch 10, validation loss: 0.688\n",
            "epoch 11, progress: 0% avg.loss: 0.12299122661352158\n",
            "epoch 11, progress: 53% avg.loss: 0.06319644302129745\n",
            "epoch 11, validation loss: 0.656\n",
            "epoch 12, progress: 0% avg.loss: 0.12980537116527557\n",
            "epoch 12, progress: 53% avg.loss: 0.3080640435218811\n",
            "epoch 12, validation loss: 0.609\n",
            "epoch 13, progress: 0% avg.loss: 0.11229036748409271\n",
            "epoch 13, progress: 53% avg.loss: 0.09339091926813126\n",
            "epoch 13, validation loss: 0.629\n",
            "epoch 14, progress: 0% avg.loss: 0.08848144859075546\n",
            "epoch 14, progress: 53% avg.loss: 0.036688972264528275\n",
            "epoch 14, validation loss: 0.621\n",
            "epoch 15, progress: 0% avg.loss: 0.07690982520580292\n",
            "epoch 15, progress: 53% avg.loss: 0.07318198680877686\n",
            "epoch 15, validation loss: 0.625\n",
            "epoch 16, progress: 0% avg.loss: 0.02621610090136528\n",
            "epoch 16, progress: 53% avg.loss: 0.06227533891797066\n",
            "epoch 16, validation loss: 0.586\n",
            "epoch 17, progress: 0% avg.loss: 0.06832923740148544\n",
            "epoch 17, progress: 53% avg.loss: 0.08790366351604462\n",
            "epoch 17, validation loss: 0.576\n",
            "epoch 18, progress: 0% avg.loss: 0.10647425800561905\n",
            "epoch 18, progress: 53% avg.loss: 0.0904383435845375\n",
            "epoch 18, validation loss: 0.578\n",
            "epoch 19, progress: 0% avg.loss: 0.1060827225446701\n",
            "epoch 19, progress: 53% avg.loss: 0.036029815673828125\n",
            "epoch 19, validation loss: 0.559\n",
            "epoch 20, progress: 0% avg.loss: 0.19364669919013977\n",
            "epoch 20, progress: 53% avg.loss: 0.04089007526636124\n",
            "epoch 20, validation loss: 0.529\n",
            "epoch 21, progress: 0% avg.loss: 0.043804191052913666\n",
            "epoch 21, progress: 53% avg.loss: 0.04811291769146919\n",
            "epoch 21, validation loss: 0.574\n",
            "epoch 22, progress: 0% avg.loss: 0.06161469221115112\n",
            "epoch 22, progress: 53% avg.loss: 0.03265704959630966\n",
            "epoch 22, validation loss: 0.541\n",
            "epoch 23, progress: 0% avg.loss: 0.032915376126766205\n",
            "epoch 23, progress: 53% avg.loss: 0.18870124220848083\n",
            "epoch 23, validation loss: 0.525\n",
            "epoch 24, progress: 0% avg.loss: 0.17823199927806854\n",
            "epoch 24, progress: 53% avg.loss: 0.011457872577011585\n",
            "epoch 24, validation loss: 0.523\n",
            "epoch 25, progress: 0% avg.loss: 0.0306639913469553\n",
            "epoch 25, progress: 53% avg.loss: 0.014220619574189186\n",
            "epoch 25, validation loss: 0.506\n",
            "epoch 26, progress: 0% avg.loss: 0.022279834374785423\n",
            "epoch 26, progress: 53% avg.loss: 0.027637839317321777\n",
            "epoch 26, validation loss: 0.521\n",
            "epoch 27, progress: 0% avg.loss: 0.04159533977508545\n",
            "epoch 27, progress: 53% avg.loss: 0.08626339584589005\n",
            "epoch 27, validation loss: 0.526\n",
            "epoch 28, progress: 0% avg.loss: 0.052592016756534576\n",
            "epoch 28, progress: 53% avg.loss: 0.045247435569763184\n",
            "epoch 28, validation loss: 0.505\n",
            "epoch 29, progress: 0% avg.loss: 0.005816459655761719\n",
            "epoch 29, progress: 53% avg.loss: 0.035959839820861816\n",
            "epoch 29, validation loss: 0.520\n",
            "epoch 30, progress: 0% avg.loss: 0.0900375097990036\n",
            "epoch 30, progress: 53% avg.loss: 0.010271072387695312\n",
            "epoch 30, validation loss: 0.563\n",
            "epoch 31, progress: 0% avg.loss: 0.06792990863323212\n",
            "epoch 31, progress: 53% avg.loss: 0.005775260739028454\n",
            "epoch 31, validation loss: 0.503\n",
            "epoch 32, progress: 0% avg.loss: 0.026784706860780716\n",
            "epoch 32, progress: 53% avg.loss: 0.026469659060239792\n",
            "epoch 32, validation loss: 0.490\n",
            "epoch 33, progress: 0% avg.loss: 0.04492955282330513\n",
            "epoch 33, progress: 53% avg.loss: 0.01807227171957493\n",
            "epoch 33, validation loss: 0.505\n",
            "epoch 34, progress: 0% avg.loss: 0.016290664672851562\n",
            "epoch 34, progress: 53% avg.loss: 0.014356112107634544\n",
            "epoch 34, validation loss: 0.511\n",
            "epoch 35, progress: 0% avg.loss: 0.020342588424682617\n",
            "epoch 35, progress: 53% avg.loss: 0.018929481506347656\n",
            "epoch 35, validation loss: 0.557\n",
            "epoch 36, progress: 0% avg.loss: 0.018318915739655495\n",
            "epoch 36, progress: 53% avg.loss: 0.008606505580246449\n",
            "epoch 36, validation loss: 0.522\n",
            "epoch 37, progress: 0% avg.loss: 0.01012487430125475\n",
            "epoch 37, progress: 53% avg.loss: 0.008637523278594017\n",
            "epoch 37, validation loss: 0.523\n",
            "epoch 38, progress: 0% avg.loss: 0.018334578722715378\n",
            "epoch 38, progress: 53% avg.loss: 0.009891271591186523\n",
            "epoch 38, validation loss: 0.513\n",
            "epoch 39, progress: 0% avg.loss: 0.014287114143371582\n",
            "epoch 39, progress: 53% avg.loss: 0.020678257569670677\n",
            "epoch 39, validation loss: 0.531\n"
          ],
          "name": "stdout"
        }
      ]
    },
    {
      "cell_type": "markdown",
      "metadata": {
        "id": "SoMTJFtsMSei",
        "colab_type": "text"
      },
      "source": [
        "Let's visualize the training/validation losses to understand if our model is overfitting:"
      ]
    },
    {
      "cell_type": "code",
      "metadata": {
        "id": "ehNk-q2cGZ9S",
        "colab_type": "code",
        "outputId": "a53c9294-842f-4d1f-f6ae-0638ac609f88",
        "colab": {
          "base_uri": "https://localhost:8080/",
          "height": 267
        }
      },
      "source": [
        "plt.plot(train_losses, label='train')\n",
        "valid_x_axis = [(1 + k) * len(train_losses)/len(valid_losses)\n",
        "                for k in range(len(valid_losses))]\n",
        "plt.plot(valid_x_axis, valid_losses, label='valid')\n",
        "plt.legend()"
      ],
      "execution_count": 0,
      "outputs": [
        {
          "output_type": "display_data",
          "data": {
            "image/png": "[encoded data removed]",
            "text/plain": [
              "<Figure size 432x288 with 1 Axes>"
            ]
          },
          "metadata": {
            "tags": []
          }
        }
      ]
    },
    {
      "cell_type": "markdown",
      "metadata": {
        "id": "hqCPeCEhGhUu",
        "colab_type": "text"
      },
      "source": [
        "# Performance Evaluation\n",
        "\n",
        "Now we will evaluate our model in the test set. For this, we will compute the predictions of the model over the test set and compare them against the true labels in a **confusion matrix**:"
      ]
    },
    {
      "cell_type": "code",
      "metadata": {
        "id": "O6mzYOL4fhyx",
        "colab_type": "code",
        "outputId": "fa4b522d-c0fe-48ac-baeb-bce8b79cd529",
        "colab": {
          "base_uri": "https://localhost:8080/",
          "height": 288
        }
      },
      "source": [
        "from sklearn.metrics import confusion_matrix\n",
        "\n",
        "\n",
        "_, target, preds = evaluate(model, nn.CrossEntropyLoss(), test_loader)\n",
        "\n",
        "cm = confusion_matrix(target, preds)\n",
        "relative_cm = cm.astype('float') / cm.sum(axis=1)[:, np.newaxis]\n",
        "sns.heatmap(relative_cm, annot=True)\n",
        "plt.xlabel(\"Predicted\")\n",
        "plt.ylabel(\"True Label\")"
      ],
      "execution_count": 0,
      "outputs": [
        {
          "output_type": "display_data",
          "data": {
            "image/png": "[encoded data removed]",
            "text/plain": [
              "<Figure size 432x288 with 2 Axes>"
            ]
          },
          "metadata": {
            "tags": []
          }
        }
      ]
    }
  ]
}