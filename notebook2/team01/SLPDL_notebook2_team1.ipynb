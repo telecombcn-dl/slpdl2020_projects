{
  "nbformat": 4,
  "nbformat_minor": 0,
  "metadata": {
    "colab": {
      "name": "SLPDL_notebook2_group1.ipynb",
      "provenance": [],
      "collapsed_sections": []
    },
    "kernelspec": {
      "name": "python3",
      "display_name": "Python 3"
    },
    "accelerator": "GPU"
  },
  "cells": [
    {
      "cell_type": "markdown",
      "metadata": {
        "id": "PiwiniuVwWAg",
        "colab_type": "text"
      },
      "source": [
        "* Aina Maki\n",
        "* Victor Roman\n",
        "* Martí Grau\n",
        "* Marc Illa"
      ]
    },
    {
      "cell_type": "markdown",
      "metadata": {
        "id": "NOn1cnCKQT6d",
        "colab_type": "text"
      },
      "source": [
        "# Instructions of this exercise\n",
        "\n",
        "This jupyter notebook is an exercise for you to understand the basics of LSTM language models.\n",
        "\n",
        "The different sections have comments that will guide you through the different stages of the processing.\n",
        "\n",
        "**You will find parts in this notebook that are missing. They are marked with a <font color=\"red\">\"TODO\"</font>, with an explanation about what you are supposed to write/code in that gap. Sometimes you may be requested to implement an algorithm or a piece of code that behaves in a specific way. Other times, you may be requested to explain what a specific piece of code does or why it is needed.** In some cases, the requests may contain a \"trap\", e.g. the thing you are requested to implement can't be done for whatever reason, or it may need an extra preprocessing step for it to be possible.\n",
        "\n",
        "If you have any doubt, do not hesitate to contact the instructor at noe.casas@upc.edu\n",
        "\n",
        "---\n",
        "\n"
      ]
    },
    {
      "cell_type": "markdown",
      "metadata": {
        "id": "ifhifRKlyotX",
        "colab_type": "text"
      },
      "source": [
        "# Requirements\n",
        "\n",
        "In order to follow this notebook you need working knowledge on:\n",
        "\n",
        "* Python programming.\n",
        "* Pytorch basics.\n",
        "* Language modeling basics.\n",
        "* Unix command line basics (cat, head, tail, awk).\n",
        "\n",
        "If you lack any of them, please acquire the needed knowledge on the internet, where there is plenty of material about the three topics.\n",
        "\n",
        "---"
      ]
    },
    {
      "cell_type": "markdown",
      "metadata": {
        "id": "fDyNSZSRXQ52",
        "colab_type": "text"
      },
      "source": [
        "# Introduction\n",
        "\n",
        "Language Modeling is the task of predicting each token based on the previous ones. Formally, a language models the probability distribution of the token at position $t$, which is referred to as $y_t$, conditioning it on the previous tokens $y_1,\\ldots,y_{t-1}$, that is, an LM models $p\\left(y_t|  y_1, \\ldots, y_{t-1} \\right)$\n",
        "\n",
        "A classical approach for LMs is to use a recurrent unit, either an LSTM or a GRU. In this exercise you will be implementing an LSTM LM."
      ]
    },
    {
      "cell_type": "markdown",
      "metadata": {
        "id": "Y6KYn0X5XjjJ",
        "colab_type": "text"
      },
      "source": [
        "---\n",
        "## Installation of extra libraries\n",
        "\n",
        "The extra libraries we will use are:\n",
        "* **sacremoses**: the is a classical translation tool called \"Moses\" (https://github.com/moses-smt/mosesdecoder). Apart from translation tools, it offers a lot of different preprocessing scripts (written in the Perl programming language). These scripts are ubiquitous in the NLP world. Instead of using Moses scripts, we will use sacremoses, which is a reimplementation of the most useful Moses scripts in Python."
      ]
    },
    {
      "cell_type": "code",
      "metadata": {
        "id": "A9nO7Iu-FKup",
        "colab_type": "code",
        "trusted": true,
        "outputId": "dcd7ac09-410b-4e5e-e5ee-2cd464998f00",
        "colab": {
          "base_uri": "https://localhost:8080/",
          "height": 326
        }
      },
      "source": [
        "!pip install torch\n",
        "!pip install numpy\n",
        "!pip install -U https://github.com/alvations/sacremoses/archive/master.zip"
      ],
      "execution_count": 0,
      "outputs": [
        {
          "output_type": "stream",
          "text": [
            "Requirement already satisfied: torch in /usr/local/lib/python3.6/dist-packages (1.4.0)\n",
            "Requirement already satisfied: numpy in /usr/local/lib/python3.6/dist-packages (1.18.2)\n",
            "Collecting https://github.com/alvations/sacremoses/archive/master.zip\n",
            "\u001b[?25l  Downloading https://github.com/alvations/sacremoses/archive/master.zip\n",
            "\u001b[K     - 1.3MB 4.3MB/s\n",
            "\u001b[?25hRequirement already satisfied, skipping upgrade: regex in /usr/local/lib/python3.6/dist-packages (from sacremoses==0.0.41) (2019.12.20)\n",
            "Requirement already satisfied, skipping upgrade: six in /usr/local/lib/python3.6/dist-packages (from sacremoses==0.0.41) (1.12.0)\n",
            "Requirement already satisfied, skipping upgrade: click in /usr/local/lib/python3.6/dist-packages (from sacremoses==0.0.41) (7.1.1)\n",
            "Requirement already satisfied, skipping upgrade: joblib in /usr/local/lib/python3.6/dist-packages (from sacremoses==0.0.41) (0.14.1)\n",
            "Requirement already satisfied, skipping upgrade: tqdm in /usr/local/lib/python3.6/dist-packages (from sacremoses==0.0.41) (4.38.0)\n",
            "Building wheels for collected packages: sacremoses\n",
            "  Building wheel for sacremoses (setup.py) ... \u001b[?25l\u001b[?25hdone\n",
            "  Created wheel for sacremoses: filename=sacremoses-0.0.41-cp36-none-any.whl size=884524 sha256=cf079137541fe9ba1fdce9944fb5e7a315902e799f2eb36d68a367dbfb1ef1f3\n",
            "  Stored in directory: /tmp/pip-ephem-wheel-cache-x63sm68v/wheels/a9/8b/db/e688b9d5eecd3518dd27712980c76599bcd8312ee220f4878e\n",
            "Successfully built sacremoses\n",
            "Installing collected packages: sacremoses\n",
            "Successfully installed sacremoses-0.0.41\n"
          ],
          "name": "stdout"
        }
      ]
    },
    {
      "cell_type": "markdown",
      "metadata": {
        "id": "Gs5xmv2NdoRV",
        "colab_type": "text"
      },
      "source": [
        "---\n",
        "\n",
        "## General Imports\n",
        "\n",
        "Now we will import some components that will be used throughout the notebook"
      ]
    },
    {
      "cell_type": "code",
      "metadata": {
        "id": "_TKrQWEltqVI",
        "colab_type": "code",
        "trusted": true,
        "colab": {}
      },
      "source": [
        "import numpy as np\n",
        "import torch\n",
        "import torch.nn as nn\n",
        "import torch.nn.functional as F\n",
        "import torch.optim as optim\n",
        "from torch.utils.data import TensorDataset, DataLoader"
      ],
      "execution_count": 0,
      "outputs": []
    },
    {
      "cell_type": "markdown",
      "metadata": {
        "id": "jeLR98bJuV8O",
        "colab_type": "text"
      },
      "source": [
        "---\n",
        "\n",
        "## Reproducibility\n",
        "\n",
        "We fix the random seed for reproducibility purposes. See this for details:\n",
        "https://pytorch.org/docs/stable/notes/randomness.html"
      ]
    },
    {
      "cell_type": "code",
      "metadata": {
        "id": "oN_B25-ctw2t",
        "colab_type": "code",
        "trusted": true,
        "colab": {}
      },
      "source": [
        "seed = 321\n",
        "torch.manual_seed(seed)\n",
        "torch.backends.cudnn.deterministic = True\n",
        "torch.backends.cudnn.benchmark = False\n",
        "np.random.seed(seed)"
      ],
      "execution_count": 0,
      "outputs": []
    },
    {
      "cell_type": "markdown",
      "metadata": {
        "id": "lm01kM-Td4El",
        "colab_type": "text"
      },
      "source": [
        "---\n",
        "\n",
        "## Data Download\n",
        "\n",
        "For this notebook we will use a dataset widely used in machine translation, called \"News Commentary\". We will be using some English subsets of News Commentary as training, validation and test data.\n",
        "\n",
        "First, we will download the dataset from the internet and extract some parts into files `train.en`, `valid.en` and `test.en`:"
      ]
    },
    {
      "cell_type": "code",
      "metadata": {
        "id": "AJ5lGJO9t55o",
        "colab_type": "code",
        "trusted": true,
        "colab": {}
      },
      "source": [
        "!wget --quiet 'http://data.statmt.org/wmt17/translation-task/training-parallel-nc-v12.tgz'\n",
        "!tar xzf training-parallel-nc-v12.tgz\n",
        "!mv training/news-commentary-v12.fr-en.en ./train.en\n",
        "!bash -c \"shuf --random-source=<(openssl enc -aes-256-ctr -pass pass:42 -nosalt </dev/zero 2>/dev/null)\" < training/news-commentary-v12.zh-en.en > shuffled.en\n",
        "!head -5000 < shuffled.en > valid.en\n",
        "!tail -5000 < shuffled.en > test.en"
      ],
      "execution_count": 0,
      "outputs": []
    },
    {
      "cell_type": "markdown",
      "metadata": {
        "id": "VLBlhh0ceaIX",
        "colab_type": "text"
      },
      "source": [
        "News commentary is text from news, where each line of the file is a separate sentence. Let's take a look at the number of sentences in each file:"
      ]
    },
    {
      "cell_type": "code",
      "metadata": {
        "id": "WurMWf7jvDKR",
        "colab_type": "code",
        "trusted": true,
        "outputId": "425f0311-e1be-42c2-f2dd-c6058b2c532e",
        "colab": {
          "base_uri": "https://localhost:8080/",
          "height": 90
        }
      },
      "source": [
        "!wc -l train.en valid.en test.en"
      ],
      "execution_count": 0,
      "outputs": [
        {
          "output_type": "stream",
          "text": [
            "  258432 train.en\n",
            "    5000 valid.en\n",
            "    5000 test.en\n",
            "  268432 total\n"
          ],
          "name": "stdout"
        }
      ]
    },
    {
      "cell_type": "markdown",
      "metadata": {
        "id": "iTftXikMemRy",
        "colab_type": "text"
      },
      "source": [
        "---\n",
        "\n",
        "\n",
        "## Data preprocessing\n",
        "\n",
        "In general, it is of utmost importance to understand the data you are working with, so let's have a look at the text:"
      ]
    },
    {
      "cell_type": "code",
      "metadata": {
        "id": "EO4icbYMEjgv",
        "colab_type": "code",
        "trusted": true,
        "outputId": "6a3f2aa3-830a-49ce-aca3-0d0fa43dae1b",
        "colab": {
          "base_uri": "https://localhost:8080/",
          "height": 108
        }
      },
      "source": [
        "!head -5 train.en"
      ],
      "execution_count": 0,
      "outputs": [
        {
          "output_type": "stream",
          "text": [
            "$10,000 Gold?\n",
            "SAN FRANCISCO – It has never been easy to have a rational conversation about the value of gold.\n",
            "Lately, with gold prices up more than 300% over the last decade, it is harder than ever.\n",
            "Just last December, fellow economists Martin Feldstein and Nouriel Roubini each penned op-eds bravely questioning bullish market sentiment, sensibly pointing out gold’s risks.\n",
            "Wouldn’t you know it?\n"
          ],
          "name": "stdout"
        }
      ]
    },
    {
      "cell_type": "markdown",
      "metadata": {
        "id": "1MJ0fZQzeyg5",
        "colab_type": "text"
      },
      "source": [
        "As a first preprocessing step, we will:\n",
        "* **normalize punctuation**: convert punctuation marks so that only the most standard ones are used. For instance, unicode curly quotes (“”) will be converted to straigh ones (\").\n",
        "* **tokenize**: words and punctuation will be separated with spaces, and contractions may be expanded. For instance, sentence \"No, he wasn't there.\" will be converted to \"No , he was n't there .\"\n",
        "* **lowercase**: turn all alphabetical characters into lowercase, so that the embeddings we obtain are independent from the original casing."
      ]
    },
    {
      "cell_type": "code",
      "metadata": {
        "id": "yeDdDO7WFH7X",
        "colab_type": "code",
        "trusted": true,
        "outputId": "9f1b5add-7298-42f4-a117-b037005cb065",
        "colab": {
          "base_uri": "https://localhost:8080/",
          "height": 126
        }
      },
      "source": [
        "!cat train.en | sacremoses normalize -l en | sacremoses tokenize -l en | awk '{ print tolower($0) }' > train.low.tok.en\n",
        "!cat valid.en | sacremoses normalize -l en | sacremoses tokenize -l en | awk '{ print tolower($0) }' > valid.low.tok.en\n",
        "!cat test.en  | sacremoses normalize -l en | sacremoses tokenize -l en | awk '{ print tolower($0) }' > test.low.tok.en"
      ],
      "execution_count": 0,
      "outputs": [
        {
          "output_type": "stream",
          "text": [
            "100% 258961/258961 [00:42<00:00, 6125.57it/s]\n",
            "100% 258961/258961 [00:56<00:00, 4624.10it/s]\n",
            "100% 5000/5000 [00:00<00:00, 6131.59it/s]\n",
            "100% 5000/5000 [00:01<00:00, 4253.05it/s]\n",
            "100% 5004/5004 [00:00<00:00, 6278.71it/s]\n",
            "100% 5004/5004 [00:01<00:00, 4264.04it/s]\n"
          ],
          "name": "stdout"
        }
      ]
    },
    {
      "cell_type": "markdown",
      "metadata": {
        "id": "4FAWv2wcgoY0",
        "colab_type": "text"
      },
      "source": [
        "Let's look how our data looks like after the described preprocessing steps:"
      ]
    },
    {
      "cell_type": "code",
      "metadata": {
        "id": "yVI139fcLZov",
        "colab_type": "code",
        "trusted": true,
        "outputId": "b85010e3-8e19-46de-a0e7-def68f51fa08",
        "colab": {
          "base_uri": "https://localhost:8080/",
          "height": 199
        }
      },
      "source": [
        "!head -10 train.low.tok.en"
      ],
      "execution_count": 0,
      "outputs": [
        {
          "output_type": "stream",
          "text": [
            "$ 10,000 gold ?\n",
            "san francisco - it has never been easy to have a rational conversation about the value of gold .\n",
            "lately , with gold prices up more than 300 % over the last decade , it is harder than ever .\n",
            "just last december , fellow economists martin feldstein and nouriel roubini each penned op-eds bravely questioning bullish market sentiment , sensibly pointing out gold &apos;s risks .\n",
            "wouldn &apos;t you know it ?\n",
            "since their articles appeared , the price of gold has moved up still further . gold prices even hit a record-high $ 1,300 recently .\n",
            "last december , many gold bugs were arguing that the price was inevitably headed for $ 2,000 .\n",
            "now , emboldened by continuing appreciation , some are suggesting that gold could be headed even higher than that .\n",
            "one successful gold investor recently explained to me that stock prices languished for a more than a decade before the dow jones index crossed the 1,000 mark in the early 1980 &apos;s .\n",
            "since then , the index has climbed above 10,000 .\n"
          ],
          "name": "stdout"
        }
      ]
    },
    {
      "cell_type": "markdown",
      "metadata": {
        "id": "LZOTS2VPjzxL",
        "colab_type": "text"
      },
      "source": [
        "Now we have our 3 final files: `train.low.tok.en`, `valid.low.tok.en` and `test.low.tok.en`.\n",
        "\n",
        "Note that, at each preprocessing step, we have been creating new files with extra suffixes indicating the type of preprocessing."
      ]
    },
    {
      "cell_type": "markdown",
      "metadata": {
        "id": "3yKXradWjvyi",
        "colab_type": "text"
      },
      "source": [
        "---\n",
        "\n",
        "## Text Loading\n",
        "\n",
        "We will load the text from our 3 files into python variables. The text in a file will be represented as a list of sentences, where each sentence is a list of words (strings)."
      ]
    },
    {
      "cell_type": "code",
      "metadata": {
        "id": "f31ITJwM40Sf",
        "colab_type": "code",
        "trusted": true,
        "colab": {}
      },
      "source": [
        "def load_text_tokens(filename):\n",
        "    \"\"\"\n",
        "    Loads the text in the filename as a list of list of words.\n",
        "    :param filename Name of the file to load in memory.\n",
        "    :return List of list of strings with the contents of the file.\n",
        "    \"\"\"\n",
        "    text = []\n",
        "    with open(filename) as f:\n",
        "        for line in f:\n",
        "            line = line.strip() # remove leading and training blanks\n",
        "\n",
        "            # split words at blanks (the text is already tokeniked)\n",
        "            line_tokens = line.split(' ')\n",
        "\n",
        "            if len(line_tokens) < 5:\n",
        "              continue  # ignore too short lines\n",
        "\n",
        "            text.append(line_tokens)\n",
        "    return text"
      ],
      "execution_count": 0,
      "outputs": []
    },
    {
      "cell_type": "code",
      "metadata": {
        "id": "fnSzCiFTUWV2",
        "colab_type": "code",
        "trusted": true,
        "colab": {}
      },
      "source": [
        "train_tokens = load_text_tokens('train.low.tok.en')\n",
        "valid_tokens = load_text_tokens('valid.low.tok.en')\n",
        "test_tokens = load_text_tokens('test.low.tok.en')"
      ],
      "execution_count": 0,
      "outputs": []
    },
    {
      "cell_type": "markdown",
      "metadata": {
        "id": "ha5EHhoAlEfd",
        "colab_type": "text"
      },
      "source": [
        "## Vocabulary Extraction\n",
        "\n",
        "Given the huge amount of possible word in a language, when creating word embeddings, we need to constrain the set of supported words. This way, we will be having a list of words for which we will compute embeddings. This list is known as the **vocabulary**. The vocabulary is created by selecting the most frequent words in the training data.\n",
        "\n",
        "As the vocabulary is finite, there are some words it won't be able to represent. We will use a **special token** to represent these \"out of vocabulary\" words, normally referred to as the **&lt;UNK&gt;** token.\n",
        "\n",
        "We will also use another special token **&lt;EOS&gt;** to represent the ending of a sentente (EOS stands for end of sequence)."
      ]
    },
    {
      "cell_type": "code",
      "metadata": {
        "id": "hDr3uo_YjrC9",
        "colab_type": "code",
        "trusted": true,
        "colab": {}
      },
      "source": [
        "def extract_vocabulary(text_tokens, vocab_size):\n",
        "    from collections import Counter\n",
        "    unk_token = '<UNK>'\n",
        "    eos_token = '<EOS>'\n",
        "    special_tokens = [unk_token, eos_token]\n",
        "    counter = Counter(word for sentence in text_tokens for word in sentence)\n",
        "    most_common_counts = counter.most_common(vocab_size - len(special_tokens))\n",
        "    most_frequent_words = [word for (word, count) in most_common_counts]\n",
        "    idx2token = special_tokens + most_frequent_words\n",
        "    token2idx = {token: token_id for token_id, token in enumerate(idx2token)}\n",
        "    return unk_token, eos_token, idx2token, token2idx"
      ],
      "execution_count": 0,
      "outputs": []
    },
    {
      "cell_type": "code",
      "metadata": {
        "id": "pXsDVis4jtWf",
        "colab_type": "code",
        "trusted": true,
        "colab": {}
      },
      "source": [
        "VOCAB_SIZE=30000\n",
        "unk_token, eos_token, idx2token, token2idx = extract_vocabulary(train_tokens, vocab_size=VOCAB_SIZE)\n",
        "unk_token_id = token2idx[unk_token]\n",
        "eos_token_id = token2idx[eos_token]"
      ],
      "execution_count": 0,
      "outputs": []
    },
    {
      "cell_type": "markdown",
      "metadata": {
        "id": "e2gLL3fGlKHx",
        "colab_type": "text"
      },
      "source": [
        "## Text Encoding\n",
        "\n",
        "To feed words to our neural network, we need to express them as numbers. This way, a word will be represented as the index it occupies in the vocabulary table. With this in mind, let's encoder the training, validation and test datasets:\n"
      ]
    },
    {
      "cell_type": "code",
      "metadata": {
        "id": "uxRk85UNkpk_",
        "colab_type": "code",
        "trusted": true,
        "colab": {}
      },
      "source": [
        "\n",
        "def encode_token_ids(text_tokens, vocabulary, unk_token_id, eos_token):\n",
        "    \"\"\"\n",
        "    Create a list with all the token IDs in the data. Note that all sentences\n",
        "    are concatenated one after the other.\n",
        "    :param text_tokens \n",
        "    \"\"\"\n",
        "    return [vocabulary.get(token, unk_token_id)\n",
        "            for sentence in text_tokens for token in sentence + [eos_token]]"
      ],
      "execution_count": 0,
      "outputs": []
    },
    {
      "cell_type": "code",
      "metadata": {
        "id": "2AUC2-Wiks7N",
        "colab_type": "code",
        "trusted": true,
        "colab": {}
      },
      "source": [
        "train_token_ids = torch.LongTensor(encode_token_ids(train_tokens, token2idx, unk_token_id, eos_token))\n",
        "valid_token_ids = torch.LongTensor(encode_token_ids(test_tokens, token2idx, unk_token_id, eos_token))\n",
        "test_token_ids = torch.LongTensor(encode_token_ids(test_tokens, token2idx, unk_token_id, eos_token))"
      ],
      "execution_count": 0,
      "outputs": []
    },
    {
      "cell_type": "markdown",
      "metadata": {
        "id": "VOjoPmR9qMy1",
        "colab_type": "text"
      },
      "source": [
        "## Batch Preparation\n",
        "\n",
        "The way textual data is fed to a Language Model is not very self-evident (at least to me).\n",
        "\n",
        "First, some <u>background</u>:\n",
        "\n",
        "**How are images fed to image-processing neural networks?** Normally, we assume that the size of the images that will be used as input to a neural networl is constant, that is, all images are assumed to be the same size. This allows use to create mini-batches easily: if we have $n$ color images of size $w \\times h$, each image is represented by a tensor of shape [3, w, h] (the \"3\" is because a color image is normally represented with 3 channels: red, green and blue), so we just stack the $n$ images together into a tensor of shape `[n, 3, w, h]`. Therefore, because we have input data of the same size, creating batches is easy.\n",
        "\n",
        "**How are text sentences fed to neural machine translation (NMT) or text classification networks?** In these cases, each piece of input data is a sequence of tokens, where each token is an integer number, normally the index of the token in the vocabulary table. Each sentence can have a differnt length. In order to compose a mini-batch, we make all sentences in the batch artificially longer, to match the length of the longest sentence. In order to do that, we will each sentence to the right with a special \"padding token\". For instance, if we want to pad a sentence of length 5 to fit in a batch where the maximum sequence length is 8, we need to add 3 padding tokens to the right of the last token in the sentence.\n",
        "\n",
        "Now, **how are text sentences fed to language models?** It would be possible to do the same as with NMT/text classification networks, but that's not the usual way to do it. Why? Because that way we would not be using the context from the previous sentences to make the next token predictions. In order to be able to profit from previous sentences' information, we do as follows: we concatenate all sentences together in a single long super sequence (the boundary between sentences is normally marked with an &lt;EOS&gt; token) and then, we create the batches so that they include $n$ fragments of fixed-length text so that they are \"connected\" to the $n$ fragments from the previous batch that we gave to the network. This means that the piece of fixed-length text at position $k$ in a batch is the continuation of the sentence at position $k$ in the previous batch. To actually be able to use the context from the previous batch in the predictions of the current batch, the last hidden states of the previous batch are used as initial hidden states for the current batch. The propagation of the gradients between different batches is severed, though. This is called \"**truncated back-propagation through time**\" (T-BPTT). The following functions are in charge of preparing the mini-batches in the appropriate way:"
      ]
    },
    {
      "cell_type": "code",
      "metadata": {
        "id": "AMQSwummqQi0",
        "colab_type": "code",
        "trusted": true,
        "colab": {}
      },
      "source": [
        "def prepare_data(data, batch_size):\n",
        "    \"\"\"\n",
        "    Starting from sequential data, this function arranges the dataset into columns.\n",
        "    For instance, with the alphabet as the sequence and batch size 4, we'd get\n",
        "    ┌ a g m s ┐\n",
        "    │ b h n t │\n",
        "    │ c i o u │\n",
        "    │ d j p v │\n",
        "    │ e k q w │\n",
        "    └ f l r x ┘.\n",
        "    These columns are treated as independent by the model, which means that the\n",
        "    dependence of e. g. 'g' on 'f' can not be learned, but allows more efficient\n",
        "    batch processing.\n",
        "    :param data LongTensor with a vector with all the data to prepare.\n",
        "    :\n",
        "    \"\"\"\n",
        "    # Compute how we can divide the dataset into batch_size parts.\n",
        "    nbatch = data.size(0) // batch_size\n",
        "    \n",
        "    # Trim off any extra elements that wouldn't cleanly fit (remainders).\n",
        "    data = data.narrow(0, 0, nbatch * batch_size)\n",
        "\n",
        "    # Evenly divide the data across the batch_size batches.\n",
        "    data = data.view(batch_size, -1).t().contiguous()\n",
        "\n",
        "    return data.cuda()"
      ],
      "execution_count": 0,
      "outputs": []
    },
    {
      "cell_type": "code",
      "metadata": {
        "id": "aJ9T9Ekdxow1",
        "colab_type": "code",
        "trusted": true,
        "colab": {}
      },
      "source": [
        "\n",
        "def get_batch_k(source, bptt, k):\n",
        "    \"\"\"\n",
        "    Subdivides the source data into chunks of length bptt (backprop through time).\n",
        "    If source is equal to the example output of the prepare_data function, with\n",
        "    a bptt-limit of 3, we'd get the following two Tensors for k = 0:\n",
        "    ┌ a g m s ┐ ┌ b h n t ┐\n",
        "    | b h n t | | c i o u |\n",
        "    └ c i o u ┘ └ d j p v ┘\n",
        "    Note that the subdivison of data is not done along the batch dimension\n",
        "    (i.e. dimension 1), since that was handled by the prepare_data function.\n",
        "    The chunks are along dimension 0, corresponding to the seq_len dimension in\n",
        "    the LSTM.\n",
        "    \"\"\"\n",
        "    seq_len = min(bptt, len(source) - 1 - k)\n",
        "    input_start = k\n",
        "    input_end   = k + seq_len\n",
        "    input = source[input_start:input_end]\n",
        "    target = source[input_start + 1:input_end + 1].view(-1)\n",
        "    return input, target"
      ],
      "execution_count": 0,
      "outputs": []
    },
    {
      "cell_type": "markdown",
      "metadata": {
        "id": "VcDi8wM21D87",
        "colab_type": "text"
      },
      "source": [
        "# Training boilerplate\n",
        "\n",
        "Now we will define some functions to train and evaluate a language model:"
      ]
    },
    {
      "cell_type": "code",
      "metadata": {
        "id": "1BFZdjHZACFn",
        "colab_type": "code",
        "trusted": true,
        "colab": {}
      },
      "source": [
        "def train_epoch(model, criterion, optimizer, vocab_size, train_data, batch_size, bptt, log_interval, epoch):\n",
        "    losses = []\n",
        "\n",
        "    model.train()\n",
        "\n",
        "    hidden = model.init_hidden(batch_size)\n",
        "\n",
        "    num_total_data = train_data.size(0)\n",
        "    num_batches = num_total_data // bptt\n",
        "\n",
        "    for batch, i in enumerate(range(0, num_total_data - 1, bptt)):\n",
        "\n",
        "        data, targets = get_batch_k(train_data, bptt, i)\n",
        "\n",
        "        model.zero_grad()\n",
        "\n",
        "        # We detach the hidden state from how it was previously produced to\n",
        "        # avoid backpropagating all the way to start of the dataset.\n",
        "        hidden = tuple(h.detach() for h in hidden)\n",
        "\n",
        "        output, hidden = model(data, hidden)\n",
        "        loss = criterion(output.view(-1, vocab_size), targets)\n",
        "        loss.backward()\n",
        "\n",
        "        nn.utils.clip_grad_norm_(model.parameters(), 0.25)\n",
        "\n",
        "        optimizer.step()\n",
        "\n",
        "        losses.append(loss.item())\n",
        "\n",
        "        if log_interval and batch % log_interval == 0:\n",
        "            percentage = 100 * batch // num_batches\n",
        "            msg = 'epoch {}, progress: {}% avg.loss: {}'\n",
        "            print(msg.format(epoch, percentage, losses[-1]))\n",
        "    \n",
        "    return losses\n"
      ],
      "execution_count": 0,
      "outputs": []
    },
    {
      "cell_type": "code",
      "metadata": {
        "id": "dlYDjNk6nnpu",
        "colab_type": "code",
        "trusted": true,
        "colab": {}
      },
      "source": [
        "def evaluate(model, criterion, data, vocab_size, bptt, eval_batch_size):\n",
        "\n",
        "    # Turn on evaluation mode which disables dropout.\n",
        "    model.eval()\n",
        "\n",
        "    num_total_elems = data.size(0) * data.size(1)\n",
        "\n",
        "    loss = 0.\n",
        "\n",
        "    with torch.no_grad():\n",
        "        hidden = model.init_hidden(eval_batch_size)\n",
        "        for i in range(0, data.size(0) - 1, bptt):\n",
        "            input, target = get_batch_k(data, bptt, i)\n",
        "            batch_size = input.size(0) * input.size(1)\n",
        "            output, hidden = model(input, hidden)\n",
        "            output_flat = output.view(-1, vocab_size)\n",
        "            batch_loss = criterion(output_flat, target).item()\n",
        "            loss += batch_size * batch_loss\n",
        "    \n",
        "    return loss / num_total_elems"
      ],
      "execution_count": 0,
      "outputs": []
    },
    {
      "cell_type": "code",
      "metadata": {
        "id": "KfeR6CgwmnMW",
        "colab_type": "code",
        "trusted": true,
        "colab": {}
      },
      "source": [
        "def train_model(model, num_epochs, vocab_size, train_data, valid_data, bptt, train_batch_size, eval_batch_size, log_interval):\n",
        "    criterion = nn.CrossEntropyLoss()\n",
        "    optimizer = optim.Adam(lr=0.001, params=model.parameters())\n",
        "\n",
        "    train_losses = []\n",
        "    valid_losses = []\n",
        "    for epoch in range(num_epochs):\n",
        "        epoch_losses = train_epoch(model,\n",
        "                                   criterion,\n",
        "                                   optimizer,\n",
        "                                   vocab_size,\n",
        "                                   train_data,\n",
        "                                   train_batch_size,\n",
        "                                   bptt,\n",
        "                                   log_interval,\n",
        "                                   epoch)\n",
        "        train_losses.extend(epoch_losses)\n",
        "\n",
        "        valid_loss = evaluate(model, criterion, valid_data, vocab_size, bptt, eval_batch_size)\n",
        "        valid_losses.append(valid_loss)\n",
        "\n",
        "        print('epoch {}, validation loss: {:.3f}'.format(epoch, valid_loss))\n",
        "\n",
        "    return train_losses, valid_losses"
      ],
      "execution_count": 0,
      "outputs": []
    },
    {
      "cell_type": "markdown",
      "metadata": {
        "id": "ywVBbsHO6SOO",
        "colab_type": "text"
      },
      "source": [
        "# Neural Network\n",
        "\n",
        "It's time for us to define the neural architecture of our language model.\n",
        "\n",
        "But first, let's think about how an LM is used: a language model predicts the next token based on the previous ones. In training time, this \"previous tokens\" are tokens from the training data, so we don't use the predicted token at position $t$, denoted $\\hat{y}_t$, as an input for the prediction of the next tokens $\\hat{y}_{t+1}, \\hat{y}_{t+2},\\ldots$. Instead, we always use as input the real tokens from the training data $y_i$. This is normally called \"**teacher forcing**\". Note that teacher forcing can only be used at training time, when we have real tokens. At inference time, teacher forcing cannot be used (see the Inference section below).\n",
        "\n",
        "Now that we know what teacher forcing is, we can proceed to implement our language model:"
      ]
    },
    {
      "cell_type": "code",
      "metadata": {
        "id": "YVFH8Q_SzmQ0",
        "colab_type": "code",
        "trusted": true,
        "colab": {}
      },
      "source": [
        "class LanguageModel(nn.Module):\n",
        "\n",
        "    def __init__(self, vocab_size, embed_dim, hidden_dim, num_layers, dropout=.3):\n",
        "        super().__init__()\n",
        "        self.hidden_dim = hidden_dim\n",
        "        self.num_layers = num_layers\n",
        "        self.embedding_dropout = nn.Dropout(dropout)\n",
        "        self.rnn_output_dropout = nn.Dropout(dropout)\n",
        "        self.embedding = nn.Embedding(vocab_size, embed_dim)\n",
        "        self.rnn = nn.LSTM(embed_dim,\n",
        "                           hidden_dim,\n",
        "                           num_layers,\n",
        "                           dropout=dropout if num_layers > 1 else None)\n",
        "        self.projection = nn.Linear(hidden_dim, vocab_size)\n",
        "        \n",
        "        # initialize weights\n",
        "        init_range = 0.1\n",
        "        self.embedding.weight.data.uniform_(-init_range, init_range)\n",
        "        self.projection.bias.data.zero_()\n",
        "        self.projection.weight.data.uniform_(-init_range, init_range)\n",
        "\n",
        "    def init_hidden(self, batch_size):\n",
        "        dims = (self.num_layers, batch_size, self.hidden_dim)\n",
        "        return (torch.zeros(*dims).cuda(),\n",
        "                torch.zeros(*dims).cuda())\n",
        "\n",
        "    def forward(self, input, hidden_state):\n",
        "        # TODO: implement the forward pass of the language model, making\n",
        "        #       use of the submodules defined in the constructor,\n",
        "        #       namely self.embedding, self.embedding_dropout,\n",
        "        #       self.rnn, self.rnn_output_dropout and self.projection.\n",
        "        #       You should use teacher forcing, which is described above.\n",
        "\n",
        "        input_embedding = []         \n",
        "        input_words_embedding = self.embedding(input)        \n",
        "        input_words_embedding_dropout = self.embedding_dropout(input_words_embedding)   \n",
        "        outputs, hidden_state = self.rnn(input_words_embedding_dropout, hidden_state)         \n",
        "        outputs_dropout = self.rnn_output_dropout(outputs)        \n",
        "        logits = self.projection(outputs_dropout)\n",
        "\n",
        "        return logits, hidden_state"
      ],
      "execution_count": 0,
      "outputs": []
    },
    {
      "cell_type": "markdown",
      "metadata": {
        "id": "wraQA3Aw7Xon",
        "colab_type": "text"
      },
      "source": [
        "# Data Preparation\n",
        "\n",
        "Let's prepare the training, validation and test data by means of function `prepare_data` defined above."
      ]
    },
    {
      "cell_type": "code",
      "metadata": {
        "id": "Jf6AFZIy3zLK",
        "colab_type": "code",
        "trusted": true,
        "colab": {}
      },
      "source": [
        "TRAIN_BATCH_SIZE = 150\n",
        "VALID_BATCH_SIZE = 15\n",
        "BPTT = 7\n",
        "train_data = prepare_data(train_token_ids, batch_size=TRAIN_BATCH_SIZE)\n",
        "valid_data = prepare_data(valid_token_ids, batch_size=VALID_BATCH_SIZE)\n",
        "test_data  = prepare_data(test_token_ids,  batch_size=VALID_BATCH_SIZE)"
      ],
      "execution_count": 0,
      "outputs": []
    },
    {
      "cell_type": "markdown",
      "metadata": {
        "id": "AHeJLTQt7kAQ",
        "colab_type": "text"
      },
      "source": [
        "# Model Training\n",
        "\n",
        "Now we can actually create the LM and train it:"
      ]
    },
    {
      "cell_type": "code",
      "metadata": {
        "id": "ap6GWZr1QrN9",
        "colab_type": "code",
        "trusted": true,
        "outputId": "02a300b5-c8a3-47f0-e471-ffccef3a03d9",
        "colab": {
          "base_uri": "https://localhost:8080/",
          "height": 1000
        }
      },
      "source": [
        "# TODO: choose an appropriate combination of hyperparameter values (number\n",
        "#       of epochs, embedding dimensionality, hidden size, number of layers,\n",
        "#       batch size, etc).\n",
        "\n",
        "NUM_EPOCHS = 30 \n",
        "LOG_INTERVAL = 400\n",
        "model = LanguageModel(len(idx2token), embed_dim=256, hidden_dim=256, num_layers=2).cuda()\n",
        "train_losses, valid_losses = train_model(model,\n",
        "                                         NUM_EPOCHS,\n",
        "                                         len(idx2token),\n",
        "                                         train_data,\n",
        "                                         valid_data,\n",
        "                                         BPTT,\n",
        "                                         TRAIN_BATCH_SIZE,\n",
        "                                         VALID_BATCH_SIZE,\n",
        "                                         LOG_INTERVAL)"
      ],
      "execution_count": 0,
      "outputs": [
        {
          "output_type": "stream",
          "text": [
            "epoch 0, progress: 0% avg.loss: 10.313241004943848\n",
            "epoch 0, progress: 6% avg.loss: 6.213298320770264\n",
            "epoch 0, progress: 12% avg.loss: 5.855354309082031\n",
            "epoch 0, progress: 18% avg.loss: 5.644989013671875\n",
            "epoch 0, progress: 24% avg.loss: 5.763052940368652\n",
            "epoch 0, progress: 31% avg.loss: 5.745199203491211\n",
            "epoch 0, progress: 37% avg.loss: 5.5280442237854\n",
            "epoch 0, progress: 43% avg.loss: 5.431530952453613\n",
            "epoch 0, progress: 49% avg.loss: 5.343242168426514\n",
            "epoch 0, progress: 55% avg.loss: 5.514772891998291\n",
            "epoch 0, progress: 62% avg.loss: 5.301994323730469\n",
            "epoch 0, progress: 68% avg.loss: 5.212421417236328\n",
            "epoch 0, progress: 74% avg.loss: 5.261684417724609\n",
            "epoch 0, progress: 80% avg.loss: 5.420518398284912\n",
            "epoch 0, progress: 87% avg.loss: 5.216050148010254\n",
            "epoch 0, progress: 93% avg.loss: 5.053778171539307\n",
            "epoch 0, progress: 99% avg.loss: 5.07714319229126\n",
            "epoch 0, validation loss: 5.055\n",
            "epoch 1, progress: 0% avg.loss: 5.600787162780762\n",
            "epoch 1, progress: 6% avg.loss: 5.138308048248291\n",
            "epoch 1, progress: 12% avg.loss: 5.051873207092285\n",
            "epoch 1, progress: 18% avg.loss: 4.927918910980225\n",
            "epoch 1, progress: 24% avg.loss: 5.104273796081543\n",
            "epoch 1, progress: 31% avg.loss: 5.161090850830078\n",
            "epoch 1, progress: 37% avg.loss: 4.995665073394775\n",
            "epoch 1, progress: 43% avg.loss: 4.948556423187256\n",
            "epoch 1, progress: 49% avg.loss: 4.835052490234375\n",
            "epoch 1, progress: 55% avg.loss: 5.094402313232422\n",
            "epoch 1, progress: 62% avg.loss: 4.906579971313477\n",
            "epoch 1, progress: 68% avg.loss: 4.835209369659424\n",
            "epoch 1, progress: 74% avg.loss: 4.947932720184326\n",
            "epoch 1, progress: 80% avg.loss: 5.083327293395996\n",
            "epoch 1, progress: 87% avg.loss: 4.930085182189941\n",
            "epoch 1, progress: 93% avg.loss: 4.721359729766846\n",
            "epoch 1, progress: 99% avg.loss: 4.804581165313721\n",
            "epoch 1, validation loss: 4.785\n",
            "epoch 2, progress: 0% avg.loss: 5.092267036437988\n",
            "epoch 2, progress: 6% avg.loss: 4.865837574005127\n",
            "epoch 2, progress: 12% avg.loss: 4.798280715942383\n",
            "epoch 2, progress: 18% avg.loss: 4.650993347167969\n",
            "epoch 2, progress: 24% avg.loss: 4.926876544952393\n",
            "epoch 2, progress: 31% avg.loss: 4.99500846862793\n",
            "epoch 2, progress: 37% avg.loss: 4.82297945022583\n",
            "epoch 2, progress: 43% avg.loss: 4.754013538360596\n",
            "epoch 2, progress: 49% avg.loss: 4.739855766296387\n",
            "epoch 2, progress: 55% avg.loss: 4.856177806854248\n",
            "epoch 2, progress: 62% avg.loss: 4.752252578735352\n",
            "epoch 2, progress: 68% avg.loss: 4.672125339508057\n",
            "epoch 2, progress: 74% avg.loss: 4.812473297119141\n",
            "epoch 2, progress: 80% avg.loss: 4.9631571769714355\n",
            "epoch 2, progress: 87% avg.loss: 4.754623889923096\n",
            "epoch 2, progress: 93% avg.loss: 4.630060195922852\n",
            "epoch 2, progress: 99% avg.loss: 4.612175941467285\n",
            "epoch 2, validation loss: 4.659\n",
            "epoch 3, progress: 0% avg.loss: 4.957531452178955\n",
            "epoch 3, progress: 6% avg.loss: 4.768490791320801\n",
            "epoch 3, progress: 12% avg.loss: 4.688528537750244\n",
            "epoch 3, progress: 18% avg.loss: 4.601227760314941\n",
            "epoch 3, progress: 24% avg.loss: 4.7652812004089355\n",
            "epoch 3, progress: 31% avg.loss: 4.916243076324463\n",
            "epoch 3, progress: 37% avg.loss: 4.719389915466309\n",
            "epoch 3, progress: 43% avg.loss: 4.680019378662109\n",
            "epoch 3, progress: 49% avg.loss: 4.653936862945557\n",
            "epoch 3, progress: 55% avg.loss: 4.702901363372803\n",
            "epoch 3, progress: 62% avg.loss: 4.657447338104248\n",
            "epoch 3, progress: 68% avg.loss: 4.577056884765625\n",
            "epoch 3, progress: 74% avg.loss: 4.661275863647461\n",
            "epoch 3, progress: 80% avg.loss: 4.890560150146484\n",
            "epoch 3, progress: 87% avg.loss: 4.709506511688232\n",
            "epoch 3, progress: 93% avg.loss: 4.554577350616455\n",
            "epoch 3, progress: 99% avg.loss: 4.5493855476379395\n",
            "epoch 3, validation loss: 4.573\n",
            "epoch 4, progress: 0% avg.loss: 4.8760857582092285\n",
            "epoch 4, progress: 6% avg.loss: 4.678788661956787\n",
            "epoch 4, progress: 12% avg.loss: 4.607500076293945\n",
            "epoch 4, progress: 18% avg.loss: 4.451204299926758\n",
            "epoch 4, progress: 24% avg.loss: 4.752886772155762\n",
            "epoch 4, progress: 31% avg.loss: 4.829134464263916\n",
            "epoch 4, progress: 37% avg.loss: 4.675952434539795\n",
            "epoch 4, progress: 43% avg.loss: 4.611889839172363\n",
            "epoch 4, progress: 49% avg.loss: 4.503742218017578\n",
            "epoch 4, progress: 55% avg.loss: 4.666714668273926\n",
            "epoch 4, progress: 62% avg.loss: 4.587374210357666\n",
            "epoch 4, progress: 68% avg.loss: 4.516751766204834\n",
            "epoch 4, progress: 74% avg.loss: 4.610652923583984\n",
            "epoch 4, progress: 80% avg.loss: 4.785335540771484\n",
            "epoch 4, progress: 87% avg.loss: 4.682024955749512\n",
            "epoch 4, progress: 93% avg.loss: 4.471922397613525\n",
            "epoch 4, progress: 99% avg.loss: 4.502600193023682\n",
            "epoch 4, validation loss: 4.519\n",
            "epoch 5, progress: 0% avg.loss: 4.7982563972473145\n",
            "epoch 5, progress: 6% avg.loss: 4.597504138946533\n",
            "epoch 5, progress: 12% avg.loss: 4.530079364776611\n",
            "epoch 5, progress: 18% avg.loss: 4.442433834075928\n",
            "epoch 5, progress: 24% avg.loss: 4.7069783210754395\n",
            "epoch 5, progress: 31% avg.loss: 4.732672214508057\n",
            "epoch 5, progress: 37% avg.loss: 4.596746921539307\n",
            "epoch 5, progress: 43% avg.loss: 4.579066753387451\n",
            "epoch 5, progress: 49% avg.loss: 4.4632368087768555\n",
            "epoch 5, progress: 55% avg.loss: 4.566313743591309\n",
            "epoch 5, progress: 62% avg.loss: 4.533851146697998\n",
            "epoch 5, progress: 68% avg.loss: 4.459402084350586\n",
            "epoch 5, progress: 74% avg.loss: 4.604489803314209\n",
            "epoch 5, progress: 80% avg.loss: 4.737217426300049\n",
            "epoch 5, progress: 87% avg.loss: 4.5936126708984375\n",
            "epoch 5, progress: 93% avg.loss: 4.3963775634765625\n",
            "epoch 5, progress: 99% avg.loss: 4.411243915557861\n",
            "epoch 5, validation loss: 4.475\n",
            "epoch 6, progress: 0% avg.loss: 4.7345685958862305\n",
            "epoch 6, progress: 6% avg.loss: 4.560382843017578\n",
            "epoch 6, progress: 12% avg.loss: 4.494284629821777\n",
            "epoch 6, progress: 18% avg.loss: 4.421684265136719\n",
            "epoch 6, progress: 24% avg.loss: 4.648657321929932\n",
            "epoch 6, progress: 31% avg.loss: 4.712281703948975\n",
            "epoch 6, progress: 37% avg.loss: 4.601449012756348\n",
            "epoch 6, progress: 43% avg.loss: 4.486666202545166\n",
            "epoch 6, progress: 49% avg.loss: 4.449591159820557\n",
            "epoch 6, progress: 55% avg.loss: 4.57908821105957\n",
            "epoch 6, progress: 62% avg.loss: 4.5304083824157715\n",
            "epoch 6, progress: 68% avg.loss: 4.427621364593506\n",
            "epoch 6, progress: 74% avg.loss: 4.557201385498047\n",
            "epoch 6, progress: 80% avg.loss: 4.709275245666504\n",
            "epoch 6, progress: 87% avg.loss: 4.549078464508057\n",
            "epoch 6, progress: 93% avg.loss: 4.4170050621032715\n",
            "epoch 6, progress: 99% avg.loss: 4.428900718688965\n",
            "epoch 6, validation loss: 4.442\n",
            "epoch 7, progress: 0% avg.loss: 4.752114295959473\n",
            "epoch 7, progress: 6% avg.loss: 4.513294696807861\n",
            "epoch 7, progress: 12% avg.loss: 4.473303318023682\n",
            "epoch 7, progress: 18% avg.loss: 4.3777689933776855\n",
            "epoch 7, progress: 24% avg.loss: 4.578595161437988\n",
            "epoch 7, progress: 31% avg.loss: 4.674114227294922\n",
            "epoch 7, progress: 37% avg.loss: 4.511424541473389\n",
            "epoch 7, progress: 43% avg.loss: 4.479300022125244\n",
            "epoch 7, progress: 49% avg.loss: 4.377034664154053\n",
            "epoch 7, progress: 55% avg.loss: 4.517180919647217\n",
            "epoch 7, progress: 62% avg.loss: 4.5493316650390625\n",
            "epoch 7, progress: 68% avg.loss: 4.385481357574463\n",
            "epoch 7, progress: 74% avg.loss: 4.542784690856934\n",
            "epoch 7, progress: 80% avg.loss: 4.697507858276367\n",
            "epoch 7, progress: 87% avg.loss: 4.5637946128845215\n",
            "epoch 7, progress: 93% avg.loss: 4.403417110443115\n",
            "epoch 7, progress: 99% avg.loss: 4.386404991149902\n",
            "epoch 7, validation loss: 4.411\n",
            "epoch 8, progress: 0% avg.loss: 4.75703763961792\n",
            "epoch 8, progress: 6% avg.loss: 4.493115425109863\n",
            "epoch 8, progress: 12% avg.loss: 4.388839244842529\n",
            "epoch 8, progress: 18% avg.loss: 4.337818622589111\n",
            "epoch 8, progress: 24% avg.loss: 4.562398910522461\n",
            "epoch 8, progress: 31% avg.loss: 4.660799026489258\n",
            "epoch 8, progress: 37% avg.loss: 4.425015449523926\n",
            "epoch 8, progress: 43% avg.loss: 4.422268390655518\n",
            "epoch 8, progress: 49% avg.loss: 4.375136852264404\n",
            "epoch 8, progress: 55% avg.loss: 4.5040059089660645\n",
            "epoch 8, progress: 62% avg.loss: 4.500421524047852\n",
            "epoch 8, progress: 68% avg.loss: 4.401290416717529\n",
            "epoch 8, progress: 74% avg.loss: 4.476625919342041\n",
            "epoch 8, progress: 80% avg.loss: 4.676410675048828\n",
            "epoch 8, progress: 87% avg.loss: 4.5096235275268555\n",
            "epoch 8, progress: 93% avg.loss: 4.384079933166504\n",
            "epoch 8, progress: 99% avg.loss: 4.369424343109131\n",
            "epoch 8, validation loss: 4.387\n",
            "epoch 9, progress: 0% avg.loss: 4.693347930908203\n",
            "epoch 9, progress: 6% avg.loss: 4.430323123931885\n",
            "epoch 9, progress: 12% avg.loss: 4.432762145996094\n",
            "epoch 9, progress: 18% avg.loss: 4.294880390167236\n",
            "epoch 9, progress: 24% avg.loss: 4.571156978607178\n",
            "epoch 9, progress: 31% avg.loss: 4.616420745849609\n",
            "epoch 9, progress: 37% avg.loss: 4.49827766418457\n",
            "epoch 9, progress: 43% avg.loss: 4.426699638366699\n",
            "epoch 9, progress: 49% avg.loss: 4.3988871574401855\n",
            "epoch 9, progress: 55% avg.loss: 4.43971586227417\n",
            "epoch 9, progress: 62% avg.loss: 4.512423515319824\n",
            "epoch 9, progress: 68% avg.loss: 4.368548393249512\n",
            "epoch 9, progress: 74% avg.loss: 4.499814987182617\n",
            "epoch 9, progress: 80% avg.loss: 4.651113986968994\n",
            "epoch 9, progress: 87% avg.loss: 4.482363700866699\n",
            "epoch 9, progress: 93% avg.loss: 4.332747936248779\n",
            "epoch 9, progress: 99% avg.loss: 4.3610920906066895\n",
            "epoch 9, validation loss: 4.374\n",
            "epoch 10, progress: 0% avg.loss: 4.736521244049072\n",
            "epoch 10, progress: 6% avg.loss: 4.44369649887085\n",
            "epoch 10, progress: 12% avg.loss: 4.3723530769348145\n",
            "epoch 10, progress: 18% avg.loss: 4.3128485679626465\n",
            "epoch 10, progress: 24% avg.loss: 4.522693157196045\n",
            "epoch 10, progress: 31% avg.loss: 4.6347880363464355\n",
            "epoch 10, progress: 37% avg.loss: 4.448094844818115\n",
            "epoch 10, progress: 43% avg.loss: 4.414699077606201\n",
            "epoch 10, progress: 49% avg.loss: 4.353041648864746\n",
            "epoch 10, progress: 55% avg.loss: 4.420373916625977\n",
            "epoch 10, progress: 62% avg.loss: 4.4643707275390625\n",
            "epoch 10, progress: 68% avg.loss: 4.33827543258667\n",
            "epoch 10, progress: 74% avg.loss: 4.485201835632324\n",
            "epoch 10, progress: 80% avg.loss: 4.622110843658447\n",
            "epoch 10, progress: 87% avg.loss: 4.483407974243164\n",
            "epoch 10, progress: 93% avg.loss: 4.355776786804199\n",
            "epoch 10, progress: 99% avg.loss: 4.29465913772583\n",
            "epoch 10, validation loss: 4.347\n",
            "epoch 11, progress: 0% avg.loss: 4.7010722160339355\n",
            "epoch 11, progress: 6% avg.loss: 4.44720458984375\n",
            "epoch 11, progress: 12% avg.loss: 4.340467929840088\n",
            "epoch 11, progress: 18% avg.loss: 4.2700276374816895\n",
            "epoch 11, progress: 24% avg.loss: 4.569492340087891\n",
            "epoch 11, progress: 31% avg.loss: 4.598630905151367\n",
            "epoch 11, progress: 37% avg.loss: 4.418025970458984\n",
            "epoch 11, progress: 43% avg.loss: 4.383353233337402\n",
            "epoch 11, progress: 49% avg.loss: 4.314161777496338\n",
            "epoch 11, progress: 55% avg.loss: 4.462704658508301\n",
            "epoch 11, progress: 62% avg.loss: 4.497162818908691\n",
            "epoch 11, progress: 68% avg.loss: 4.318662643432617\n",
            "epoch 11, progress: 74% avg.loss: 4.465603351593018\n",
            "epoch 11, progress: 80% avg.loss: 4.577216625213623\n",
            "epoch 11, progress: 87% avg.loss: 4.426448822021484\n",
            "epoch 11, progress: 93% avg.loss: 4.2874979972839355\n",
            "epoch 11, progress: 99% avg.loss: 4.346085548400879\n",
            "epoch 11, validation loss: 4.339\n",
            "epoch 12, progress: 0% avg.loss: 4.702246189117432\n",
            "epoch 12, progress: 6% avg.loss: 4.395326614379883\n",
            "epoch 12, progress: 12% avg.loss: 4.312060356140137\n",
            "epoch 12, progress: 18% avg.loss: 4.3038506507873535\n",
            "epoch 12, progress: 24% avg.loss: 4.521334648132324\n",
            "epoch 12, progress: 31% avg.loss: 4.6336894035339355\n",
            "epoch 12, progress: 37% avg.loss: 4.417877197265625\n",
            "epoch 12, progress: 43% avg.loss: 4.3704376220703125\n",
            "epoch 12, progress: 49% avg.loss: 4.322643280029297\n",
            "epoch 12, progress: 55% avg.loss: 4.4072113037109375\n",
            "epoch 12, progress: 62% avg.loss: 4.459155082702637\n",
            "epoch 12, progress: 68% avg.loss: 4.311733722686768\n",
            "epoch 12, progress: 74% avg.loss: 4.440797805786133\n",
            "epoch 12, progress: 80% avg.loss: 4.590710163116455\n",
            "epoch 12, progress: 87% avg.loss: 4.4760026931762695\n",
            "epoch 12, progress: 93% avg.loss: 4.272827625274658\n",
            "epoch 12, progress: 99% avg.loss: 4.358680248260498\n",
            "epoch 12, validation loss: 4.319\n",
            "epoch 13, progress: 0% avg.loss: 4.6771745681762695\n",
            "epoch 13, progress: 6% avg.loss: 4.345688343048096\n",
            "epoch 13, progress: 12% avg.loss: 4.3174238204956055\n",
            "epoch 13, progress: 18% avg.loss: 4.280055046081543\n",
            "epoch 13, progress: 24% avg.loss: 4.496535778045654\n",
            "epoch 13, progress: 31% avg.loss: 4.5939483642578125\n",
            "epoch 13, progress: 37% avg.loss: 4.4058837890625\n",
            "epoch 13, progress: 43% avg.loss: 4.371014595031738\n",
            "epoch 13, progress: 49% avg.loss: 4.280118465423584\n",
            "epoch 13, progress: 55% avg.loss: 4.380756855010986\n",
            "epoch 13, progress: 62% avg.loss: 4.4560441970825195\n",
            "epoch 13, progress: 68% avg.loss: 4.317551612854004\n",
            "epoch 13, progress: 74% avg.loss: 4.413735389709473\n",
            "epoch 13, progress: 80% avg.loss: 4.607107639312744\n",
            "epoch 13, progress: 87% avg.loss: 4.418517589569092\n",
            "epoch 13, progress: 93% avg.loss: 4.246720314025879\n",
            "epoch 13, progress: 99% avg.loss: 4.268398284912109\n",
            "epoch 13, validation loss: 4.315\n",
            "epoch 14, progress: 0% avg.loss: 4.67417573928833\n",
            "epoch 14, progress: 6% avg.loss: 4.327843189239502\n",
            "epoch 14, progress: 12% avg.loss: 4.324735164642334\n",
            "epoch 14, progress: 18% avg.loss: 4.260441780090332\n",
            "epoch 14, progress: 24% avg.loss: 4.495359897613525\n",
            "epoch 14, progress: 31% avg.loss: 4.572646141052246\n",
            "epoch 14, progress: 37% avg.loss: 4.380702018737793\n",
            "epoch 14, progress: 43% avg.loss: 4.354199409484863\n",
            "epoch 14, progress: 49% avg.loss: 4.285749912261963\n",
            "epoch 14, progress: 55% avg.loss: 4.349318027496338\n",
            "epoch 14, progress: 62% avg.loss: 4.417984962463379\n",
            "epoch 14, progress: 68% avg.loss: 4.289474964141846\n",
            "epoch 14, progress: 74% avg.loss: 4.404446125030518\n",
            "epoch 14, progress: 80% avg.loss: 4.5465087890625\n",
            "epoch 14, progress: 87% avg.loss: 4.410293102264404\n",
            "epoch 14, progress: 93% avg.loss: 4.25216817855835\n",
            "epoch 14, progress: 99% avg.loss: 4.267077445983887\n",
            "epoch 14, validation loss: 4.299\n",
            "epoch 15, progress: 0% avg.loss: 4.69802713394165\n",
            "epoch 15, progress: 6% avg.loss: 4.3485894203186035\n",
            "epoch 15, progress: 12% avg.loss: 4.3349151611328125\n",
            "epoch 15, progress: 18% avg.loss: 4.193233966827393\n",
            "epoch 15, progress: 24% avg.loss: 4.481054306030273\n",
            "epoch 15, progress: 31% avg.loss: 4.561526298522949\n",
            "epoch 15, progress: 37% avg.loss: 4.437136650085449\n",
            "epoch 15, progress: 43% avg.loss: 4.318005561828613\n",
            "epoch 15, progress: 49% avg.loss: 4.245517730712891\n",
            "epoch 15, progress: 55% avg.loss: 4.370022773742676\n",
            "epoch 15, progress: 62% avg.loss: 4.437190532684326\n",
            "epoch 15, progress: 68% avg.loss: 4.310665130615234\n",
            "epoch 15, progress: 74% avg.loss: 4.388546943664551\n",
            "epoch 15, progress: 80% avg.loss: 4.540896415710449\n",
            "epoch 15, progress: 87% avg.loss: 4.471874237060547\n",
            "epoch 15, progress: 93% avg.loss: 4.292867660522461\n",
            "epoch 15, progress: 99% avg.loss: 4.303688049316406\n",
            "epoch 15, validation loss: 4.295\n",
            "epoch 16, progress: 0% avg.loss: 4.641439437866211\n",
            "epoch 16, progress: 6% avg.loss: 4.366704940795898\n",
            "epoch 16, progress: 12% avg.loss: 4.288545608520508\n",
            "epoch 16, progress: 18% avg.loss: 4.199543476104736\n",
            "epoch 16, progress: 24% avg.loss: 4.509003162384033\n",
            "epoch 16, progress: 31% avg.loss: 4.5248870849609375\n",
            "epoch 16, progress: 37% avg.loss: 4.409910202026367\n",
            "epoch 16, progress: 43% avg.loss: 4.353862285614014\n",
            "epoch 16, progress: 49% avg.loss: 4.266350746154785\n",
            "epoch 16, progress: 55% avg.loss: 4.339355945587158\n",
            "epoch 16, progress: 62% avg.loss: 4.394880294799805\n",
            "epoch 16, progress: 68% avg.loss: 4.293298721313477\n",
            "epoch 16, progress: 74% avg.loss: 4.448904991149902\n",
            "epoch 16, progress: 80% avg.loss: 4.55537748336792\n",
            "epoch 16, progress: 87% avg.loss: 4.414468765258789\n",
            "epoch 16, progress: 93% avg.loss: 4.243163585662842\n",
            "epoch 16, progress: 99% avg.loss: 4.246069431304932\n",
            "epoch 16, validation loss: 4.290\n",
            "epoch 17, progress: 0% avg.loss: 4.635805606842041\n",
            "epoch 17, progress: 6% avg.loss: 4.355417728424072\n",
            "epoch 17, progress: 12% avg.loss: 4.293673038482666\n",
            "epoch 17, progress: 18% avg.loss: 4.220840930938721\n",
            "epoch 17, progress: 24% avg.loss: 4.4353203773498535\n",
            "epoch 17, progress: 31% avg.loss: 4.535987854003906\n",
            "epoch 17, progress: 37% avg.loss: 4.349180221557617\n",
            "epoch 17, progress: 43% avg.loss: 4.3069562911987305\n",
            "epoch 17, progress: 49% avg.loss: 4.284192085266113\n",
            "epoch 17, progress: 55% avg.loss: 4.334596157073975\n",
            "epoch 17, progress: 62% avg.loss: 4.398705005645752\n",
            "epoch 17, progress: 68% avg.loss: 4.246707439422607\n",
            "epoch 17, progress: 74% avg.loss: 4.4222092628479\n",
            "epoch 17, progress: 80% avg.loss: 4.495884418487549\n",
            "epoch 17, progress: 87% avg.loss: 4.400435924530029\n",
            "epoch 17, progress: 93% avg.loss: 4.1985063552856445\n",
            "epoch 17, progress: 99% avg.loss: 4.315432548522949\n",
            "epoch 17, validation loss: 4.283\n",
            "epoch 18, progress: 0% avg.loss: 4.683192729949951\n",
            "epoch 18, progress: 6% avg.loss: 4.363671779632568\n",
            "epoch 18, progress: 12% avg.loss: 4.281632423400879\n",
            "epoch 18, progress: 18% avg.loss: 4.2302632331848145\n",
            "epoch 18, progress: 24% avg.loss: 4.4663166999816895\n",
            "epoch 18, progress: 31% avg.loss: 4.545478343963623\n",
            "epoch 18, progress: 37% avg.loss: 4.383876800537109\n",
            "epoch 18, progress: 43% avg.loss: 4.336529731750488\n",
            "epoch 18, progress: 49% avg.loss: 4.2724151611328125\n",
            "epoch 18, progress: 55% avg.loss: 4.352336406707764\n",
            "epoch 18, progress: 62% avg.loss: 4.39811897277832\n",
            "epoch 18, progress: 68% avg.loss: 4.2526164054870605\n",
            "epoch 18, progress: 74% avg.loss: 4.37489652633667\n",
            "epoch 18, progress: 80% avg.loss: 4.518698692321777\n",
            "epoch 18, progress: 87% avg.loss: 4.432304382324219\n",
            "epoch 18, progress: 93% avg.loss: 4.2432942390441895\n",
            "epoch 18, progress: 99% avg.loss: 4.258009910583496\n",
            "epoch 18, validation loss: 4.264\n",
            "epoch 19, progress: 0% avg.loss: 4.633213043212891\n",
            "epoch 19, progress: 6% avg.loss: 4.3285088539123535\n",
            "epoch 19, progress: 12% avg.loss: 4.301431655883789\n",
            "epoch 19, progress: 18% avg.loss: 4.220737457275391\n",
            "epoch 19, progress: 24% avg.loss: 4.476356506347656\n",
            "epoch 19, progress: 31% avg.loss: 4.553906440734863\n",
            "epoch 19, progress: 37% avg.loss: 4.368156433105469\n",
            "epoch 19, progress: 43% avg.loss: 4.286965370178223\n",
            "epoch 19, progress: 49% avg.loss: 4.218757152557373\n",
            "epoch 19, progress: 55% avg.loss: 4.36027193069458\n",
            "epoch 19, progress: 62% avg.loss: 4.352081775665283\n",
            "epoch 19, progress: 68% avg.loss: 4.250518798828125\n",
            "epoch 19, progress: 74% avg.loss: 4.349897861480713\n",
            "epoch 19, progress: 80% avg.loss: 4.52821683883667\n",
            "epoch 19, progress: 87% avg.loss: 4.450016021728516\n",
            "epoch 19, progress: 93% avg.loss: 4.232705116271973\n",
            "epoch 19, progress: 99% avg.loss: 4.270898342132568\n",
            "epoch 19, validation loss: 4.267\n",
            "epoch 20, progress: 0% avg.loss: 4.665428638458252\n",
            "epoch 20, progress: 6% avg.loss: 4.289950370788574\n",
            "epoch 20, progress: 12% avg.loss: 4.253904342651367\n",
            "epoch 20, progress: 18% avg.loss: 4.213774681091309\n",
            "epoch 20, progress: 24% avg.loss: 4.426630973815918\n",
            "epoch 20, progress: 31% avg.loss: 4.544282913208008\n",
            "epoch 20, progress: 37% avg.loss: 4.426093578338623\n",
            "epoch 20, progress: 43% avg.loss: 4.2959136962890625\n",
            "epoch 20, progress: 49% avg.loss: 4.169070720672607\n",
            "epoch 20, progress: 55% avg.loss: 4.329862594604492\n",
            "epoch 20, progress: 62% avg.loss: 4.424264430999756\n",
            "epoch 20, progress: 68% avg.loss: 4.2285847663879395\n",
            "epoch 20, progress: 74% avg.loss: 4.330173969268799\n",
            "epoch 20, progress: 80% avg.loss: 4.527702331542969\n",
            "epoch 20, progress: 87% avg.loss: 4.417118549346924\n",
            "epoch 20, progress: 93% avg.loss: 4.210751533508301\n",
            "epoch 20, progress: 99% avg.loss: 4.264538288116455\n",
            "epoch 20, validation loss: 4.260\n",
            "epoch 21, progress: 0% avg.loss: 4.675574779510498\n",
            "epoch 21, progress: 6% avg.loss: 4.281637668609619\n",
            "epoch 21, progress: 12% avg.loss: 4.278583526611328\n",
            "epoch 21, progress: 18% avg.loss: 4.162118911743164\n",
            "epoch 21, progress: 24% avg.loss: 4.4606804847717285\n",
            "epoch 21, progress: 31% avg.loss: 4.514871120452881\n",
            "epoch 21, progress: 37% avg.loss: 4.320502758026123\n",
            "epoch 21, progress: 43% avg.loss: 4.336185932159424\n",
            "epoch 21, progress: 49% avg.loss: 4.233110427856445\n",
            "epoch 21, progress: 55% avg.loss: 4.317060470581055\n",
            "epoch 21, progress: 62% avg.loss: 4.354946613311768\n",
            "epoch 21, progress: 68% avg.loss: 4.2920331954956055\n",
            "epoch 21, progress: 74% avg.loss: 4.356050491333008\n",
            "epoch 21, progress: 80% avg.loss: 4.515976428985596\n",
            "epoch 21, progress: 87% avg.loss: 4.38162899017334\n",
            "epoch 21, progress: 93% avg.loss: 4.2243852615356445\n",
            "epoch 21, progress: 99% avg.loss: 4.256892204284668\n",
            "epoch 21, validation loss: 4.248\n",
            "epoch 22, progress: 0% avg.loss: 4.609222412109375\n",
            "epoch 22, progress: 6% avg.loss: 4.3124260902404785\n",
            "epoch 22, progress: 12% avg.loss: 4.2685441970825195\n",
            "epoch 22, progress: 18% avg.loss: 4.158632278442383\n",
            "epoch 22, progress: 24% avg.loss: 4.465320110321045\n",
            "epoch 22, progress: 31% avg.loss: 4.500310897827148\n",
            "epoch 22, progress: 37% avg.loss: 4.340209484100342\n",
            "epoch 22, progress: 43% avg.loss: 4.274384498596191\n",
            "epoch 22, progress: 49% avg.loss: 4.223559379577637\n",
            "epoch 22, progress: 55% avg.loss: 4.310218334197998\n",
            "epoch 22, progress: 62% avg.loss: 4.368912220001221\n",
            "epoch 22, progress: 68% avg.loss: 4.214488983154297\n",
            "epoch 22, progress: 74% avg.loss: 4.363870143890381\n",
            "epoch 22, progress: 80% avg.loss: 4.50775671005249\n",
            "epoch 22, progress: 87% avg.loss: 4.400737285614014\n",
            "epoch 22, progress: 93% avg.loss: 4.206766605377197\n",
            "epoch 22, progress: 99% avg.loss: 4.244219779968262\n",
            "epoch 22, validation loss: 4.247\n",
            "epoch 23, progress: 0% avg.loss: 4.685915470123291\n",
            "epoch 23, progress: 6% avg.loss: 4.250064849853516\n",
            "epoch 23, progress: 12% avg.loss: 4.2238664627075195\n",
            "epoch 23, progress: 18% avg.loss: 4.181707859039307\n",
            "epoch 23, progress: 24% avg.loss: 4.449708938598633\n",
            "epoch 23, progress: 31% avg.loss: 4.577209949493408\n",
            "epoch 23, progress: 37% avg.loss: 4.340426445007324\n",
            "epoch 23, progress: 43% avg.loss: 4.3210883140563965\n",
            "epoch 23, progress: 49% avg.loss: 4.17448616027832\n",
            "epoch 23, progress: 55% avg.loss: 4.283724308013916\n",
            "epoch 23, progress: 62% avg.loss: 4.363592624664307\n",
            "epoch 23, progress: 68% avg.loss: 4.287895679473877\n",
            "epoch 23, progress: 74% avg.loss: 4.3491363525390625\n",
            "epoch 23, progress: 80% avg.loss: 4.499436855316162\n",
            "epoch 23, progress: 87% avg.loss: 4.41858434677124\n",
            "epoch 23, progress: 93% avg.loss: 4.1655988693237305\n",
            "epoch 23, progress: 99% avg.loss: 4.174561500549316\n",
            "epoch 23, validation loss: 4.242\n",
            "epoch 24, progress: 0% avg.loss: 4.674759864807129\n",
            "epoch 24, progress: 6% avg.loss: 4.245514392852783\n",
            "epoch 24, progress: 12% avg.loss: 4.28748083114624\n",
            "epoch 24, progress: 18% avg.loss: 4.164401531219482\n",
            "epoch 24, progress: 24% avg.loss: 4.4538726806640625\n",
            "epoch 24, progress: 31% avg.loss: 4.542234897613525\n",
            "epoch 24, progress: 37% avg.loss: 4.358128547668457\n",
            "epoch 24, progress: 43% avg.loss: 4.287158012390137\n",
            "epoch 24, progress: 49% avg.loss: 4.169172286987305\n",
            "epoch 24, progress: 55% avg.loss: 4.328438758850098\n",
            "epoch 24, progress: 62% avg.loss: 4.40109395980835\n",
            "epoch 24, progress: 68% avg.loss: 4.205561637878418\n",
            "epoch 24, progress: 74% avg.loss: 4.390469074249268\n",
            "epoch 24, progress: 80% avg.loss: 4.507748126983643\n",
            "epoch 24, progress: 87% avg.loss: 4.361452102661133\n",
            "epoch 24, progress: 93% avg.loss: 4.208266258239746\n",
            "epoch 24, progress: 99% avg.loss: 4.216821193695068\n",
            "epoch 24, validation loss: 4.234\n",
            "epoch 25, progress: 0% avg.loss: 4.653762340545654\n",
            "epoch 25, progress: 6% avg.loss: 4.282689094543457\n",
            "epoch 25, progress: 12% avg.loss: 4.2441792488098145\n",
            "epoch 25, progress: 18% avg.loss: 4.178630352020264\n",
            "epoch 25, progress: 24% avg.loss: 4.420816421508789\n",
            "epoch 25, progress: 31% avg.loss: 4.47199821472168\n",
            "epoch 25, progress: 37% avg.loss: 4.312693119049072\n",
            "epoch 25, progress: 43% avg.loss: 4.280075550079346\n",
            "epoch 25, progress: 49% avg.loss: 4.194569110870361\n",
            "epoch 25, progress: 55% avg.loss: 4.306725978851318\n",
            "epoch 25, progress: 62% avg.loss: 4.355964660644531\n",
            "epoch 25, progress: 68% avg.loss: 4.242371082305908\n",
            "epoch 25, progress: 74% avg.loss: 4.3538737297058105\n",
            "epoch 25, progress: 80% avg.loss: 4.511311054229736\n",
            "epoch 25, progress: 87% avg.loss: 4.368755340576172\n",
            "epoch 25, progress: 93% avg.loss: 4.218764305114746\n",
            "epoch 25, progress: 99% avg.loss: 4.218744277954102\n",
            "epoch 25, validation loss: 4.229\n",
            "epoch 26, progress: 0% avg.loss: 4.655266761779785\n",
            "epoch 26, progress: 6% avg.loss: 4.281052112579346\n",
            "epoch 26, progress: 12% avg.loss: 4.2333269119262695\n",
            "epoch 26, progress: 18% avg.loss: 4.162876129150391\n",
            "epoch 26, progress: 24% avg.loss: 4.442492485046387\n",
            "epoch 26, progress: 31% avg.loss: 4.51405668258667\n",
            "epoch 26, progress: 37% avg.loss: 4.323328971862793\n",
            "epoch 26, progress: 43% avg.loss: 4.258770942687988\n",
            "epoch 26, progress: 49% avg.loss: 4.23322057723999\n",
            "epoch 26, progress: 55% avg.loss: 4.317303657531738\n",
            "epoch 26, progress: 62% avg.loss: 4.381180286407471\n",
            "epoch 26, progress: 68% avg.loss: 4.231515884399414\n",
            "epoch 26, progress: 74% avg.loss: 4.302210330963135\n",
            "epoch 26, progress: 80% avg.loss: 4.441226005554199\n",
            "epoch 26, progress: 87% avg.loss: 4.343921184539795\n",
            "epoch 26, progress: 93% avg.loss: 4.195159435272217\n",
            "epoch 26, progress: 99% avg.loss: 4.190975666046143\n",
            "epoch 26, validation loss: 4.229\n",
            "epoch 27, progress: 0% avg.loss: 4.6315460205078125\n",
            "epoch 27, progress: 6% avg.loss: 4.270571231842041\n",
            "epoch 27, progress: 12% avg.loss: 4.231771945953369\n",
            "epoch 27, progress: 18% avg.loss: 4.193416118621826\n",
            "epoch 27, progress: 24% avg.loss: 4.446771144866943\n",
            "epoch 27, progress: 31% avg.loss: 4.534423828125\n",
            "epoch 27, progress: 37% avg.loss: 4.299630165100098\n",
            "epoch 27, progress: 43% avg.loss: 4.216250896453857\n",
            "epoch 27, progress: 49% avg.loss: 4.154999256134033\n",
            "epoch 27, progress: 55% avg.loss: 4.281921863555908\n",
            "epoch 27, progress: 62% avg.loss: 4.3239593505859375\n",
            "epoch 27, progress: 68% avg.loss: 4.211826324462891\n",
            "epoch 27, progress: 74% avg.loss: 4.346678733825684\n",
            "epoch 27, progress: 80% avg.loss: 4.477816104888916\n",
            "epoch 27, progress: 87% avg.loss: 4.3735270500183105\n",
            "epoch 27, progress: 93% avg.loss: 4.2031941413879395\n",
            "epoch 27, progress: 99% avg.loss: 4.264313697814941\n",
            "epoch 27, validation loss: 4.219\n",
            "epoch 28, progress: 0% avg.loss: 4.630849361419678\n",
            "epoch 28, progress: 6% avg.loss: 4.217925548553467\n",
            "epoch 28, progress: 12% avg.loss: 4.234150409698486\n",
            "epoch 28, progress: 18% avg.loss: 4.183085918426514\n",
            "epoch 28, progress: 24% avg.loss: 4.437199592590332\n",
            "epoch 28, progress: 31% avg.loss: 4.513350486755371\n",
            "epoch 28, progress: 37% avg.loss: 4.292832851409912\n",
            "epoch 28, progress: 43% avg.loss: 4.289205551147461\n",
            "epoch 28, progress: 49% avg.loss: 4.149860382080078\n",
            "epoch 28, progress: 55% avg.loss: 4.290149211883545\n",
            "epoch 28, progress: 62% avg.loss: 4.347778797149658\n",
            "epoch 28, progress: 68% avg.loss: 4.196185111999512\n",
            "epoch 28, progress: 74% avg.loss: 4.3205766677856445\n",
            "epoch 28, progress: 80% avg.loss: 4.422482967376709\n",
            "epoch 28, progress: 87% avg.loss: 4.339275360107422\n",
            "epoch 28, progress: 93% avg.loss: 4.201478481292725\n",
            "epoch 28, progress: 99% avg.loss: 4.237791538238525\n",
            "epoch 28, validation loss: 4.218\n",
            "epoch 29, progress: 0% avg.loss: 4.657395362854004\n",
            "epoch 29, progress: 6% avg.loss: 4.256367206573486\n",
            "epoch 29, progress: 12% avg.loss: 4.20102071762085\n",
            "epoch 29, progress: 18% avg.loss: 4.165072441101074\n",
            "epoch 29, progress: 24% avg.loss: 4.38660192489624\n",
            "epoch 29, progress: 31% avg.loss: 4.492527961730957\n",
            "epoch 29, progress: 37% avg.loss: 4.314866065979004\n",
            "epoch 29, progress: 43% avg.loss: 4.266440391540527\n",
            "epoch 29, progress: 49% avg.loss: 4.179198265075684\n",
            "epoch 29, progress: 55% avg.loss: 4.236141681671143\n",
            "epoch 29, progress: 62% avg.loss: 4.321209907531738\n",
            "epoch 29, progress: 68% avg.loss: 4.220941543579102\n",
            "epoch 29, progress: 74% avg.loss: 4.284362316131592\n",
            "epoch 29, progress: 80% avg.loss: 4.467124938964844\n",
            "epoch 29, progress: 87% avg.loss: 4.400550842285156\n",
            "epoch 29, progress: 93% avg.loss: 4.192305564880371\n",
            "epoch 29, progress: 99% avg.loss: 4.19444465637207\n",
            "epoch 29, validation loss: 4.215\n"
          ],
          "name": "stdout"
        }
      ]
    },
    {
      "cell_type": "code",
      "metadata": {
        "id": "qBSRMS4-7Y8K",
        "colab_type": "code",
        "outputId": "abc0644b-13f9-46b4-e894-bffed8222094",
        "colab": {
          "base_uri": "https://localhost:8080/",
          "height": 146
        }
      },
      "source": [
        "from google.colab import drive\n",
        "drive.mount('/gdrive')\n",
        "%cd /gdrive\n"
      ],
      "execution_count": 0,
      "outputs": [
        {
          "output_type": "stream",
          "text": [
            "Go to this URL in a browser: https://accounts.google.com/o/oauth2/auth?client_id=947318989803-6bn6qk8qdgf4n4g3pfee6491hc0brc4i.apps.googleusercontent.com&redirect_uri=urn%3aietf%3awg%3aoauth%3a2.0%3aoob&response_type=code&scope=email%20https%3a%2f%2fwww.googleapis.com%2fauth%2fdocs.test%20https%3a%2f%2fwww.googleapis.com%2fauth%2fdrive%20https%3a%2f%2fwww.googleapis.com%2fauth%2fdrive.photos.readonly%20https%3a%2f%2fwww.googleapis.com%2fauth%2fpeopleapi.readonly\n",
            "\n",
            "Enter your authorization code:\n",
            "··········\n",
            "Mounted at /gdrive\n",
            "/gdrive\n"
          ],
          "name": "stdout"
        }
      ]
    },
    {
      "cell_type": "code",
      "metadata": {
        "id": "-EBqcIdP9ZPa",
        "colab_type": "code",
        "outputId": "33c9e0e0-b343-45a1-cf52-abae762f58ab",
        "colab": {
          "base_uri": "https://localhost:8080/",
          "height": 72
        }
      },
      "source": [
        "!ls\n",
        "direct=\"My Drive/Colab Notebooks/SLPDL/Lab2_model1.pth\"\n",
        "torch.save(model, direct)"
      ],
      "execution_count": 0,
      "outputs": [
        {
          "output_type": "stream",
          "text": [
            "'My Drive'\n"
          ],
          "name": "stdout"
        },
        {
          "output_type": "stream",
          "text": [
            "/usr/local/lib/python3.6/dist-packages/torch/serialization.py:360: UserWarning: Couldn't retrieve source code for container of type LanguageModel. It won't be checked for correctness upon loading.\n",
            "  \"type \" + obj.__name__ + \". It won't be checked \"\n"
          ],
          "name": "stderr"
        }
      ]
    },
    {
      "cell_type": "code",
      "metadata": {
        "id": "JPRn0F5rcSI_",
        "colab_type": "code",
        "colab": {}
      },
      "source": [
        "direct=\"My Drive/MATT/SLPDL/Lab2_model.pth\"\n",
        "model = torch.load(direct)"
      ],
      "execution_count": 0,
      "outputs": []
    },
    {
      "cell_type": "markdown",
      "metadata": {
        "id": "jE4P5eEc7-oC",
        "colab_type": "text"
      },
      "source": [
        "We can now plot the training and validation curves:"
      ]
    },
    {
      "cell_type": "code",
      "metadata": {
        "id": "kztj620xNXf4",
        "colab_type": "code",
        "outputId": "48800919-2f59-41fa-be6f-31d394a9290e",
        "colab": {
          "base_uri": "https://localhost:8080/",
          "height": 283
        }
      },
      "source": [
        "import matplotlib.pyplot as plt\n",
        "\n",
        "plt.plot(train_losses, label='train')\n",
        "valid_x_axis = [(1 + k) * len(train_losses)/len(valid_losses)\n",
        "                for k in range(len(valid_losses))]\n",
        "plt.plot(valid_x_axis, valid_losses, label='valid')\n",
        "plt.legend()"
      ],
      "execution_count": 0,
      "outputs": [
        {
          "output_type": "execute_result",
          "data": {
            "text/plain": [
              "<matplotlib.legend.Legend at 0x7fb3cd0c6630>"
            ]
          },
          "metadata": {
            "tags": []
          },
          "execution_count": 26
        },
        {
          "output_type": "display_data",
          "data": {
            "image/png": "[encoded data removed]",
            "text/plain": [
              "<Figure size 432x288 with 1 Axes>"
            ]
          },
          "metadata": {
            "tags": [],
            "needs_background": "light"
          }
        }
      ]
    },
    {
      "cell_type": "markdown",
      "metadata": {
        "id": "OXA3xFlR73mg",
        "colab_type": "text"
      },
      "source": [
        "# Inference\n",
        "\n",
        "We will now use our trained language model to actually generate text. Let's understand how that will happen. Remember from the beginning of the notebook that our LM actually is modeling the probability distribution of a token conditioned on the previous ones, right?: $p\\left(y_t|  y_1, \\ldots, y_{t-1} \\right)$ . So at each time step, we have a categorical probability distribution (i.e. the probability for the next token to be each of the possible tokens in our vocabulary). How do we obtain a token from a probability distribution over the token space? There are many ways but the most straightforward ones are:\n",
        "\n",
        "* Greedily: taking the most probable token (i.e. the token with highest probability, normally with `torch.argmax`).\n",
        "* Sampling: drawing a random sample from the categorical distribution, normally done with `torch.multinomial`.\n",
        "\n",
        "This way, we will predict the next token with one of the techniques above. Then, we will use this prediction as input for the next prediction, and so on. This is called \"**auto-regressive**\" inference.\n",
        "\n",
        "Nevertheless, we will not start from scratch. Instead, we will give the LM a piece of text (the \"context\") to be used as starting point, and then the LM should generate the following text.\n",
        "\n",
        "First of all, we need a function that performs over the same preprocessing over the context text that we performed for the training, validation and test data at the beginning of the notebook (normalization, tokenization and lowercasing), so that we can use it as input for our network:"
      ]
    },
    {
      "cell_type": "code",
      "metadata": {
        "id": "zt_SrwjOSEK9",
        "colab_type": "code",
        "colab": {}
      },
      "source": [
        "from sacremoses import MosesTokenizer, MosesDetokenizer, MosesPunctNormalizer\n",
        "\n",
        "normalizer = MosesPunctNormalizer()\n",
        "tokenizer = MosesTokenizer(lang='en')\n",
        "detokenizer = MosesDetokenizer(lang='en')\n",
        "\n",
        "def text2token_ids(token2idx, unk_token_id, text):\n",
        "    # TODO: implement the same preprocessing as with the\n",
        "    #       train/valid/test datasets, using sacremoses programmatic API\n",
        "    #       (normalization, tokenization, lowercasing). You can\n",
        "    #       check how to use it at https://github.com/alvations/sacremoses/\n",
        "\n",
        "    # Pre-processing\n",
        "    text_token_ids = []\n",
        "    norm_text = normalizer.normalize(text)\n",
        "    token_text = tokenizer.tokenize(norm_text)\n",
        "    \n",
        "    # Transofrm token to index\n",
        "    for token in token_text:\n",
        "        try:\n",
        "            token_id = token2idx[token.lower()]\n",
        "            text_token_ids.append(token_id)\n",
        "        except KeyError:\n",
        "            text_token_ids.append(unk_token_id)\n",
        "\n",
        "    return text_token_ids"
      ],
      "execution_count": 0,
      "outputs": []
    },
    {
      "cell_type": "markdown",
      "metadata": {
        "id": "Pi2c4epjSRPG",
        "colab_type": "text"
      },
      "source": [
        "Now we are actually going to use the LM to generate text. \n",
        "\n",
        "\n",
        "For this, we will supply the context text to the language model. The output of the LSTM will be our first prediction. We will use it as the input for the next token prediction, and so on. We will also need to carry the hidden state generated from the previous prediction."
      ]
    },
    {
      "cell_type": "markdown",
      "metadata": {
        "id": "Txc961YReeKK",
        "colab_type": "text"
      },
      "source": [
        "We will start by implementing greedy inference:"
      ]
    },
    {
      "cell_type": "code",
      "metadata": {
        "id": "8H4DW8DeseP2",
        "colab_type": "code",
        "colab": {}
      },
      "source": [
        "def inference_greedy(model, token2idx, idx2token, unk_token_id, eos_token_id, prefix_text, prediction_length):\n",
        "    # TODO: implement greedy inference\n",
        "    # Assign model to GPU\n",
        "    model.cuda()\n",
        "    final_sentence = [prefix_text]   \n",
        "    prefix_words_number = len(text2token_ids(token2idx,unk_token_id,prefix_text))\n",
        "\n",
        "    # Define initial hidden state\n",
        "    hidden = model.init_hidden(1)\n",
        "    # Obtain indexes of the initial text\n",
        "    idx_token = text2token_ids(token2idx,unk_token_id,prefix_text)\n",
        "    for i in range (1, prediction_length - prefix_words_number): \n",
        "      idx_token_torch = torch.LongTensor(idx_token)\n",
        "    \n",
        "      # Assign indices to GPU\n",
        "      idx_token_torch = idx_token_torch.cuda()\n",
        "\n",
        "      # Add a dimension to index (The model need it's)\n",
        "      idx_token_torch = idx_token_torch.unsqueeze(1) \n",
        "\n",
        "      # Send indices through the model\n",
        "      model.eval()\n",
        "\n",
        "      with torch.no_grad():\n",
        "        predicted, hidden = model(idx_token_torch,hidden)\n",
        " \n",
        "      # Take logit with max prob  \n",
        "      predicted_index = predicted[-1].argmax() \n",
        "\n",
        "      # If EOS, break. We don't print <EoS> token\n",
        "      if predicted_index == eos_token_id:      \n",
        "        break\n",
        "        \n",
        "      # Transform index -> token\n",
        "      predicted_token = idx2token[predicted_index.item()]\n",
        "      idx_token = [predicted_index]\n",
        "      final_sentence.append(predicted_token)\n",
        "\n",
        "    print(f'The predicted sentence is: \"{detokenizer.detokenize(final_sentence)}\"')\n",
        "\n",
        "    pass\n",
        " "
      ],
      "execution_count": 0,
      "outputs": []
    },
    {
      "cell_type": "markdown",
      "metadata": {
        "id": "xNkqc16uexqt",
        "colab_type": "text"
      },
      "source": [
        "Let's try it:"
      ]
    },
    {
      "cell_type": "code",
      "metadata": {
        "id": "-K7mXX3wexBi",
        "colab_type": "code",
        "outputId": "ef240631-aa54-4669-caf7-173637712226",
        "colab": {
          "base_uri": "https://localhost:8080/",
          "height": 35
        }
      },
      "source": [
        "inference_greedy(model, token2idx, idx2token, unk_token_id, eos_token_id, \"The Prime Minister declared\", 20)"
      ],
      "execution_count": 0,
      "outputs": [
        {
          "output_type": "stream",
          "text": [
            "The predicted sentence is: \"The Prime Minister declared that the us is not a good thing.\"\n"
          ],
          "name": "stdout"
        }
      ]
    },
    {
      "cell_type": "markdown",
      "metadata": {
        "id": "ff-I1iioILcb",
        "colab_type": "text"
      },
      "source": [
        "Hello Noe, as you can see, the predicted token is \"&apos;s\". We understand that this means \"'s\". We were wondering if we should translate this back to \"'s\" or just adapt our code so it can deal this type of entries.\n",
        "It also happens when the predicted token is <UNK>. "
      ]
    },
    {
      "cell_type": "markdown",
      "metadata": {
        "id": "M99oE7LVevCs",
        "colab_type": "text"
      },
      "source": [
        "Now we will implement random sampling:"
      ]
    },
    {
      "cell_type": "code",
      "metadata": {
        "id": "7DRxvrjEZWwX",
        "colab_type": "code",
        "colab": {}
      },
      "source": [
        "def inference_sampling(model, token2idx, idx2token, unk_token_id, eos_token_id, prefix_text, prediction_length):\n",
        "    # TODO: implement inference with sampling from the\n",
        "    #       categorical (multinomial) probability distribution.\n",
        "\n",
        "    # Assign model to GPU\n",
        "    model.cuda()\n",
        "    final_sentence = [prefix_text]   \n",
        "    prefix_words_number = len(text2token_ids(token2idx,unk_token_id,prefix_text))\n",
        "\n",
        "    # Define initial hidden state\n",
        "    hidden = model.init_hidden(1)\n",
        "    # Obtain indexes of the initial text\n",
        "    idx_token = text2token_ids(token2idx,unk_token_id,prefix_text)\n",
        "    for i in range (1, prediction_length - prefix_words_number): \n",
        "      idx_token_torch = torch.LongTensor(idx_token)\n",
        "    \n",
        "      # Assign indices to GPU\n",
        "      idx_token_torch = idx_token_torch.cuda()\n",
        "\n",
        "      # Add a dimension to index (The model need it's)\n",
        "      idx_token_torch = idx_token_torch.unsqueeze(1) \n",
        "\n",
        "      # Send indices through the model\n",
        "      model.eval()\n",
        "\n",
        "      with torch.no_grad():\n",
        "        predicted, hidden = model(idx_token_torch,hidden) \n",
        "   \n",
        "      # Modify logits to probability distribution\n",
        "      p_distrib = F.softmax(predicted[-1], dim=1) \n",
        "\n",
        "      # Send through multinomial \n",
        "      predicted_index = torch.multinomial(p_distrib, 1)\n",
        "\n",
        "      # Transform index -> token\n",
        "      predicted_token = idx2token[predicted_index]\n",
        "      idx_token = [predicted_index]\n",
        "      final_sentence.append(predicted_token)\n",
        "\n",
        "      # If EOS, break. We don't print <EoS> token\n",
        "      if predicted_index == eos_token_id:\n",
        "        break\n",
        "      \n",
        "    print(f'The predicted sentence is: \"{detokenizer.detokenize(final_sentence)}\"')\n",
        "\n",
        "    pass"
      ],
      "execution_count": 0,
      "outputs": []
    },
    {
      "cell_type": "markdown",
      "metadata": {
        "id": "LHFmGlxde7ji",
        "colab_type": "text"
      },
      "source": [
        "Let's try it:"
      ]
    },
    {
      "cell_type": "code",
      "metadata": {
        "id": "8FLy_SoOnx9e",
        "colab_type": "code",
        "trusted": true,
        "outputId": "fdd3bbdb-e14c-462e-a8c2-291931063965",
        "colab": {
          "base_uri": "https://localhost:8080/",
          "height": 34
        }
      },
      "source": [
        "inference_sampling(model, token2idx, idx2token, unk_token_id, eos_token_id, \"Hospitals in new york\", 20)"
      ],
      "execution_count": 0,
      "outputs": [
        {
          "output_type": "stream",
          "text": [
            "The predicted sentence is: \"Hospitals in new york times examining a <UNK> severely should be ethically considered a race for africa's consuming\"\n"
          ],
          "name": "stdout"
        }
      ]
    }
  ]
}